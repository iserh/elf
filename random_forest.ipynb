{
 "cells": [
  {
   "cell_type": "markdown",
   "id": "7d936036",
   "metadata": {},
   "source": [
    "# Random Forest"
   ]
  },
  {
   "cell_type": "markdown",
   "id": "85a0a5c7",
   "metadata": {},
   "source": [
    "### Requirements"
   ]
  },
  {
   "cell_type": "code",
   "execution_count": 58,
   "id": "d5bba398",
   "metadata": {
    "scrolled": true
   },
   "outputs": [],
   "source": [
    "from pathlib import Path\n",
    "\n",
    "import numpy as np\n",
    "import pandas as pd\n",
    "import torch\n",
    "from matplotlib import pyplot as plt\n",
    "from torchmetrics import Accuracy, SpearmanCorrcoef\n",
    "from tqdm.notebook import tqdm\n",
    "from sklearn.tree import DecisionTreeRegressor\n",
    "from sklearn.ensemble import RandomForestRegressor\n",
    "from scipy.stats import spearmanr\n",
    "\n",
    "from sentence_similarity.data import (CoreXFeatures, LDAFeatures, PreprocessingModule,\n",
    "                                      STSBenchmark, SyntaxFeatures)\n",
    "from sentence_similarity.data import PipelineConfig, Pipeline\n",
    "from sentence_similarity.corex import train_corex_model\n",
    "\n",
    "data_dir = Path('data')\n",
    "assert data_dir.exists()\n",
    "output_dir = Path('data/output')\n",
    "output_dir.mkdir(exist_ok=True, parents=True)"
   ]
  },
  {
   "cell_type": "code",
   "execution_count": null,
   "id": "3639de72-d37d-43a6-a3b9-b0dd80c8e6d6",
   "metadata": {},
   "outputs": [],
   "source": [
    "# Load benchmark dataset\n",
    "train_data = STSBenchmark(data_dir, partition=\"train\")\n",
    "test_data = STSBenchmark(data_dir, partition=\"test\")"
   ]
  },
  {
   "cell_type": "markdown",
   "id": "02e0177c",
   "metadata": {},
   "source": [
    "## Preprocessing, feature computation"
   ]
  },
  {
   "cell_type": "code",
   "execution_count": 60,
   "id": "e7e1acaf",
   "metadata": {},
   "outputs": [],
   "source": [
    "# train corex topic model\n",
    "config = PipelineConfig(\n",
    "    filtered_pos_tags=[],\n",
    "    use_lemmas=True,\n",
    "    remove_stop_words=True,\n",
    "    remove_numbers=False,\n",
    "    remove_symbols=False,\n",
    "    remove_punctuation=False,\n",
    ")\n",
    "pipeline = Pipeline(config)\n",
    "# train_corex_model(data_dir, config, train_data)"
   ]
  },
  {
   "cell_type": "code",
   "execution_count": 4,
   "id": "593b88dd",
   "metadata": {},
   "outputs": [
    {
     "name": "stdout",
     "output_type": "stream",
     "text": [
      "#topics: 50\n"
     ]
    }
   ],
   "source": [
    "# features for the model\n",
    "corex_feat = CoreXFeatures(data_dir)\n",
    "syntax_feat = SyntaxFeatures()\n",
    "print(f\"#topics: {corex_feat.input_size}\")"
   ]
  },
  {
   "cell_type": "code",
   "execution_count": 5,
   "id": "8023d808",
   "metadata": {},
   "outputs": [
    {
     "name": "stderr",
     "output_type": "stream",
     "text": [
      "Preprocessing: 100%|████████████████████████████████| 5552/5552 [00:03<00:00, 1582.72it/s]\n",
      "Preprocessing: 100%|████████████████████████████████| 5552/5552 [00:02<00:00, 1926.65it/s]\n",
      "Preprocessing: 100%|████████████████████████████████| 1095/1095 [00:00<00:00, 1822.85it/s]\n",
      "Preprocessing: 100%|████████████████████████████████| 1095/1095 [00:00<00:00, 1927.22it/s]\n"
     ]
    }
   ],
   "source": [
    "# compute topic probabilities\n",
    "topic_probs_train_1 = corex_feat(train_data.s1)\n",
    "topic_probs_train_2 = corex_feat(train_data.s2)\n",
    "topic_probs_test_1 = corex_feat(test_data.s1)\n",
    "topic_probs_test_2 = corex_feat(test_data.s2)\n",
    "# concatenate topics of the two sentences\n",
    "topic_probs_train = np.concatenate([topic_probs_train_1, topic_probs_train_2], axis=1)\n",
    "topic_probs_test = np.concatenate([topic_probs_test_1, topic_probs_test_2], axis=1)"
   ]
  },
  {
   "cell_type": "code",
   "execution_count": 6,
   "id": "3ea3583c",
   "metadata": {},
   "outputs": [],
   "source": [
    "# compute syntax tokens\n",
    "syntax_train_1 = syntax_feat(train_data.s1)\n",
    "syntax_train_2 = syntax_feat(train_data.s2)\n",
    "syntax_test_1 = syntax_feat(test_data.s1)\n",
    "syntax_test_2 = syntax_feat(test_data.s2)\n",
    "# mask matching syntax\n",
    "syntax_train = (syntax_train_1 == syntax_train_2).astype(int)\n",
    "syntax_test = (syntax_test_1 == syntax_test_2).astype(int)"
   ]
  },
  {
   "cell_type": "markdown",
   "id": "21fb0237",
   "metadata": {},
   "source": [
    "## Training without data augmentation"
   ]
  },
  {
   "cell_type": "code",
   "execution_count": 7,
   "id": "01c54bcc",
   "metadata": {},
   "outputs": [],
   "source": [
    "# create input vectors\n",
    "X_train = topic_probs_train  # np.concatenate([topic_probs_train, syntax_train], axis=1)\n",
    "X_test = topic_probs_test  # np.concatenate([topic_probs_test, syntax_test], axis=1)\n",
    "# create targets\n",
    "y_train = train_data.score\n",
    "y_test = test_data.score"
   ]
  },
  {
   "cell_type": "code",
   "execution_count": 44,
   "id": "539bac87",
   "metadata": {},
   "outputs": [
    {
     "name": "stdout",
     "output_type": "stream",
     "text": [
      "SpearmanRank-train: 0.9774,\t SpearmanRank-test: 0.4593\n"
     ]
    }
   ],
   "source": [
    "# train model\n",
    "model = RandomForestRegressor(criterion=\"squared_error\", n_estimators=100, random_state=1337)\n",
    "model.fit(X_train, y_train)\n",
    "# evaluate model\n",
    "spearman_train = spearmanr(model.predict(X_train), y_train)[0]\n",
    "spearman_test = spearmanr(model.predict(X_test), y_test)[0]\n",
    "print(f\"SpearmanRank-train: {spearman_train:.4f},\\t SpearmanRank-test: {spearman_test:.4f}\")"
   ]
  },
  {
   "cell_type": "markdown",
   "id": "75f60264",
   "metadata": {},
   "source": [
    "```python\n",
    "Spearmanrank_wo_syntax = 0.4593\n",
    "Spearmanrank_w_syntax = 0.4541\n",
    "```"
   ]
  },
  {
   "cell_type": "markdown",
   "id": "df8b30fd-3063-4941-9b5c-8ba14e948361",
   "metadata": {},
   "source": [
    "## Training with data augmentation"
   ]
  },
  {
   "cell_type": "code",
   "execution_count": 37,
   "id": "4605f626-fdda-4253-81aa-e58530d6c4d0",
   "metadata": {},
   "outputs": [],
   "source": [
    "# load augmentation dataset\n",
    "augmentation_data = pd.read_feather(data_dir / \"df_augment.feather\")"
   ]
  },
  {
   "cell_type": "code",
   "execution_count": 38,
   "id": "7f11a8e5-2a08-4886-9839-72c29bb8d5eb",
   "metadata": {},
   "outputs": [
    {
     "name": "stdout",
     "output_type": "stream",
     "text": [
      "#augmented: 1228\n"
     ]
    }
   ],
   "source": [
    "# get topics of the augmented sentences\n",
    "topic_probs_augmented = np.concatenate([\n",
    "    topic_probs_train_1[augmentation_data.idx1],\n",
    "    topic_probs_train_2[augmentation_data.idx2]\n",
    "], axis=1)\n",
    "\n",
    "# get dependencies of the augmented sentences\n",
    "syntax_augmented = syntax_train_1[augmentation_data.idx1] == syntax_train_2[augmentation_data.idx2]\n",
    "\n",
    "# create inputs / targets of augmented dataset\n",
    "X_augmented = topic_probs_augmented  # np.concatenate([topic_probs_augmented, syntax_augmented], axis=1)\n",
    "y_augmented = augmentation_data.score\n",
    "print(f\"#augmented: {y_augmented.shape[0]}\")"
   ]
  },
  {
   "cell_type": "code",
   "execution_count": 39,
   "id": "f969821a-3475-4763-9b32-9e04b85f497e",
   "metadata": {},
   "outputs": [
    {
     "name": "stdout",
     "output_type": "stream",
     "text": [
      "#(train+augmented): 1228\n"
     ]
    }
   ],
   "source": [
    "X_train_w_augment = np.concatenate([X_train, X_augmented])\n",
    "y_train_w_augment = np.concatenate([y_train, y_augmented])\n",
    "print(f\"#(train+augmented): {y_augmented.shape[0]}\")"
   ]
  },
  {
   "cell_type": "code",
   "execution_count": 45,
   "id": "090560af-8f6b-4a62-9439-639897783d23",
   "metadata": {},
   "outputs": [
    {
     "name": "stdout",
     "output_type": "stream",
     "text": [
      "SpearmanRank-train: 0.9689,\t SpearmanRank-test: 0.4557\n"
     ]
    }
   ],
   "source": [
    "# train model\n",
    "model = RandomForestRegressor(criterion=\"squared_error\", n_estimators=100, random_state=1337)\n",
    "model.fit(X_train_w_augment, y_train_w_augment)\n",
    "# evaluate model\n",
    "spearman_train = spearmanr(model.predict(X_train_w_augment), y_train_w_augment)[0]\n",
    "spearman_test = spearmanr(model.predict(X_test), y_test)[0]\n",
    "print(f\"SpearmanRank-train: {spearman_train:.4f},\\t SpearmanRank-test: {spearman_test:.4f}\")"
   ]
  },
  {
   "cell_type": "markdown",
   "id": "320adabc-693c-4e1a-97e6-fe99fb6e27b5",
   "metadata": {},
   "source": [
    "```python\n",
    "SpearmanRank = 0.4677\n",
    "np.random.seed(??)\n",
    "f = lambda x: np.exp(3*x) * 2  # sampling function - #1228\n",
    "\n",
    "SpearmanRank = 0.4557\n",
    "np.random.seed(42)\n",
    "f = lambda x: np.exp(3*x) * 2  # sampling function - #1228\n",
    "\n",
    "SpearmanRank = 0.4374\n",
    "np.random.seed(1337)\n",
    "f = lambda x: np.exp(4*x) * 2  # sampling function - #2655\n",
    "```"
   ]
  },
  {
   "cell_type": "markdown",
   "id": "a683639f",
   "metadata": {},
   "source": [
    "## Qualitative analysis"
   ]
  },
  {
   "cell_type": "code",
   "execution_count": 41,
   "id": "6df8f0f3",
   "metadata": {},
   "outputs": [],
   "source": [
    "# get predictions\n",
    "y_pred = model.predict(X_test)"
   ]
  },
  {
   "cell_type": "code",
   "execution_count": 64,
   "id": "db264611-0f48-4b8b-978c-9c1b637472c5",
   "metadata": {},
   "outputs": [
    {
     "name": "stderr",
     "output_type": "stream",
     "text": [
      "Preprocessing: 100%|████████████████████████████████| 1095/1095 [00:00<00:00, 2124.94it/s]\n",
      "Preprocessing: 100%|████████████████████████████████| 1095/1095 [00:00<00:00, 2140.75it/s]\n"
     ]
    }
   ],
   "source": [
    "df = test_data.df[[\"s1\", \"s2\"]].copy()\n",
    "df[\"s1_processed\"] = pipeline(df.s1)\n",
    "df[\"s2_processed\"] = pipeline(df.s2)\n",
    "df[\"y_true\"] = y_test\n",
    "df[\"y_pred\"] = y_pred\n",
    "df[[\"root\", \"nsubj\", \"dobj\"]] = [pd.Series(s) for s in syntax_test]"
   ]
  },
  {
   "cell_type": "code",
   "execution_count": 65,
   "id": "35b681c1",
   "metadata": {},
   "outputs": [
    {
     "data": {
      "text/html": [
       "<div>\n",
       "<style scoped>\n",
       "    .dataframe tbody tr th:only-of-type {\n",
       "        vertical-align: middle;\n",
       "    }\n",
       "\n",
       "    .dataframe tbody tr th {\n",
       "        vertical-align: top;\n",
       "    }\n",
       "\n",
       "    .dataframe thead th {\n",
       "        text-align: right;\n",
       "    }\n",
       "</style>\n",
       "<table border=\"1\" class=\"dataframe\">\n",
       "  <thead>\n",
       "    <tr style=\"text-align: right;\">\n",
       "      <th></th>\n",
       "      <th>s1</th>\n",
       "      <th>s2</th>\n",
       "      <th>s1_processed</th>\n",
       "      <th>s2_processed</th>\n",
       "      <th>y_true</th>\n",
       "      <th>y_pred</th>\n",
       "      <th>root</th>\n",
       "      <th>nsubj</th>\n",
       "      <th>dobj</th>\n",
       "    </tr>\n",
       "  </thead>\n",
       "  <tbody>\n",
       "    <tr>\n",
       "      <th>290</th>\n",
       "      <td>Blue and red plane in mid-air flight.</td>\n",
       "      <td>a blue and red airplane while in flight.</td>\n",
       "      <td>blue red plane mid-air flight.</td>\n",
       "      <td>blue red airplane flight.</td>\n",
       "      <td>0.96</td>\n",
       "      <td>0.456282</td>\n",
       "      <td>1</td>\n",
       "      <td>1</td>\n",
       "      <td>1</td>\n",
       "    </tr>\n",
       "    <tr>\n",
       "      <th>327</th>\n",
       "      <td>Three goats are being rounded up by a dog.</td>\n",
       "      <td>Three goats are chased by a dog.</td>\n",
       "      <td>goat round dog.</td>\n",
       "      <td>goat chase dog.</td>\n",
       "      <td>0.92</td>\n",
       "      <td>0.409502</td>\n",
       "      <td>1</td>\n",
       "      <td>1</td>\n",
       "      <td>1</td>\n",
       "    </tr>\n",
       "    <tr>\n",
       "      <th>331</th>\n",
       "      <td>A blue bird standing on a lawn.</td>\n",
       "      <td>Blue bird standing on green grass.</td>\n",
       "      <td>blue bird stand lawn.</td>\n",
       "      <td>blue bird stand green grass.</td>\n",
       "      <td>0.92</td>\n",
       "      <td>0.367149</td>\n",
       "      <td>0</td>\n",
       "      <td>0</td>\n",
       "      <td>1</td>\n",
       "    </tr>\n",
       "    <tr>\n",
       "      <th>429</th>\n",
       "      <td>A man and a dog on rocks on a beach.</td>\n",
       "      <td>A man and dog on a rocky seashore.</td>\n",
       "      <td>man dog rock beach.</td>\n",
       "      <td>man dog rocky seashore.</td>\n",
       "      <td>0.92</td>\n",
       "      <td>0.417146</td>\n",
       "      <td>1</td>\n",
       "      <td>1</td>\n",
       "      <td>1</td>\n",
       "    </tr>\n",
       "    <tr>\n",
       "      <th>482</th>\n",
       "      <td>A man in a black suit is surfing along a crash...</td>\n",
       "      <td>A surfer wearing a black wet suit is riding a ...</td>\n",
       "      <td>man black suit surf crash wave.</td>\n",
       "      <td>surfer wear black wet suit ride white wave ocean.</td>\n",
       "      <td>0.92</td>\n",
       "      <td>0.418285</td>\n",
       "      <td>1</td>\n",
       "      <td>1</td>\n",
       "      <td>1</td>\n",
       "    </tr>\n",
       "    <tr>\n",
       "      <th>864</th>\n",
       "      <td>\"The economy, nonetheless, has yet to exhibit ...</td>\n",
       "      <td>But the economy hasn't shown signs of sustaina...</td>\n",
       "      <td>\"economy, nonetheless, exhibit sustainable gro...</td>\n",
       "      <td>economy show sign sustainable growth.</td>\n",
       "      <td>0.95</td>\n",
       "      <td>0.436345</td>\n",
       "      <td>1</td>\n",
       "      <td>1</td>\n",
       "      <td>1</td>\n",
       "    </tr>\n",
       "    <tr>\n",
       "      <th>898</th>\n",
       "      <td>Gu Kailai murder trial ends in China</td>\n",
       "      <td>Gu Kailai's Murder Trial Ends in China</td>\n",
       "      <td>Gu Kailai murder trial end China</td>\n",
       "      <td>Gu KailaiMurder Trial Ends China</td>\n",
       "      <td>1.00</td>\n",
       "      <td>0.463862</td>\n",
       "      <td>0</td>\n",
       "      <td>0</td>\n",
       "      <td>1</td>\n",
       "    </tr>\n",
       "    <tr>\n",
       "      <th>1075</th>\n",
       "      <td>Protests continue in tense Ukraine capital</td>\n",
       "      <td>Protests Continue In Ukraine's Capital</td>\n",
       "      <td>protest continue tense Ukraine capital</td>\n",
       "      <td>protest continue Ukrainecapital</td>\n",
       "      <td>1.00</td>\n",
       "      <td>0.441970</td>\n",
       "      <td>1</td>\n",
       "      <td>1</td>\n",
       "      <td>1</td>\n",
       "    </tr>\n",
       "  </tbody>\n",
       "</table>\n",
       "</div>"
      ],
      "text/plain": [
       "                                                     s1  \\\n",
       "290               Blue and red plane in mid-air flight.   \n",
       "327          Three goats are being rounded up by a dog.   \n",
       "331                     A blue bird standing on a lawn.   \n",
       "429                A man and a dog on rocks on a beach.   \n",
       "482   A man in a black suit is surfing along a crash...   \n",
       "864   \"The economy, nonetheless, has yet to exhibit ...   \n",
       "898                Gu Kailai murder trial ends in China   \n",
       "1075         Protests continue in tense Ukraine capital   \n",
       "\n",
       "                                                     s2  \\\n",
       "290            a blue and red airplane while in flight.   \n",
       "327                    Three goats are chased by a dog.   \n",
       "331                  Blue bird standing on green grass.   \n",
       "429                  A man and dog on a rocky seashore.   \n",
       "482   A surfer wearing a black wet suit is riding a ...   \n",
       "864   But the economy hasn't shown signs of sustaina...   \n",
       "898              Gu Kailai's Murder Trial Ends in China   \n",
       "1075             Protests Continue In Ukraine's Capital   \n",
       "\n",
       "                                           s1_processed  \\\n",
       "290                      blue red plane mid-air flight.   \n",
       "327                                     goat round dog.   \n",
       "331                               blue bird stand lawn.   \n",
       "429                                 man dog rock beach.   \n",
       "482                     man black suit surf crash wave.   \n",
       "864   \"economy, nonetheless, exhibit sustainable gro...   \n",
       "898                    Gu Kailai murder trial end China   \n",
       "1075             protest continue tense Ukraine capital   \n",
       "\n",
       "                                           s2_processed  y_true    y_pred  \\\n",
       "290                           blue red airplane flight.    0.96  0.456282   \n",
       "327                                     goat chase dog.    0.92  0.409502   \n",
       "331                        blue bird stand green grass.    0.92  0.367149   \n",
       "429                             man dog rocky seashore.    0.92  0.417146   \n",
       "482   surfer wear black wet suit ride white wave ocean.    0.92  0.418285   \n",
       "864               economy show sign sustainable growth.    0.95  0.436345   \n",
       "898                    Gu KailaiMurder Trial Ends China    1.00  0.463862   \n",
       "1075                    protest continue Ukrainecapital    1.00  0.441970   \n",
       "\n",
       "      root  nsubj  dobj  \n",
       "290      1      1     1  \n",
       "327      1      1     1  \n",
       "331      0      0     1  \n",
       "429      1      1     1  \n",
       "482      1      1     1  \n",
       "864      1      1     1  \n",
       "898      0      0     1  \n",
       "1075     1      1     1  "
      ]
     },
     "execution_count": 65,
     "metadata": {},
     "output_type": "execute_result"
    }
   ],
   "source": [
    "df[(df.y_true - df.y_pred) > 0.5]"
   ]
  },
  {
   "cell_type": "markdown",
   "id": "2e543c6b",
   "metadata": {},
   "source": [
    "### Naive cosine similarity"
   ]
  },
  {
   "cell_type": "code",
   "execution_count": 66,
   "id": "fafa0631",
   "metadata": {},
   "outputs": [],
   "source": [
    "import spacy\n",
    "nlp = spacy.load(\"en_core_web_lg\", exclude=[\"ner\"])"
   ]
  },
  {
   "cell_type": "code",
   "execution_count": 70,
   "id": "b25653d0",
   "metadata": {},
   "outputs": [
    {
     "name": "stdout",
     "output_type": "stream",
     "text": [
      "SpearmanRank-test: 0.5218\n"
     ]
    }
   ],
   "source": [
    "df[\"tok2vec\"] = df[[\"s1\", \"s2\"]].apply(lambda row: nlp(row.s1).similarity(nlp(row.s2)), axis=1)\n",
    "print(f\"SpearmanRank-test: {spearmanr(df.tok2vec, df.y_true)[0]:.4f}\")"
   ]
  },
  {
   "cell_type": "code",
   "execution_count": 73,
   "id": "90a9139c",
   "metadata": {},
   "outputs": [
    {
     "name": "stdout",
     "output_type": "stream",
     "text": [
      "amod\tcc\tconj\tROOT\tprep\tamod\tamod\tcompound\tpobj\tpunct\n",
      "blue\tand\tred\tplane\tin\tmid\t-\tair\tflight\t.\n"
     ]
    }
   ],
   "source": [
    "doc = nlp(\"Blue and red plane in mid-air flight.\")\n",
    "print(\"\\t\".join([token.dep_ for token in doc]))\n",
    "print(\"\\t\".join([token.lemma_ for token in doc]))"
   ]
  }
 ],
 "metadata": {
  "kernelspec": {
   "display_name": "Python 3 (ipykernel)",
   "language": "python",
   "name": "python3"
  },
  "language_info": {
   "codemirror_mode": {
    "name": "ipython",
    "version": 3
   },
   "file_extension": ".py",
   "mimetype": "text/x-python",
   "name": "python",
   "nbconvert_exporter": "python",
   "pygments_lexer": "ipython3",
   "version": "3.9.7"
  }
 },
 "nbformat": 4,
 "nbformat_minor": 5
}
