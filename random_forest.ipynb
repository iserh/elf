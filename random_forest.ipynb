{
 "cells": [
  {
   "cell_type": "markdown",
   "id": "7d936036",
   "metadata": {},
   "source": [
    "# Random Forest"
   ]
  },
  {
   "cell_type": "markdown",
   "id": "1eae80a0-5b64-4fdc-a194-01b12a52297f",
   "metadata": {},
   "source": [
    "### Requirements"
   ]
  },
  {
   "cell_type": "code",
   "execution_count": 67,
   "id": "d5bba398",
   "metadata": {
    "scrolled": true
   },
   "outputs": [],
   "source": [
    "from pathlib import Path\n",
    "\n",
    "import numpy as np\n",
    "import pandas as pd\n",
    "from scipy.stats import spearmanr, pearsonr\n",
    "from sklearn.ensemble import RandomForestRegressor\n",
    "from sklearn.neural_network import MLPRegressor\n",
    "from sklearn.tree import DecisionTreeRegressor\n",
    "from utils import CoreXProbsFactory, preprocess, SyntaxFactory\n",
    "\n",
    "data_dir = Path(\"/home/iailab36/iser/data\")\n",
    "model_dir = Path(\"/home/iailab36/iser/models\")"
   ]
  },
  {
   "cell_type": "code",
   "execution_count": 2,
   "id": "3639de72-d37d-43a6-a3b9-b0dd80c8e6d6",
   "metadata": {},
   "outputs": [],
   "source": [
    "# Load benchmark dataset\n",
    "train_data = pd.read_feather(data_dir / \"stsbenchmark\" / \"sts-train.feather\")\n",
    "val_data = pd.read_feather(data_dir / \"stsbenchmark\" / \"sts-dev.feather\")"
   ]
  },
  {
   "cell_type": "markdown",
   "id": "a932b988-63fc-4b0d-9da6-7b1f28009044",
   "metadata": {},
   "source": [
    "## Pre-compute features"
   ]
  },
  {
   "cell_type": "code",
   "execution_count": 60,
   "id": "6dd268a3-0bc4-4346-82c3-af4fc9786a83",
   "metadata": {},
   "outputs": [],
   "source": [
    "features_train = []\n",
    "features_val = []"
   ]
  },
  {
   "cell_type": "markdown",
   "id": "fc3d9631-bda1-404d-82b6-de3cea1ea494",
   "metadata": {},
   "source": [
    "### topic model features"
   ]
  },
  {
   "cell_type": "code",
   "execution_count": 71,
   "id": "593b88dd",
   "metadata": {},
   "outputs": [],
   "source": [
    "get_topic_probs = CoreXProbsFactory(\n",
    "    vectorizer_path=model_dir / \"sts_vec=10000\",\n",
    "    corex_name=\"corex_n_hidden=128\",\n",
    ")"
   ]
  },
  {
   "cell_type": "code",
   "execution_count": 77,
   "id": "8023d808",
   "metadata": {},
   "outputs": [],
   "source": [
    "# compute topic probabilities\n",
    "topic_probs_train_1 = get_topic_probs(train_data.s1)\n",
    "topic_probs_train_2 = get_topic_probs(train_data.s2)\n",
    "topic_probs_val_1 = get_topic_probs(val_data.s1)\n",
    "topic_probs_val_2 = get_topic_probs(val_data.s2)\n",
    "# concatenate topics of the two sentences\n",
    "topic_probs_train = np.concatenate([topic_probs_train_1, topic_probs_train_2], axis=1)\n",
    "topic_probs_val = np.concatenate([topic_probs_val_1, topic_probs_val_2], axis=1)\n",
    "# add to features list\n",
    "features_train.append(topic_probs_train)\n",
    "features_val.append(topic_probs_val)\n",
    "\n",
    "# topic_probs_train_1 = topic_probs_train_1 / np.linalg.norm(topic_probs_train_1, axis=1)[:, None]\n",
    "# topic_probs_train_2 = topic_probs_train_2 / np.linalg.norm(topic_probs_train_2, axis=1)[:, None]\n",
    "\n",
    "# topic_probs_val_1 = topic_probs_val_1 / np.linalg.norm(topic_probs_val_1, axis=1)[:, None]\n",
    "# topic_probs_val_2 = topic_probs_val_2 / np.linalg.norm(topic_probs_val_2, axis=1)[:, None]"
   ]
  },
  {
   "cell_type": "markdown",
   "id": "3ec5e1bd-6f65-416a-ae66-d30480beb0ac",
   "metadata": {},
   "source": [
    "### syntax features"
   ]
  },
  {
   "cell_type": "code",
   "execution_count": 78,
   "id": "3ea3583c",
   "metadata": {},
   "outputs": [],
   "source": [
    "get_syntax_deps = SyntaxFactory()\n",
    "# compute syntax tokens\n",
    "syntax_train_1 = get_syntax_deps(train_data.s1)\n",
    "syntax_train_2 = get_syntax_deps(train_data.s2)\n",
    "syntax_val_1 = get_syntax_deps(val_data.s1)\n",
    "syntax_val_2 = get_syntax_deps(val_data.s2)\n",
    "# mask matching syntax\n",
    "syntax_train = (syntax_train_1 == syntax_train_2).astype(int)\n",
    "syntax_val = (syntax_val_1 == syntax_val_2).astype(int)\n",
    "# append to features list\n",
    "features_train.append(syntax_train)\n",
    "features_val.append(syntax_val)"
   ]
  },
  {
   "cell_type": "markdown",
   "id": "21fb0237",
   "metadata": {},
   "source": [
    "## Training without data augmentation"
   ]
  },
  {
   "cell_type": "code",
   "execution_count": 79,
   "id": "01c54bcc",
   "metadata": {},
   "outputs": [
    {
     "name": "stdout",
     "output_type": "stream",
     "text": [
      "X_train: (5552, 865)\n"
     ]
    }
   ],
   "source": [
    "# create input vectors\n",
    "X_train = np.concatenate(features_train, axis=1)\n",
    "X_val = np.concatenate(features_val, axis=1)\n",
    "# create targets\n",
    "y_train = train_data.score\n",
    "y_val = val_data.score\n",
    "print(\"X_train:\", X_train.shape)"
   ]
  },
  {
   "cell_type": "code",
   "execution_count": 80,
   "id": "cdd97aae",
   "metadata": {},
   "outputs": [],
   "source": [
    "# from sklearn.preprocessing import StandardScaler\n",
    "\n",
    "# scaler = StandardScaler()\n",
    "# X_train = scaler.fit_transform(X_train)\n",
    "# X_val = scaler.transform(X_val)"
   ]
  },
  {
   "cell_type": "code",
   "execution_count": 81,
   "id": "539bac87",
   "metadata": {},
   "outputs": [
    {
     "name": "stdout",
     "output_type": "stream",
     "text": [
      "SpearmanRank-train: 0.9791,\t SpearmanRank-val: 0.4904\n"
     ]
    }
   ],
   "source": [
    "# train model\n",
    "model = RandomForestRegressor(criterion=\"squared_error\", n_estimators=100, random_state=1337)\n",
    "# model = DecisionTreeRegressor(random_state=1337)\n",
    "# model = MLPRegressor((512, 256, 128))\n",
    "model.fit(X_train, y_train)\n",
    "# evaluate model\n",
    "spearman_train = spearmanr(model.predict(X_train), y_train)[0]\n",
    "spearman_val = spearmanr(model.predict(X_val), y_val)[0]\n",
    "print(f\"SpearmanRank-train: {spearman_train:.4f},\\t SpearmanRank-val: {spearman_val:.4f}\")"
   ]
  },
  {
   "cell_type": "markdown",
   "id": "75f60264",
   "metadata": {},
   "source": [
    "Only STS-Benchmark:\n",
    "```python\n",
    "spearmanrank_wo_syntax = 0.4593\n",
    "spearmanrank_w_syntax = 0.4541\n",
    "```\n",
    "\n",
    "STS-B + NLI:\n",
    "```python\n",
    "spearmanrank_wo_syntax = 0.4586\n",
    "spearmanrank_w_syntax = 0.4614\n",
    "```"
   ]
  },
  {
   "cell_type": "markdown",
   "id": "df8b30fd-3063-4941-9b5c-8ba14e948361",
   "metadata": {},
   "source": [
    "## Training with data augmentation"
   ]
  },
  {
   "cell_type": "code",
   "execution_count": null,
   "id": "4605f626-fdda-4253-81aa-e58530d6c4d0",
   "metadata": {},
   "outputs": [],
   "source": [
    "# # load augmentation dataset\n",
    "# aug_data = pd.read_feather(benchmark_dir / \"df_augment.feather\")\n",
    "\n",
    "# features_aug = []"
   ]
  },
  {
   "cell_type": "code",
   "execution_count": null,
   "id": "fc96d846",
   "metadata": {},
   "outputs": [],
   "source": [
    "# # get topics of the augmented sentences\n",
    "# topic_probs_augmented = np.concatenate([\n",
    "#     topic_probs_train_1[aug_data.idx1],\n",
    "#     topic_probs_train_2[aug_data.idx2]\n",
    "# ], axis=1)\n",
    "# features_aug.append(topic_probs_augmented)"
   ]
  },
  {
   "cell_type": "code",
   "execution_count": null,
   "id": "6aef96c1",
   "metadata": {},
   "outputs": [],
   "source": [
    "# syntax_aug = (syntax_train_1[aug_data.idx1] == syntax_train_2[aug_data.idx2]).astype(int)\n",
    "# features_aug.append(syntax_aug)"
   ]
  },
  {
   "cell_type": "code",
   "execution_count": null,
   "id": "7f11a8e5-2a08-4886-9839-72c29bb8d5eb",
   "metadata": {},
   "outputs": [],
   "source": [
    "# # create inputs / targets of augmented dataset\n",
    "# X_aug = np.concatenate(features_aug, axis=1)\n",
    "# y_aug = aug_data.score\n",
    "# print(f\"#augmented: {y_aug.shape[0]}\")"
   ]
  },
  {
   "cell_type": "code",
   "execution_count": null,
   "id": "f969821a-3475-4763-9b32-9e04b85f497e",
   "metadata": {},
   "outputs": [],
   "source": [
    "# X_train_w_aug = np.concatenate([X_train, X_aug])\n",
    "# y_train_w_aug = np.concatenate([y_train, y_aug])\n",
    "# print(f\"#(train+augmented): {y_aug.shape[0]}\")"
   ]
  },
  {
   "cell_type": "code",
   "execution_count": null,
   "id": "090560af-8f6b-4a62-9439-639897783d23",
   "metadata": {},
   "outputs": [],
   "source": [
    "# # train model\n",
    "# model = RandomForestRegressor(criterion=\"squared_error\", n_estimators=100, max_depth=15, random_state=1337)\n",
    "# model.fit(X_train_w_aug, y_train_w_aug)\n",
    "# # evaluate model\n",
    "# spearman_train = spearmanr(model.predict(X_train_w_aug), y_train_w_aug)[0]\n",
    "# spearman_test = spearmanr(model.predict(X_val), y_val)[0]\n",
    "# print(f\"SpearmanRank-train: {spearman_train:.4f},\\t SpearmanRank-val: {spearman_val:.4f}\")"
   ]
  },
  {
   "cell_type": "markdown",
   "id": "320adabc-693c-4e1a-97e6-fe99fb6e27b5",
   "metadata": {},
   "source": [
    "```python\n",
    "SpearmanRank = 0.4677\n",
    "np.random.seed(??)\n",
    "f = lambda x: np.exp(3*x) * 2  # sampling function - #1228\n",
    "\n",
    "SpearmanRank = 0.4557\n",
    "np.random.seed(42)\n",
    "f = lambda x: np.exp(3*x) * 2  # sampling function - #1228\n",
    "\n",
    "SpearmanRank = 0.4374\n",
    "np.random.seed(1337)\n",
    "f = lambda x: np.exp(4*x) * 2  # sampling function - #2655\n",
    "```"
   ]
  },
  {
   "cell_type": "markdown",
   "id": "a683639f",
   "metadata": {},
   "source": [
    "## Qualitative analysis"
   ]
  },
  {
   "cell_type": "code",
   "execution_count": 19,
   "id": "c3f1042d",
   "metadata": {},
   "outputs": [],
   "source": [
    "topic_probs_train_1 = np.exp(topic_probs_train_1)/np.exp(topic_probs_train_1).sum(0)\n",
    "topic_probs_train_2 = np.exp(topic_probs_train_2)/np.exp(topic_probs_train_2).sum(0)"
   ]
  },
  {
   "cell_type": "code",
   "execution_count": 20,
   "id": "ca992f7f",
   "metadata": {},
   "outputs": [],
   "source": [
    "x1 = topic_probs_val_1 / np.linalg.norm(topic_probs_val_1, axis=1)[:, None]\n",
    "x2 = topic_probs_val_2 / np.linalg.norm(topic_probs_val_2, axis=1)[:, None]"
   ]
  },
  {
   "cell_type": "code",
   "execution_count": 23,
   "id": "8fc58c53",
   "metadata": {},
   "outputs": [
    {
     "data": {
      "text/plain": [
       "0.005397021006452231"
      ]
     },
     "execution_count": 23,
     "metadata": {},
     "output_type": "execute_result"
    }
   ],
   "source": [
    "from scipy.stats import wasserstein_distance\n",
    "\n"
   ]
  },
  {
   "cell_type": "code",
   "execution_count": 32,
   "id": "d748176e",
   "metadata": {},
   "outputs": [],
   "source": [
    "dists = np.array([wasserstein_distance(topic_probs_val_1[i], topic_probs_val_2[i]) for i in range(len(topic_probs_val_1))])"
   ]
  },
  {
   "cell_type": "code",
   "execution_count": 37,
   "id": "20d4fefd",
   "metadata": {},
   "outputs": [],
   "source": [
    "from sklearn.preprocessing import MinMaxScaler\n",
    "\n",
    "mms = MinMaxScaler()\n",
    "y_naiv = mms.fit_transform(dists.reshape(-1, 1)).squeeze()"
   ]
  },
  {
   "cell_type": "code",
   "execution_count": 53,
   "id": "6d610117",
   "metadata": {},
   "outputs": [
    {
     "name": "stdout",
     "output_type": "stream",
     "text": [
      "SpearmanRank-val: 0.3802\n",
      "PearsonRank-val: 0.2768\n"
     ]
    }
   ],
   "source": [
    "y_naiv = (x1[:, None, ...] @ x2[..., None]).squeeze()\n",
    "\n",
    "spearman_val = spearmanr(y_naiv, y_val)[0]\n",
    "pearson_val = pearsonr(y_naiv, y_val)[0]\n",
    "print(f\"SpearmanRank-val: {spearman_val:.4f}\")\n",
    "print(f\"PearsonRank-val: {pearson_val:.4f}\")"
   ]
  },
  {
   "cell_type": "code",
   "execution_count": 54,
   "id": "660a9818",
   "metadata": {},
   "outputs": [
    {
     "name": "stdout",
     "output_type": "stream",
     "text": [
      "SpearmanRank-val: 0.4984\n",
      "PearsonRank-val: 0.5085\n"
     ]
    }
   ],
   "source": [
    "y_pred = model.predict(X_val)\n",
    "spearman_val = spearmanr(y_pred, y_val)[0]\n",
    "pearson_val = pearsonr(y_pred, y_val)[0]\n",
    "print(f\"SpearmanRank-val: {spearman_val:.4f}\")\n",
    "print(f\"PearsonRank-val: {pearson_val:.4f}\")"
   ]
  },
  {
   "cell_type": "code",
   "execution_count": 57,
   "id": "db264611-0f48-4b8b-978c-9c1b637472c5",
   "metadata": {},
   "outputs": [],
   "source": [
    "df = val_data[[\"s1\", \"s2\"]].copy()\n",
    "df[\"s1_processed\"] = df.s1.apply(preprocess)\n",
    "df[\"s2_processed\"] = df.s2.apply(preprocess)\n",
    "df[\"y_true\"] = y_val\n",
    "df[\"y_pred\"] = y_pred\n",
    "df[\"y_naiv\"] = y_naiv\n",
    "df[[\"root\", \"nsubj\", \"dobj\"]] = [pd.Series(s) for s in syntax_val]"
   ]
  },
  {
   "cell_type": "code",
   "execution_count": 58,
   "id": "35b681c1",
   "metadata": {},
   "outputs": [
    {
     "data": {
      "text/html": [
       "<div>\n",
       "<style scoped>\n",
       "    .dataframe tbody tr th:only-of-type {\n",
       "        vertical-align: middle;\n",
       "    }\n",
       "\n",
       "    .dataframe tbody tr th {\n",
       "        vertical-align: top;\n",
       "    }\n",
       "\n",
       "    .dataframe thead th {\n",
       "        text-align: right;\n",
       "    }\n",
       "</style>\n",
       "<table border=\"1\" class=\"dataframe\">\n",
       "  <thead>\n",
       "    <tr style=\"text-align: right;\">\n",
       "      <th></th>\n",
       "      <th>s1</th>\n",
       "      <th>s2</th>\n",
       "      <th>s1_processed</th>\n",
       "      <th>s2_processed</th>\n",
       "      <th>y_true</th>\n",
       "      <th>y_pred</th>\n",
       "      <th>y_naiv</th>\n",
       "      <th>root</th>\n",
       "      <th>nsubj</th>\n",
       "      <th>dobj</th>\n",
       "    </tr>\n",
       "  </thead>\n",
       "  <tbody>\n",
       "    <tr>\n",
       "      <th>8</th>\n",
       "      <td>Three men are playing guitars.</td>\n",
       "      <td>Three men are on stage playing guitars.</td>\n",
       "      <td>three men play guitar .</td>\n",
       "      <td>three men stage play guitar .</td>\n",
       "      <td>0.75</td>\n",
       "      <td>0.253675</td>\n",
       "      <td>0.998823</td>\n",
       "      <td>0</td>\n",
       "      <td>1</td>\n",
       "      <td>1</td>\n",
       "    </tr>\n",
       "    <tr>\n",
       "      <th>13</th>\n",
       "      <td>The man cut down a tree with an axe.</td>\n",
       "      <td>A man chops down a tree with an axe.</td>\n",
       "      <td>man cut tree axe .</td>\n",
       "      <td>man chop tree axe .</td>\n",
       "      <td>1.00</td>\n",
       "      <td>0.587711</td>\n",
       "      <td>0.999436</td>\n",
       "      <td>0</td>\n",
       "      <td>1</td>\n",
       "      <td>1</td>\n",
       "    </tr>\n",
       "    <tr>\n",
       "      <th>31</th>\n",
       "      <td>A band is performing on a stage.</td>\n",
       "      <td>A band is playing onstage.</td>\n",
       "      <td>band perform stage .</td>\n",
       "      <td>band play onstag .</td>\n",
       "      <td>1.00</td>\n",
       "      <td>0.513099</td>\n",
       "      <td>0.979967</td>\n",
       "      <td>0</td>\n",
       "      <td>1</td>\n",
       "      <td>1</td>\n",
       "    </tr>\n",
       "    <tr>\n",
       "      <th>34</th>\n",
       "      <td>A man sitting on the floor plays a guitar.</td>\n",
       "      <td>A man sitting on the floor in a room is strumm...</td>\n",
       "      <td>man sit floor play guitar .</td>\n",
       "      <td>man sit floor room strum guitar .</td>\n",
       "      <td>0.96</td>\n",
       "      <td>0.360893</td>\n",
       "      <td>0.998714</td>\n",
       "      <td>0</td>\n",
       "      <td>1</td>\n",
       "      <td>1</td>\n",
       "    </tr>\n",
       "    <tr>\n",
       "      <th>36</th>\n",
       "      <td>A man plays the violin.</td>\n",
       "      <td>A man is playing violin.</td>\n",
       "      <td>man play violin .</td>\n",
       "      <td>man play violin .</td>\n",
       "      <td>1.00</td>\n",
       "      <td>0.551297</td>\n",
       "      <td>1.000000</td>\n",
       "      <td>1</td>\n",
       "      <td>1</td>\n",
       "      <td>1</td>\n",
       "    </tr>\n",
       "    <tr>\n",
       "      <th>...</th>\n",
       "      <td>...</td>\n",
       "      <td>...</td>\n",
       "      <td>...</td>\n",
       "      <td>...</td>\n",
       "      <td>...</td>\n",
       "      <td>...</td>\n",
       "      <td>...</td>\n",
       "      <td>...</td>\n",
       "      <td>...</td>\n",
       "      <td>...</td>\n",
       "    </tr>\n",
       "    <tr>\n",
       "      <th>1456</th>\n",
       "      <td>All eyes on new Pak army chief Raheel Sharif</td>\n",
       "      <td>Flood alerts in France as river levels rise</td>\n",
       "      <td>eye new pak armi chief raheel sharif</td>\n",
       "      <td>flood alert franc river level rise</td>\n",
       "      <td>0.00</td>\n",
       "      <td>0.452157</td>\n",
       "      <td>0.952359</td>\n",
       "      <td>0</td>\n",
       "      <td>0</td>\n",
       "      <td>1</td>\n",
       "    </tr>\n",
       "    <tr>\n",
       "      <th>1468</th>\n",
       "      <td>Thai government says elections Feb. 2</td>\n",
       "      <td>Philippines government says peace talks with c...</td>\n",
       "      <td>thai govern say elect feb. num</td>\n",
       "      <td>philippin govern say peac talk communist fail</td>\n",
       "      <td>0.00</td>\n",
       "      <td>0.581147</td>\n",
       "      <td>0.895034</td>\n",
       "      <td>1</td>\n",
       "      <td>0</td>\n",
       "      <td>1</td>\n",
       "    </tr>\n",
       "    <tr>\n",
       "      <th>1469</th>\n",
       "      <td>Colorado Governor Visits School Shooting Victim</td>\n",
       "      <td>Colorado governor visits school shooting victim</td>\n",
       "      <td>colorado governor visit school shoot victim</td>\n",
       "      <td>colorado governor visit school shoot victim</td>\n",
       "      <td>1.00</td>\n",
       "      <td>0.492724</td>\n",
       "      <td>1.000000</td>\n",
       "      <td>0</td>\n",
       "      <td>0</td>\n",
       "      <td>1</td>\n",
       "    </tr>\n",
       "    <tr>\n",
       "      <th>1475</th>\n",
       "      <td>Algeria president gets therapy after stroke: s...</td>\n",
       "      <td>Bulgarian president tries to break election st...</td>\n",
       "      <td>algeria presid get therapi stroke : state media</td>\n",
       "      <td>bulgarian presid tri break elect stalem</td>\n",
       "      <td>0.08</td>\n",
       "      <td>0.509560</td>\n",
       "      <td>0.967273</td>\n",
       "      <td>0</td>\n",
       "      <td>1</td>\n",
       "      <td>1</td>\n",
       "    </tr>\n",
       "    <tr>\n",
       "      <th>1476</th>\n",
       "      <td>Yemen: Fighting in north kills over 120</td>\n",
       "      <td>Janet Yellen: Five things you might not know</td>\n",
       "      <td>yemen : fight north kill num</td>\n",
       "      <td>janet yellen : five thing might know</td>\n",
       "      <td>0.00</td>\n",
       "      <td>0.414377</td>\n",
       "      <td>0.940083</td>\n",
       "      <td>0</td>\n",
       "      <td>0</td>\n",
       "      <td>1</td>\n",
       "    </tr>\n",
       "  </tbody>\n",
       "</table>\n",
       "<p>208 rows × 10 columns</p>\n",
       "</div>"
      ],
      "text/plain": [
       "                                                     s1  \\\n",
       "8                        Three men are playing guitars.   \n",
       "13                 The man cut down a tree with an axe.   \n",
       "31                     A band is performing on a stage.   \n",
       "34           A man sitting on the floor plays a guitar.   \n",
       "36                              A man plays the violin.   \n",
       "...                                                 ...   \n",
       "1456       All eyes on new Pak army chief Raheel Sharif   \n",
       "1468              Thai government says elections Feb. 2   \n",
       "1469    Colorado Governor Visits School Shooting Victim   \n",
       "1475  Algeria president gets therapy after stroke: s...   \n",
       "1476            Yemen: Fighting in north kills over 120   \n",
       "\n",
       "                                                     s2  \\\n",
       "8               Three men are on stage playing guitars.   \n",
       "13                 A man chops down a tree with an axe.   \n",
       "31                           A band is playing onstage.   \n",
       "34    A man sitting on the floor in a room is strumm...   \n",
       "36                             A man is playing violin.   \n",
       "...                                                 ...   \n",
       "1456        Flood alerts in France as river levels rise   \n",
       "1468  Philippines government says peace talks with c...   \n",
       "1469    Colorado governor visits school shooting victim   \n",
       "1475  Bulgarian president tries to break election st...   \n",
       "1476       Janet Yellen: Five things you might not know   \n",
       "\n",
       "                                         s1_processed  \\\n",
       "8                             three men play guitar .   \n",
       "13                                 man cut tree axe .   \n",
       "31                               band perform stage .   \n",
       "34                        man sit floor play guitar .   \n",
       "36                                  man play violin .   \n",
       "...                                               ...   \n",
       "1456             eye new pak armi chief raheel sharif   \n",
       "1468                   thai govern say elect feb. num   \n",
       "1469      colorado governor visit school shoot victim   \n",
       "1475  algeria presid get therapi stroke : state media   \n",
       "1476                     yemen : fight north kill num   \n",
       "\n",
       "                                       s2_processed  y_true    y_pred  \\\n",
       "8                     three men stage play guitar .    0.75  0.253675   \n",
       "13                              man chop tree axe .    1.00  0.587711   \n",
       "31                               band play onstag .    1.00  0.513099   \n",
       "34                man sit floor room strum guitar .    0.96  0.360893   \n",
       "36                                man play violin .    1.00  0.551297   \n",
       "...                                             ...     ...       ...   \n",
       "1456             flood alert franc river level rise    0.00  0.452157   \n",
       "1468  philippin govern say peac talk communist fail    0.00  0.581147   \n",
       "1469    colorado governor visit school shoot victim    1.00  0.492724   \n",
       "1475        bulgarian presid tri break elect stalem    0.08  0.509560   \n",
       "1476           janet yellen : five thing might know    0.00  0.414377   \n",
       "\n",
       "        y_naiv  root  nsubj  dobj  \n",
       "8     0.998823     0      1     1  \n",
       "13    0.999436     0      1     1  \n",
       "31    0.979967     0      1     1  \n",
       "34    0.998714     0      1     1  \n",
       "36    1.000000     1      1     1  \n",
       "...        ...   ...    ...   ...  \n",
       "1456  0.952359     0      0     1  \n",
       "1468  0.895034     1      0     1  \n",
       "1469  1.000000     0      0     1  \n",
       "1475  0.967273     0      1     1  \n",
       "1476  0.940083     0      0     1  \n",
       "\n",
       "[208 rows x 10 columns]"
      ]
     },
     "execution_count": 58,
     "metadata": {},
     "output_type": "execute_result"
    }
   ],
   "source": [
    "df[(df.y_true - df.y_pred).abs() > 0.4]"
   ]
  },
  {
   "cell_type": "code",
   "execution_count": 30,
   "id": "d1c79e24",
   "metadata": {},
   "outputs": [
    {
     "name": "stderr",
     "output_type": "stream",
     "text": [
      "/home/iai/user/iser/.conda/envs/main/lib/python3.9/site-packages/sklearn/utils/deprecation.py:87: FutureWarning: Function get_feature_names is deprecated; get_feature_names is deprecated in 1.0 and will be removed in 1.2. Please use get_feature_names_out instead.\n",
      "  warnings.warn(msg, category=FutureWarning)\n"
     ]
    },
    {
     "data": {
      "text/plain": [
       "True"
      ]
     },
     "execution_count": 30,
     "metadata": {},
     "output_type": "execute_result"
    }
   ],
   "source": [
    "\"ad\" in get_topic_probs.vectorizer.get_feature_names()"
   ]
  },
  {
   "cell_type": "code",
   "execution_count": null,
   "id": "d2b52d4e",
   "metadata": {},
   "outputs": [],
   "source": [
    "get_syntax_deps(val_data.s1)[7]"
   ]
  },
  {
   "cell_type": "code",
   "execution_count": 87,
   "id": "2d71dd82-4907-44ff-a30e-6ec8ab295f10",
   "metadata": {},
   "outputs": [
    {
     "data": {
      "text/html": [
       "<div>\n",
       "<style scoped>\n",
       "    .dataframe tbody tr th:only-of-type {\n",
       "        vertical-align: middle;\n",
       "    }\n",
       "\n",
       "    .dataframe tbody tr th {\n",
       "        vertical-align: top;\n",
       "    }\n",
       "\n",
       "    .dataframe thead th {\n",
       "        text-align: right;\n",
       "    }\n",
       "</style>\n",
       "<table border=\"1\" class=\"dataframe\">\n",
       "  <thead>\n",
       "    <tr style=\"text-align: right;\">\n",
       "      <th></th>\n",
       "      <th>s1</th>\n",
       "      <th>s2</th>\n",
       "      <th>s1_processed</th>\n",
       "      <th>s2_processed</th>\n",
       "      <th>y_true</th>\n",
       "      <th>y_pred</th>\n",
       "      <th>y_naiv</th>\n",
       "      <th>root</th>\n",
       "      <th>nsubj</th>\n",
       "      <th>dobj</th>\n",
       "    </tr>\n",
       "  </thead>\n",
       "  <tbody>\n",
       "    <tr>\n",
       "      <th>3</th>\n",
       "      <td>A woman is playing the guitar.</td>\n",
       "      <td>A man is playing guitar.</td>\n",
       "      <td>woman play guitar .</td>\n",
       "      <td>man play guitar .</td>\n",
       "      <td>0.4800</td>\n",
       "      <td>0.491335</td>\n",
       "      <td>0.999893</td>\n",
       "      <td>1</td>\n",
       "      <td>0</td>\n",
       "      <td>1</td>\n",
       "    </tr>\n",
       "    <tr>\n",
       "      <th>4</th>\n",
       "      <td>A woman is playing the flute.</td>\n",
       "      <td>A man is playing a flute.</td>\n",
       "      <td>woman play flute .</td>\n",
       "      <td>man play flute .</td>\n",
       "      <td>0.5500</td>\n",
       "      <td>0.591738</td>\n",
       "      <td>0.999916</td>\n",
       "      <td>1</td>\n",
       "      <td>0</td>\n",
       "      <td>1</td>\n",
       "    </tr>\n",
       "    <tr>\n",
       "      <th>5</th>\n",
       "      <td>A woman is cutting an onion.</td>\n",
       "      <td>A man is cutting onions.</td>\n",
       "      <td>woman cut onion .</td>\n",
       "      <td>man cut onion .</td>\n",
       "      <td>0.5230</td>\n",
       "      <td>0.664033</td>\n",
       "      <td>0.999944</td>\n",
       "      <td>1</td>\n",
       "      <td>0</td>\n",
       "      <td>1</td>\n",
       "    </tr>\n",
       "    <tr>\n",
       "      <th>7</th>\n",
       "      <td>A woman is carrying a boy.</td>\n",
       "      <td>A woman is carrying her baby.</td>\n",
       "      <td>woman carri boy .</td>\n",
       "      <td>woman carri babi .</td>\n",
       "      <td>0.4666</td>\n",
       "      <td>0.448435</td>\n",
       "      <td>0.998882</td>\n",
       "      <td>1</td>\n",
       "      <td>1</td>\n",
       "      <td>1</td>\n",
       "    </tr>\n",
       "    <tr>\n",
       "      <th>10</th>\n",
       "      <td>People are playing cricket.</td>\n",
       "      <td>Men are playing cricket.</td>\n",
       "      <td>peopl play cricket .</td>\n",
       "      <td>men play cricket .</td>\n",
       "      <td>0.6400</td>\n",
       "      <td>0.652883</td>\n",
       "      <td>0.999716</td>\n",
       "      <td>1</td>\n",
       "      <td>0</td>\n",
       "      <td>1</td>\n",
       "    </tr>\n",
       "    <tr>\n",
       "      <th>...</th>\n",
       "      <td>...</td>\n",
       "      <td>...</td>\n",
       "      <td>...</td>\n",
       "      <td>...</td>\n",
       "      <td>...</td>\n",
       "      <td>...</td>\n",
       "      <td>...</td>\n",
       "      <td>...</td>\n",
       "      <td>...</td>\n",
       "      <td>...</td>\n",
       "    </tr>\n",
       "    <tr>\n",
       "      <th>1468</th>\n",
       "      <td>Thai government says elections Feb. 2</td>\n",
       "      <td>Philippines government says peace talks with c...</td>\n",
       "      <td>thai govern say elect feb. num</td>\n",
       "      <td>philippin govern say peac talk communist fail</td>\n",
       "      <td>0.0000</td>\n",
       "      <td>0.499054</td>\n",
       "      <td>0.895034</td>\n",
       "      <td>1</td>\n",
       "      <td>0</td>\n",
       "      <td>1</td>\n",
       "    </tr>\n",
       "    <tr>\n",
       "      <th>1470</th>\n",
       "      <td>Pakistani Taliban chief Hakimullah Mehsud kill...</td>\n",
       "      <td>Pakistani Taliban 'elect new chief', vow 'unpr...</td>\n",
       "      <td>pakistani taliban chief hakimullah mehsud kill...</td>\n",
       "      <td>pakistani taliban elect new chief , vow unprec...</td>\n",
       "      <td>0.2400</td>\n",
       "      <td>0.571863</td>\n",
       "      <td>0.939900</td>\n",
       "      <td>0</td>\n",
       "      <td>0</td>\n",
       "      <td>1</td>\n",
       "    </tr>\n",
       "    <tr>\n",
       "      <th>1471</th>\n",
       "      <td>House blaze kills 7 in northern Pakistan</td>\n",
       "      <td>US drone strike kills 8 in NW Pakistan</td>\n",
       "      <td>hous blaze kill num northern pakistan</td>\n",
       "      <td>us drone strike kill num nw pakistan</td>\n",
       "      <td>0.2800</td>\n",
       "      <td>0.468497</td>\n",
       "      <td>0.991205</td>\n",
       "      <td>1</td>\n",
       "      <td>0</td>\n",
       "      <td>1</td>\n",
       "    </tr>\n",
       "    <tr>\n",
       "      <th>1475</th>\n",
       "      <td>Algeria president gets therapy after stroke: s...</td>\n",
       "      <td>Bulgarian president tries to break election st...</td>\n",
       "      <td>algeria presid get therapi stroke : state media</td>\n",
       "      <td>bulgarian presid tri break elect stalem</td>\n",
       "      <td>0.0800</td>\n",
       "      <td>0.449823</td>\n",
       "      <td>0.967273</td>\n",
       "      <td>0</td>\n",
       "      <td>1</td>\n",
       "      <td>1</td>\n",
       "    </tr>\n",
       "    <tr>\n",
       "      <th>1476</th>\n",
       "      <td>Yemen: Fighting in north kills over 120</td>\n",
       "      <td>Janet Yellen: Five things you might not know</td>\n",
       "      <td>yemen : fight north kill num</td>\n",
       "      <td>janet yellen : five thing might know</td>\n",
       "      <td>0.0000</td>\n",
       "      <td>0.443135</td>\n",
       "      <td>0.940083</td>\n",
       "      <td>0</td>\n",
       "      <td>0</td>\n",
       "      <td>1</td>\n",
       "    </tr>\n",
       "  </tbody>\n",
       "</table>\n",
       "<p>998 rows × 10 columns</p>\n",
       "</div>"
      ],
      "text/plain": [
       "                                                     s1  \\\n",
       "3                        A woman is playing the guitar.   \n",
       "4                         A woman is playing the flute.   \n",
       "5                          A woman is cutting an onion.   \n",
       "7                            A woman is carrying a boy.   \n",
       "10                          People are playing cricket.   \n",
       "...                                                 ...   \n",
       "1468              Thai government says elections Feb. 2   \n",
       "1470  Pakistani Taliban chief Hakimullah Mehsud kill...   \n",
       "1471           House blaze kills 7 in northern Pakistan   \n",
       "1475  Algeria president gets therapy after stroke: s...   \n",
       "1476            Yemen: Fighting in north kills over 120   \n",
       "\n",
       "                                                     s2  \\\n",
       "3                              A man is playing guitar.   \n",
       "4                             A man is playing a flute.   \n",
       "5                              A man is cutting onions.   \n",
       "7                         A woman is carrying her baby.   \n",
       "10                             Men are playing cricket.   \n",
       "...                                                 ...   \n",
       "1468  Philippines government says peace talks with c...   \n",
       "1470  Pakistani Taliban 'elect new chief', vow 'unpr...   \n",
       "1471             US drone strike kills 8 in NW Pakistan   \n",
       "1475  Bulgarian president tries to break election st...   \n",
       "1476       Janet Yellen: Five things you might not know   \n",
       "\n",
       "                                           s1_processed  \\\n",
       "3                                   woman play guitar .   \n",
       "4                                    woman play flute .   \n",
       "5                                     woman cut onion .   \n",
       "7                                     woman carri boy .   \n",
       "10                                 peopl play cricket .   \n",
       "...                                                 ...   \n",
       "1468                     thai govern say elect feb. num   \n",
       "1470  pakistani taliban chief hakimullah mehsud kill...   \n",
       "1471              hous blaze kill num northern pakistan   \n",
       "1475    algeria presid get therapi stroke : state media   \n",
       "1476                       yemen : fight north kill num   \n",
       "\n",
       "                                           s2_processed  y_true    y_pred  \\\n",
       "3                                     man play guitar .  0.4800  0.491335   \n",
       "4                                      man play flute .  0.5500  0.591738   \n",
       "5                                       man cut onion .  0.5230  0.664033   \n",
       "7                                    woman carri babi .  0.4666  0.448435   \n",
       "10                                   men play cricket .  0.6400  0.652883   \n",
       "...                                                 ...     ...       ...   \n",
       "1468      philippin govern say peac talk communist fail  0.0000  0.499054   \n",
       "1470  pakistani taliban elect new chief , vow unprec...  0.2400  0.571863   \n",
       "1471               us drone strike kill num nw pakistan  0.2800  0.468497   \n",
       "1475            bulgarian presid tri break elect stalem  0.0800  0.449823   \n",
       "1476               janet yellen : five thing might know  0.0000  0.443135   \n",
       "\n",
       "        y_naiv  root  nsubj  dobj  \n",
       "3     0.999893     1      0     1  \n",
       "4     0.999916     1      0     1  \n",
       "5     0.999944     1      0     1  \n",
       "7     0.998882     1      1     1  \n",
       "10    0.999716     1      0     1  \n",
       "...        ...   ...    ...   ...  \n",
       "1468  0.895034     1      0     1  \n",
       "1470  0.939900     0      0     1  \n",
       "1471  0.991205     1      0     1  \n",
       "1475  0.967273     0      1     1  \n",
       "1476  0.940083     0      0     1  \n",
       "\n",
       "[998 rows x 10 columns]"
      ]
     },
     "execution_count": 87,
     "metadata": {},
     "output_type": "execute_result"
    }
   ],
   "source": [
    "df[(df.y_true - df.y_pred) < 0.1]"
   ]
  },
  {
   "cell_type": "markdown",
   "id": "2e543c6b",
   "metadata": {},
   "source": [
    "### Naive cosine similarity"
   ]
  },
  {
   "cell_type": "code",
   "execution_count": null,
   "id": "fafa0631",
   "metadata": {},
   "outputs": [],
   "source": [
    "import spacy\n",
    "nlp = spacy.load(\"en_core_web_lg\", exclude=[\"ner\"])"
   ]
  },
  {
   "cell_type": "code",
   "execution_count": null,
   "id": "b25653d0",
   "metadata": {},
   "outputs": [],
   "source": [
    "df[\"tok2vec\"] = df[[\"s1\", \"s2\"]].apply(lambda row: nlp(row.s1).similarity(nlp(row.s2)), axis=1)\n",
    "print(f\"SpearmanRank-val: {spearmanr(df.tok2vec, df.y_true)[0]:.4f}\")"
   ]
  },
  {
   "cell_type": "code",
   "execution_count": null,
   "id": "90a9139c",
   "metadata": {},
   "outputs": [],
   "source": [
    "doc = nlp(\"Blue and red plane in mid-air flight.\")\n",
    "print(\"\\t\".join([token.dep_ for token in doc]))\n",
    "print(\"\\t\".join([token.lemma_ for token in doc]))"
   ]
  }
 ],
 "metadata": {
  "interpreter": {
   "hash": "c2031cad5f309ecce3c7725635a5b7ce703908d09c65dbfde6df395d8b1d2cb2"
  },
  "kernelspec": {
   "display_name": "Python 3 (ipykernel)",
   "language": "python",
   "name": "python3"
  },
  "language_info": {
   "codemirror_mode": {
    "name": "ipython",
    "version": 3
   },
   "file_extension": ".py",
   "mimetype": "text/x-python",
   "name": "python",
   "nbconvert_exporter": "python",
   "pygments_lexer": "ipython3",
   "version": "3.9.0"
  }
 },
 "nbformat": 4,
 "nbformat_minor": 5
}
