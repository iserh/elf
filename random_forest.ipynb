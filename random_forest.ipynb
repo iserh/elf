{
 "cells": [
  {
   "cell_type": "markdown",
   "id": "7d936036",
   "metadata": {},
   "source": [
    "# Random Forest"
   ]
  },
  {
   "cell_type": "markdown",
   "id": "1eae80a0-5b64-4fdc-a194-01b12a52297f",
   "metadata": {},
   "source": [
    "### Requirements"
   ]
  },
  {
   "cell_type": "code",
   "execution_count": 25,
   "id": "d5bba398",
   "metadata": {
    "scrolled": true
   },
   "outputs": [],
   "source": [
    "from pathlib import Path\n",
    "\n",
    "import numpy as np\n",
    "import pandas as pd\n",
    "from scipy.stats import spearmanr\n",
    "from sklearn.ensemble import RandomForestRegressor\n",
    "\n",
    "from sentence_similarity.data.datasets import STSB\n",
    "from sentence_similarity.data.features import CoreXFeatures\n",
    "\n",
    "data_dir = Path(\"data\")\n",
    "model_dir = Path(\"models\") / \"corex_nli_stsb\""
   ]
  },
  {
   "cell_type": "code",
   "execution_count": 3,
   "id": "3639de72-d37d-43a6-a3b9-b0dd80c8e6d6",
   "metadata": {},
   "outputs": [],
   "source": [
    "# Load benchmark dataset\n",
    "train_data = STSB(data_dir, partition=\"train\")\n",
    "val_data = STSB(data_dir, partition=\"dev\")"
   ]
  },
  {
   "cell_type": "markdown",
   "id": "a932b988-63fc-4b0d-9da6-7b1f28009044",
   "metadata": {},
   "source": [
    "## Pre-compute features"
   ]
  },
  {
   "cell_type": "code",
   "execution_count": 18,
   "id": "6dd268a3-0bc4-4346-82c3-af4fc9786a83",
   "metadata": {},
   "outputs": [],
   "source": [
    "features_train = []\n",
    "features_val = []"
   ]
  },
  {
   "cell_type": "markdown",
   "id": "fc3d9631-bda1-404d-82b6-de3cea1ea494",
   "metadata": {},
   "source": [
    "### topic model features"
   ]
  },
  {
   "cell_type": "code",
   "execution_count": 22,
   "id": "593b88dd",
   "metadata": {},
   "outputs": [
    {
     "name": "stdout",
     "output_type": "stream",
     "text": [
      "#topics: 50\n"
     ]
    }
   ],
   "source": [
    "# features for the model\n",
    "corex_feat = CoreXFeatures(model_dir)\n",
    "print(f\"#topics: {corex_feat.input_size}\")"
   ]
  },
  {
   "cell_type": "code",
   "execution_count": null,
   "id": "8023d808",
   "metadata": {},
   "outputs": [],
   "source": [
    "# compute topic probabilities\n",
    "topic_probs_train_1 = corex_feat(train_data.s1)\n",
    "topic_probs_train_2 = corex_feat(train_data.s2)\n",
    "topic_probs_val_1 = corex_feat(val_data.s1)\n",
    "topic_probs_val_2 = corex_feat(val_data.s2)\n",
    "# concatenate topics of the two sentences\n",
    "topic_probs_train = np.concatenate([topic_probs_train_1, topic_probs_train_2], axis=1)\n",
    "topic_probs_val = np.concatenate([topic_probs_val_1, topic_probs_val_2], axis=1)\n",
    "# add to features list\n",
    "features_train.append(topic_probs_train)\n",
    "features_val.append(topic_probs_val)"
   ]
  },
  {
   "cell_type": "markdown",
   "id": "3ec5e1bd-6f65-416a-ae66-d30480beb0ac",
   "metadata": {},
   "source": [
    "### syntax features"
   ]
  },
  {
   "cell_type": "code",
   "execution_count": 21,
   "id": "3ea3583c",
   "metadata": {},
   "outputs": [],
   "source": [
    "# syntax_feat = SyntaxFeatures()\n",
    "# # compute syntax tokens\n",
    "# syntax_train_1 = syntax_feat(train_data.s1)\n",
    "# syntax_train_2 = syntax_feat(train_data.s2)\n",
    "# syntax_val_1 = syntax_feat(val_data.s1)\n",
    "# syntax_val_2 = syntax_feat(val_data.s2)\n",
    "# # mask matching syntax\n",
    "# syntax_train = (syntax_train_1 == syntax_train_2).astype(int)\n",
    "# syntax_val = (syntax_val_1 == syntax_val_2).astype(int)\n",
    "# # append to features list\n",
    "# features_train.append(syntax_train)\n",
    "# features_val.append(syntax_val)"
   ]
  },
  {
   "cell_type": "markdown",
   "id": "21fb0237",
   "metadata": {},
   "source": [
    "## Training without data augmentation"
   ]
  },
  {
   "cell_type": "code",
   "execution_count": null,
   "id": "01c54bcc",
   "metadata": {},
   "outputs": [],
   "source": [
    "# create input vectors\n",
    "X_train = np.concatenate(features_train, axis=1)\n",
    "X_val = np.concatenate(features_val, axis=1)\n",
    "# create targets\n",
    "y_train = train_data.score\n",
    "y_val = val_data.score"
   ]
  },
  {
   "cell_type": "code",
   "execution_count": null,
   "id": "539bac87",
   "metadata": {},
   "outputs": [],
   "source": [
    "# train model\n",
    "model = RandomForestRegressor(criterion=\"squared_error\", n_estimators=100, max_depth=15, random_state=1337)\n",
    "model.fit(X_train, y_train)\n",
    "# evaluate model\n",
    "spearman_train = spearmanr(model.predict(X_train), y_train)[0]\n",
    "spearman_val = spearmanr(model.predict(X_val), y_val)[0]\n",
    "print(f\"SpearmanRank-train: {spearman_train:.4f},\\t SpearmanRank-val: {spearman_val:.4f}\")"
   ]
  },
  {
   "cell_type": "markdown",
   "id": "75f60264",
   "metadata": {},
   "source": [
    "Only STS-Benchmark:\n",
    "```python\n",
    "spearmanrank_wo_syntax = 0.4593\n",
    "spearmanrank_w_syntax = 0.4541\n",
    "```\n",
    "\n",
    "STS-B + NLI:\n",
    "```python\n",
    "spearmanrank_wo_syntax = 0.4586\n",
    "spearmanrank_w_syntax = 0.4614\n",
    "```"
   ]
  },
  {
   "cell_type": "markdown",
   "id": "df8b30fd-3063-4941-9b5c-8ba14e948361",
   "metadata": {},
   "source": [
    "## Training with data augmentation"
   ]
  },
  {
   "cell_type": "code",
   "execution_count": null,
   "id": "4605f626-fdda-4253-81aa-e58530d6c4d0",
   "metadata": {},
   "outputs": [],
   "source": [
    "# load augmentation dataset\n",
    "augmentation_data = pd.read_feather(data_dir / \"df_augment.feather\")"
   ]
  },
  {
   "cell_type": "code",
   "execution_count": null,
   "id": "7f11a8e5-2a08-4886-9839-72c29bb8d5eb",
   "metadata": {},
   "outputs": [],
   "source": [
    "# get topics of the augmented sentences\n",
    "topic_probs_augmented = np.concatenate([\n",
    "    topic_probs_train_1[augmentation_data.idx1],\n",
    "    topic_probs_train_2[augmentation_data.idx2]\n",
    "], axis=1)\n",
    "\n",
    "# create inputs / targets of augmented dataset\n",
    "X_augmented = topic_probs_augmented\n",
    "y_augmented = augmentation_data.score\n",
    "print(f\"#augmented: {y_augmented.shape[0]}\")"
   ]
  },
  {
   "cell_type": "code",
   "execution_count": null,
   "id": "f969821a-3475-4763-9b32-9e04b85f497e",
   "metadata": {},
   "outputs": [],
   "source": [
    "X_train_w_augment = np.concatenate([X_train, X_augmented])\n",
    "y_train_w_augment = np.concatenate([y_train, y_augmented])\n",
    "print(f\"#(train+augmented): {y_augmented.shape[0]}\")"
   ]
  },
  {
   "cell_type": "code",
   "execution_count": null,
   "id": "090560af-8f6b-4a62-9439-639897783d23",
   "metadata": {},
   "outputs": [],
   "source": [
    "# train model\n",
    "model = RandomForestRegressor(criterion=\"squared_error\", n_estimators=100, max_depth=15, random_state=1337)\n",
    "model.fit(X_train_w_augment, y_train_w_augment)\n",
    "# evaluate model\n",
    "spearman_train = spearmanr(model.predict(X_train_w_augment), y_train_w_augment)[0]\n",
    "spearman_test = spearmanr(model.predict(X_val), y_val)[0]\n",
    "print(f\"SpearmanRank-train: {spearman_train:.4f},\\t SpearmanRank-val: {spearman_val:.4f}\")"
   ]
  },
  {
   "cell_type": "markdown",
   "id": "320adabc-693c-4e1a-97e6-fe99fb6e27b5",
   "metadata": {},
   "source": [
    "```python\n",
    "SpearmanRank = 0.4677\n",
    "np.random.seed(??)\n",
    "f = lambda x: np.exp(3*x) * 2  # sampling function - #1228\n",
    "\n",
    "SpearmanRank = 0.4557\n",
    "np.random.seed(42)\n",
    "f = lambda x: np.exp(3*x) * 2  # sampling function - #1228\n",
    "\n",
    "SpearmanRank = 0.4374\n",
    "np.random.seed(1337)\n",
    "f = lambda x: np.exp(4*x) * 2  # sampling function - #2655\n",
    "```"
   ]
  },
  {
   "cell_type": "markdown",
   "id": "a683639f",
   "metadata": {},
   "source": [
    "## Qualitative analysis"
   ]
  },
  {
   "cell_type": "code",
   "execution_count": null,
   "id": "6df8f0f3",
   "metadata": {},
   "outputs": [],
   "source": [
    "# get predictions\n",
    "y_pred = model.predict(X_val)"
   ]
  },
  {
   "cell_type": "code",
   "execution_count": 1,
   "id": "9eeefa63",
   "metadata": {},
   "outputs": [],
   "source": [
    "from sentence_similarity.data.preprocess import Pipeline, PipelineConfig"
   ]
  },
  {
   "cell_type": "code",
   "execution_count": null,
   "id": "628fd779",
   "metadata": {},
   "outputs": [],
   "source": [
    "config = PipelineConfig.load(model_dir / \"pipeline.cfg\")\n",
    "pipeline = Pipeline(config)"
   ]
  },
  {
   "cell_type": "code",
   "execution_count": null,
   "id": "db264611-0f48-4b8b-978c-9c1b637472c5",
   "metadata": {},
   "outputs": [],
   "source": [
    "df = val_data.df[[\"s1\", \"s2\"]].copy()\n",
    "df[\"s1_processed\"] = pipeline(df.s1)\n",
    "df[\"s2_processed\"] = pipeline(df.s2)\n",
    "df[\"y_true\"] = y_val\n",
    "df[\"y_pred\"] = y_pred\n",
    "# df[[\"root\", \"nsubj\", \"dobj\"]] = [pd.Series(s) for s in syntax_val]"
   ]
  },
  {
   "cell_type": "code",
   "execution_count": null,
   "id": "2d71dd82-4907-44ff-a30e-6ec8ab295f10",
   "metadata": {},
   "outputs": [],
   "source": [
    "df[df.y_pred > df.y_true]"
   ]
  },
  {
   "cell_type": "code",
   "execution_count": null,
   "id": "931bc244-c6ec-4016-abc1-9825d49fdb8a",
   "metadata": {},
   "outputs": [],
   "source": [
    "df.iloc[df.y_pred.argmax()].to_frame().T"
   ]
  },
  {
   "cell_type": "code",
   "execution_count": null,
   "id": "35b681c1",
   "metadata": {},
   "outputs": [],
   "source": [
    "df[(df.y_true - df.y_pred) > 0.4]"
   ]
  },
  {
   "cell_type": "markdown",
   "id": "2e543c6b",
   "metadata": {},
   "source": [
    "### Naive cosine similarity"
   ]
  },
  {
   "cell_type": "code",
   "execution_count": null,
   "id": "fafa0631",
   "metadata": {},
   "outputs": [],
   "source": [
    "import spacy\n",
    "nlp = spacy.load(\"en_core_web_lg\", exclude=[\"ner\"])"
   ]
  },
  {
   "cell_type": "code",
   "execution_count": null,
   "id": "b25653d0",
   "metadata": {},
   "outputs": [],
   "source": [
    "df[\"tok2vec\"] = df[[\"s1\", \"s2\"]].apply(lambda row: nlp(row.s1).similarity(nlp(row.s2)), axis=1)\n",
    "print(f\"SpearmanRank-val: {spearmanr(df.tok2vec, df.y_true)[0]:.4f}\")"
   ]
  },
  {
   "cell_type": "code",
   "execution_count": null,
   "id": "90a9139c",
   "metadata": {},
   "outputs": [],
   "source": [
    "doc = nlp(\"Blue and red plane in mid-air flight.\")\n",
    "print(\"\\t\".join([token.dep_ for token in doc]))\n",
    "print(\"\\t\".join([token.lemma_ for token in doc]))"
   ]
  }
 ],
 "metadata": {
  "interpreter": {
   "hash": "c2031cad5f309ecce3c7725635a5b7ce703908d09c65dbfde6df395d8b1d2cb2"
  },
  "kernelspec": {
   "display_name": "main",
   "language": "python",
   "name": "python3"
  },
  "language_info": {
   "codemirror_mode": {
    "name": "ipython",
    "version": 3
   },
   "file_extension": ".py",
   "mimetype": "text/x-python",
   "name": "python",
   "nbconvert_exporter": "python",
   "pygments_lexer": "ipython3",
   "version": "3.9.7"
  }
 },
 "nbformat": 4,
 "nbformat_minor": 5
}
