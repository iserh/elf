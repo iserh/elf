{
 "cells": [
  {
   "cell_type": "markdown",
   "id": "7d936036",
   "metadata": {},
   "source": [
    "# Training (small) model build on CoreX topic model"
   ]
  },
  {
   "cell_type": "markdown",
   "id": "85a0a5c7",
   "metadata": {},
   "source": [
    "### Requirements"
   ]
  },
  {
   "cell_type": "code",
   "execution_count": 1,
   "id": "d5bba398",
   "metadata": {
    "scrolled": true
   },
   "outputs": [],
   "source": [
    "import pandas as pd\n",
    "import gensim\n",
    "import torch\n",
    "import torch.nn as nn\n",
    "import torch.nn.functional as F\n",
    "import numpy as np\n",
    "import csv\n",
    "import corextopic.corextopic as ct\n",
    "import pickle\n",
    "\n",
    "from pathlib import Path\n",
    "from tqdm.notebook import tqdm, trange\n",
    "from matplotlib import pyplot as plt\n",
    "from scipy.stats import spearmanr, pearsonr\n",
    "from utils import preprocess\n",
    "\n",
    "data_dir = Path('data')\n",
    "assert data_dir.exists()\n",
    "output_dir = Path('data/output')\n",
    "output_dir.mkdir(exist_ok=True, parents=True)\n",
    "\n",
    "device = torch.device('cuda:0') if torch.cuda.is_available() else torch.device('cpu')"
   ]
  },
  {
   "cell_type": "markdown",
   "id": "57bf86ef",
   "metadata": {},
   "source": [
    "## Loading STS Benchmark dataset"
   ]
  },
  {
   "cell_type": "code",
   "execution_count": 2,
   "id": "d9b93334",
   "metadata": {},
   "outputs": [],
   "source": [
    "%%capture\n",
    "sts_train = pd.read_csv(data_dir / \"stsbenchmark\" / 'sts-train.csv', error_bad_lines=False, header = None, delimiter=\"\\t\", quoting=csv.QUOTE_NONE, encoding='utf-8')\n",
    "sts_train = sts_train.rename(columns={0: \"genre\", 1: \"filename\", 2: \"year\", 3: \"trash\", 4: \"score\", 5: \"s1\", 6: \"s2\"})"
   ]
  },
  {
   "cell_type": "code",
   "execution_count": 3,
   "id": "6a962907",
   "metadata": {},
   "outputs": [],
   "source": [
    "sts_train.genre = sts_train.genre.astype(\"category\")\n",
    "sts_train.filename = sts_train.filename.astype(\"category\")\n",
    "sts_train.year = sts_train.year.astype(\"category\")\n",
    "sts_train.genre = sts_train.genre.astype(\"category\")"
   ]
  },
  {
   "cell_type": "code",
   "execution_count": 4,
   "id": "1c5a9d47",
   "metadata": {},
   "outputs": [
    {
     "data": {
      "text/html": [
       "<div>\n",
       "<style scoped>\n",
       "    .dataframe tbody tr th:only-of-type {\n",
       "        vertical-align: middle;\n",
       "    }\n",
       "\n",
       "    .dataframe tbody tr th {\n",
       "        vertical-align: top;\n",
       "    }\n",
       "\n",
       "    .dataframe thead th {\n",
       "        text-align: right;\n",
       "    }\n",
       "</style>\n",
       "<table border=\"1\" class=\"dataframe\">\n",
       "  <thead>\n",
       "    <tr style=\"text-align: right;\">\n",
       "      <th></th>\n",
       "      <th>genre</th>\n",
       "      <th>filename</th>\n",
       "      <th>year</th>\n",
       "      <th>trash</th>\n",
       "      <th>score</th>\n",
       "      <th>s1</th>\n",
       "      <th>s2</th>\n",
       "    </tr>\n",
       "  </thead>\n",
       "  <tbody>\n",
       "    <tr>\n",
       "      <th>0</th>\n",
       "      <td>main-captions</td>\n",
       "      <td>MSRvid</td>\n",
       "      <td>2012test</td>\n",
       "      <td>1</td>\n",
       "      <td>5.00</td>\n",
       "      <td>A plane is taking off.</td>\n",
       "      <td>An air plane is taking off.</td>\n",
       "    </tr>\n",
       "    <tr>\n",
       "      <th>1</th>\n",
       "      <td>main-captions</td>\n",
       "      <td>MSRvid</td>\n",
       "      <td>2012test</td>\n",
       "      <td>4</td>\n",
       "      <td>3.80</td>\n",
       "      <td>A man is playing a large flute.</td>\n",
       "      <td>A man is playing a flute.</td>\n",
       "    </tr>\n",
       "    <tr>\n",
       "      <th>2</th>\n",
       "      <td>main-captions</td>\n",
       "      <td>MSRvid</td>\n",
       "      <td>2012test</td>\n",
       "      <td>5</td>\n",
       "      <td>3.80</td>\n",
       "      <td>A man is spreading shreded cheese on a pizza.</td>\n",
       "      <td>A man is spreading shredded cheese on an uncoo...</td>\n",
       "    </tr>\n",
       "    <tr>\n",
       "      <th>3</th>\n",
       "      <td>main-captions</td>\n",
       "      <td>MSRvid</td>\n",
       "      <td>2012test</td>\n",
       "      <td>6</td>\n",
       "      <td>2.60</td>\n",
       "      <td>Three men are playing chess.</td>\n",
       "      <td>Two men are playing chess.</td>\n",
       "    </tr>\n",
       "    <tr>\n",
       "      <th>4</th>\n",
       "      <td>main-captions</td>\n",
       "      <td>MSRvid</td>\n",
       "      <td>2012test</td>\n",
       "      <td>9</td>\n",
       "      <td>4.25</td>\n",
       "      <td>A man is playing the cello.</td>\n",
       "      <td>A man seated is playing the cello.</td>\n",
       "    </tr>\n",
       "    <tr>\n",
       "      <th>...</th>\n",
       "      <td>...</td>\n",
       "      <td>...</td>\n",
       "      <td>...</td>\n",
       "      <td>...</td>\n",
       "      <td>...</td>\n",
       "      <td>...</td>\n",
       "      <td>...</td>\n",
       "    </tr>\n",
       "    <tr>\n",
       "      <th>5547</th>\n",
       "      <td>main-news</td>\n",
       "      <td>headlines</td>\n",
       "      <td>2015</td>\n",
       "      <td>1489</td>\n",
       "      <td>1.20</td>\n",
       "      <td>Palestinian hunger striker, Israel reach deal</td>\n",
       "      <td>Palestinian activist detained in Israeli raid</td>\n",
       "    </tr>\n",
       "    <tr>\n",
       "      <th>5548</th>\n",
       "      <td>main-news</td>\n",
       "      <td>headlines</td>\n",
       "      <td>2015</td>\n",
       "      <td>1493</td>\n",
       "      <td>4.80</td>\n",
       "      <td>Assad says Syria will comply with UN arms reso...</td>\n",
       "      <td>Syria's Assad vows to comply with U.N. resolution</td>\n",
       "    </tr>\n",
       "    <tr>\n",
       "      <th>5549</th>\n",
       "      <td>main-news</td>\n",
       "      <td>headlines</td>\n",
       "      <td>2015</td>\n",
       "      <td>1496</td>\n",
       "      <td>4.60</td>\n",
       "      <td>South Korean President Sorry For Ferry Response</td>\n",
       "      <td>S. Korean president 'sorry' for ferry disaster</td>\n",
       "    </tr>\n",
       "    <tr>\n",
       "      <th>5550</th>\n",
       "      <td>main-news</td>\n",
       "      <td>headlines</td>\n",
       "      <td>2015</td>\n",
       "      <td>1498</td>\n",
       "      <td>0.00</td>\n",
       "      <td>Food price hikes raise concerns in Iran</td>\n",
       "      <td>American Chris Horner wins Tour of Spain</td>\n",
       "    </tr>\n",
       "    <tr>\n",
       "      <th>5551</th>\n",
       "      <td>main-news</td>\n",
       "      <td>headlines</td>\n",
       "      <td>2015</td>\n",
       "      <td>1499</td>\n",
       "      <td>2.00</td>\n",
       "      <td>Obama made last-minute decision on Syria approval</td>\n",
       "      <td>Obama mulls limited military action in Syria</td>\n",
       "    </tr>\n",
       "  </tbody>\n",
       "</table>\n",
       "<p>5552 rows × 7 columns</p>\n",
       "</div>"
      ],
      "text/plain": [
       "              genre   filename      year  trash  score  \\\n",
       "0     main-captions     MSRvid  2012test      1   5.00   \n",
       "1     main-captions     MSRvid  2012test      4   3.80   \n",
       "2     main-captions     MSRvid  2012test      5   3.80   \n",
       "3     main-captions     MSRvid  2012test      6   2.60   \n",
       "4     main-captions     MSRvid  2012test      9   4.25   \n",
       "...             ...        ...       ...    ...    ...   \n",
       "5547      main-news  headlines      2015   1489   1.20   \n",
       "5548      main-news  headlines      2015   1493   4.80   \n",
       "5549      main-news  headlines      2015   1496   4.60   \n",
       "5550      main-news  headlines      2015   1498   0.00   \n",
       "5551      main-news  headlines      2015   1499   2.00   \n",
       "\n",
       "                                                     s1  \\\n",
       "0                                A plane is taking off.   \n",
       "1                       A man is playing a large flute.   \n",
       "2         A man is spreading shreded cheese on a pizza.   \n",
       "3                          Three men are playing chess.   \n",
       "4                           A man is playing the cello.   \n",
       "...                                                 ...   \n",
       "5547      Palestinian hunger striker, Israel reach deal   \n",
       "5548  Assad says Syria will comply with UN arms reso...   \n",
       "5549    South Korean President Sorry For Ferry Response   \n",
       "5550            Food price hikes raise concerns in Iran   \n",
       "5551  Obama made last-minute decision on Syria approval   \n",
       "\n",
       "                                                     s2  \n",
       "0                           An air plane is taking off.  \n",
       "1                             A man is playing a flute.  \n",
       "2     A man is spreading shredded cheese on an uncoo...  \n",
       "3                            Two men are playing chess.  \n",
       "4                    A man seated is playing the cello.  \n",
       "...                                                 ...  \n",
       "5547      Palestinian activist detained in Israeli raid  \n",
       "5548  Syria's Assad vows to comply with U.N. resolution  \n",
       "5549     S. Korean president 'sorry' for ferry disaster  \n",
       "5550           American Chris Horner wins Tour of Spain  \n",
       "5551       Obama mulls limited military action in Syria  \n",
       "\n",
       "[5552 rows x 7 columns]"
      ]
     },
     "execution_count": 4,
     "metadata": {},
     "output_type": "execute_result"
    }
   ],
   "source": [
    "sts_train"
   ]
  },
  {
   "cell_type": "markdown",
   "id": "71636b84",
   "metadata": {},
   "source": [
    "### Load the test dataset"
   ]
  },
  {
   "cell_type": "code",
   "execution_count": 5,
   "id": "82f4ebc8",
   "metadata": {},
   "outputs": [],
   "source": [
    "%%capture\n",
    "sts_test = pd.read_csv(data_dir / \"stsbenchmark\" / 'sts-test.csv', error_bad_lines=False, header = None, delimiter=\"\\t\", quoting=csv.QUOTE_NONE, encoding='utf-8')\n",
    "sts_test = sts_test.rename(columns={0: \"genre\", 1: \"filename\", 2: \"year\", 3: \"trash\", 4: \"score\", 5: \"s1\", 6: \"s2\"})\n",
    "sts_test.genre = sts_test.genre.astype(\"category\")\n",
    "sts_test.filename = sts_test.filename.astype(\"category\")\n",
    "sts_test.year = sts_test.year.astype(\"category\")\n",
    "sts_test.genre = sts_test.genre.astype(\"category\")"
   ]
  },
  {
   "cell_type": "code",
   "execution_count": 6,
   "id": "073b5ff7",
   "metadata": {
    "scrolled": false
   },
   "outputs": [
    {
     "data": {
      "text/html": [
       "<div>\n",
       "<style scoped>\n",
       "    .dataframe tbody tr th:only-of-type {\n",
       "        vertical-align: middle;\n",
       "    }\n",
       "\n",
       "    .dataframe tbody tr th {\n",
       "        vertical-align: top;\n",
       "    }\n",
       "\n",
       "    .dataframe thead th {\n",
       "        text-align: right;\n",
       "    }\n",
       "</style>\n",
       "<table border=\"1\" class=\"dataframe\">\n",
       "  <thead>\n",
       "    <tr style=\"text-align: right;\">\n",
       "      <th></th>\n",
       "      <th>genre</th>\n",
       "      <th>filename</th>\n",
       "      <th>year</th>\n",
       "      <th>trash</th>\n",
       "      <th>score</th>\n",
       "      <th>s1</th>\n",
       "      <th>s2</th>\n",
       "    </tr>\n",
       "  </thead>\n",
       "  <tbody>\n",
       "    <tr>\n",
       "      <th>0</th>\n",
       "      <td>main-captions</td>\n",
       "      <td>MSRvid</td>\n",
       "      <td>2012test</td>\n",
       "      <td>24</td>\n",
       "      <td>2.5</td>\n",
       "      <td>A girl is styling her hair.</td>\n",
       "      <td>A girl is brushing her hair.</td>\n",
       "    </tr>\n",
       "    <tr>\n",
       "      <th>1</th>\n",
       "      <td>main-captions</td>\n",
       "      <td>MSRvid</td>\n",
       "      <td>2012test</td>\n",
       "      <td>33</td>\n",
       "      <td>3.6</td>\n",
       "      <td>A group of men play soccer on the beach.</td>\n",
       "      <td>A group of boys are playing soccer on the beach.</td>\n",
       "    </tr>\n",
       "    <tr>\n",
       "      <th>2</th>\n",
       "      <td>main-captions</td>\n",
       "      <td>MSRvid</td>\n",
       "      <td>2012test</td>\n",
       "      <td>45</td>\n",
       "      <td>5.0</td>\n",
       "      <td>One woman is measuring another woman's ankle.</td>\n",
       "      <td>A woman measures another woman's ankle.</td>\n",
       "    </tr>\n",
       "    <tr>\n",
       "      <th>3</th>\n",
       "      <td>main-captions</td>\n",
       "      <td>MSRvid</td>\n",
       "      <td>2012test</td>\n",
       "      <td>63</td>\n",
       "      <td>4.2</td>\n",
       "      <td>A man is cutting up a cucumber.</td>\n",
       "      <td>A man is slicing a cucumber.</td>\n",
       "    </tr>\n",
       "    <tr>\n",
       "      <th>4</th>\n",
       "      <td>main-captions</td>\n",
       "      <td>MSRvid</td>\n",
       "      <td>2012test</td>\n",
       "      <td>66</td>\n",
       "      <td>1.5</td>\n",
       "      <td>A man is playing a harp.</td>\n",
       "      <td>A man is playing a keyboard.</td>\n",
       "    </tr>\n",
       "    <tr>\n",
       "      <th>...</th>\n",
       "      <td>...</td>\n",
       "      <td>...</td>\n",
       "      <td>...</td>\n",
       "      <td>...</td>\n",
       "      <td>...</td>\n",
       "      <td>...</td>\n",
       "      <td>...</td>\n",
       "    </tr>\n",
       "    <tr>\n",
       "      <th>1090</th>\n",
       "      <td>main-news</td>\n",
       "      <td>headlines</td>\n",
       "      <td>2015</td>\n",
       "      <td>1438</td>\n",
       "      <td>0.4</td>\n",
       "      <td>US, China fail to paper over cracks in ties</td>\n",
       "      <td>China: Relief in focus as hope for missing fades</td>\n",
       "    </tr>\n",
       "    <tr>\n",
       "      <th>1091</th>\n",
       "      <td>main-news</td>\n",
       "      <td>headlines</td>\n",
       "      <td>2015</td>\n",
       "      <td>1454</td>\n",
       "      <td>1.4</td>\n",
       "      <td>World Cup live: France 0-0 Germany</td>\n",
       "      <td>World Cup live: Germany 0-0 Ghana</td>\n",
       "    </tr>\n",
       "    <tr>\n",
       "      <th>1092</th>\n",
       "      <td>main-news</td>\n",
       "      <td>headlines</td>\n",
       "      <td>2015</td>\n",
       "      <td>1456</td>\n",
       "      <td>4.8</td>\n",
       "      <td>Tokyo to host 2020 Games</td>\n",
       "      <td>Tokyo wins race to host 2020 Olympic Games</td>\n",
       "    </tr>\n",
       "    <tr>\n",
       "      <th>1093</th>\n",
       "      <td>main-news</td>\n",
       "      <td>headlines</td>\n",
       "      <td>2015</td>\n",
       "      <td>1463</td>\n",
       "      <td>4.4</td>\n",
       "      <td>France warns of extremists benefiting from Egy...</td>\n",
       "      <td>France fears extremists will benefit from Egyp...</td>\n",
       "    </tr>\n",
       "    <tr>\n",
       "      <th>1094</th>\n",
       "      <td>main-news</td>\n",
       "      <td>headlines</td>\n",
       "      <td>2015</td>\n",
       "      <td>1482</td>\n",
       "      <td>5.0</td>\n",
       "      <td>British teenager killed in fall from Magaluf h...</td>\n",
       "      <td>British teenager killed in Magaluf hotel fall</td>\n",
       "    </tr>\n",
       "  </tbody>\n",
       "</table>\n",
       "<p>1095 rows × 7 columns</p>\n",
       "</div>"
      ],
      "text/plain": [
       "              genre   filename      year  trash  score  \\\n",
       "0     main-captions     MSRvid  2012test     24    2.5   \n",
       "1     main-captions     MSRvid  2012test     33    3.6   \n",
       "2     main-captions     MSRvid  2012test     45    5.0   \n",
       "3     main-captions     MSRvid  2012test     63    4.2   \n",
       "4     main-captions     MSRvid  2012test     66    1.5   \n",
       "...             ...        ...       ...    ...    ...   \n",
       "1090      main-news  headlines      2015   1438    0.4   \n",
       "1091      main-news  headlines      2015   1454    1.4   \n",
       "1092      main-news  headlines      2015   1456    4.8   \n",
       "1093      main-news  headlines      2015   1463    4.4   \n",
       "1094      main-news  headlines      2015   1482    5.0   \n",
       "\n",
       "                                                     s1  \\\n",
       "0                           A girl is styling her hair.   \n",
       "1              A group of men play soccer on the beach.   \n",
       "2         One woman is measuring another woman's ankle.   \n",
       "3                       A man is cutting up a cucumber.   \n",
       "4                              A man is playing a harp.   \n",
       "...                                                 ...   \n",
       "1090        US, China fail to paper over cracks in ties   \n",
       "1091                 World Cup live: France 0-0 Germany   \n",
       "1092                           Tokyo to host 2020 Games   \n",
       "1093  France warns of extremists benefiting from Egy...   \n",
       "1094  British teenager killed in fall from Magaluf h...   \n",
       "\n",
       "                                                     s2  \n",
       "0                          A girl is brushing her hair.  \n",
       "1      A group of boys are playing soccer on the beach.  \n",
       "2               A woman measures another woman's ankle.  \n",
       "3                          A man is slicing a cucumber.  \n",
       "4                          A man is playing a keyboard.  \n",
       "...                                                 ...  \n",
       "1090   China: Relief in focus as hope for missing fades  \n",
       "1091                  World Cup live: Germany 0-0 Ghana  \n",
       "1092         Tokyo wins race to host 2020 Olympic Games  \n",
       "1093  France fears extremists will benefit from Egyp...  \n",
       "1094      British teenager killed in Magaluf hotel fall  \n",
       "\n",
       "[1095 rows x 7 columns]"
      ]
     },
     "execution_count": 6,
     "metadata": {},
     "output_type": "execute_result"
    }
   ],
   "source": [
    "sts_test"
   ]
  },
  {
   "cell_type": "markdown",
   "id": "6fc9d9d4",
   "metadata": {},
   "source": [
    "## Loading Augmentation dataset (SBERT scores)"
   ]
  },
  {
   "cell_type": "code",
   "execution_count": 7,
   "id": "768904f9",
   "metadata": {
    "scrolled": false
   },
   "outputs": [
    {
     "data": {
      "text/html": [
       "<div>\n",
       "<style scoped>\n",
       "    .dataframe tbody tr th:only-of-type {\n",
       "        vertical-align: middle;\n",
       "    }\n",
       "\n",
       "    .dataframe tbody tr th {\n",
       "        vertical-align: top;\n",
       "    }\n",
       "\n",
       "    .dataframe thead th {\n",
       "        text-align: right;\n",
       "    }\n",
       "</style>\n",
       "<table border=\"1\" class=\"dataframe\">\n",
       "  <thead>\n",
       "    <tr style=\"text-align: right;\">\n",
       "      <th></th>\n",
       "      <th>index</th>\n",
       "      <th>idx1</th>\n",
       "      <th>idx2</th>\n",
       "      <th>score</th>\n",
       "    </tr>\n",
       "  </thead>\n",
       "  <tbody>\n",
       "    <tr>\n",
       "      <th>0</th>\n",
       "      <td>7660665</td>\n",
       "      <td>45</td>\n",
       "      <td>1662</td>\n",
       "      <td>-0.362852</td>\n",
       "    </tr>\n",
       "    <tr>\n",
       "      <th>1</th>\n",
       "      <td>7660627</td>\n",
       "      <td>7</td>\n",
       "      <td>1662</td>\n",
       "      <td>-0.363335</td>\n",
       "    </tr>\n",
       "    <tr>\n",
       "      <th>2</th>\n",
       "      <td>7660665</td>\n",
       "      <td>45</td>\n",
       "      <td>1662</td>\n",
       "      <td>-0.362852</td>\n",
       "    </tr>\n",
       "    <tr>\n",
       "      <th>3</th>\n",
       "      <td>7660665</td>\n",
       "      <td>45</td>\n",
       "      <td>1662</td>\n",
       "      <td>-0.362852</td>\n",
       "    </tr>\n",
       "    <tr>\n",
       "      <th>4</th>\n",
       "      <td>7660665</td>\n",
       "      <td>45</td>\n",
       "      <td>1662</td>\n",
       "      <td>-0.362852</td>\n",
       "    </tr>\n",
       "    <tr>\n",
       "      <th>...</th>\n",
       "      <td>...</td>\n",
       "      <td>...</td>\n",
       "      <td>...</td>\n",
       "      <td>...</td>\n",
       "    </tr>\n",
       "    <tr>\n",
       "      <th>951995</th>\n",
       "      <td>23909910</td>\n",
       "      <td>4851</td>\n",
       "      <td>4851</td>\n",
       "      <td>0.998533</td>\n",
       "    </tr>\n",
       "    <tr>\n",
       "      <th>951996</th>\n",
       "      <td>2828583</td>\n",
       "      <td>493</td>\n",
       "      <td>617</td>\n",
       "      <td>0.997185</td>\n",
       "    </tr>\n",
       "    <tr>\n",
       "      <th>951997</th>\n",
       "      <td>2828583</td>\n",
       "      <td>493</td>\n",
       "      <td>617</td>\n",
       "      <td>0.997185</td>\n",
       "    </tr>\n",
       "    <tr>\n",
       "      <th>951998</th>\n",
       "      <td>2828583</td>\n",
       "      <td>493</td>\n",
       "      <td>617</td>\n",
       "      <td>0.997185</td>\n",
       "    </tr>\n",
       "    <tr>\n",
       "      <th>951999</th>\n",
       "      <td>2828583</td>\n",
       "      <td>493</td>\n",
       "      <td>617</td>\n",
       "      <td>0.997185</td>\n",
       "    </tr>\n",
       "  </tbody>\n",
       "</table>\n",
       "<p>952000 rows × 4 columns</p>\n",
       "</div>"
      ],
      "text/plain": [
       "           index  idx1  idx2     score\n",
       "0        7660665    45  1662 -0.362852\n",
       "1        7660627     7  1662 -0.363335\n",
       "2        7660665    45  1662 -0.362852\n",
       "3        7660665    45  1662 -0.362852\n",
       "4        7660665    45  1662 -0.362852\n",
       "...          ...   ...   ...       ...\n",
       "951995  23909910  4851  4851  0.998533\n",
       "951996   2828583   493   617  0.997185\n",
       "951997   2828583   493   617  0.997185\n",
       "951998   2828583   493   617  0.997185\n",
       "951999   2828583   493   617  0.997185\n",
       "\n",
       "[952000 rows x 4 columns]"
      ]
     },
     "execution_count": 7,
     "metadata": {},
     "output_type": "execute_result"
    }
   ],
   "source": [
    "data_aug = pd.read_feather(data_dir / \"df_augment.feather\")\n",
    "data_aug"
   ]
  },
  {
   "cell_type": "markdown",
   "id": "02e0177c",
   "metadata": {},
   "source": [
    "## Data Preprocessing with LDA topic model"
   ]
  },
  {
   "cell_type": "code",
   "execution_count": 8,
   "id": "8023d808",
   "metadata": {},
   "outputs": [],
   "source": [
    "lda = gensim.models.LdaMulticore.load(str(data_dir / \"lda\"))"
   ]
  },
  {
   "cell_type": "code",
   "execution_count": 9,
   "id": "a413429e",
   "metadata": {},
   "outputs": [
    {
     "data": {
      "application/vnd.jupyter.widget-view+json": {
       "model_id": "bae9b8e6ec934936ab3c0900a5514a7f",
       "version_major": 2,
       "version_minor": 0
      },
      "text/plain": [
       "  0%|          | 0/5552 [00:00<?, ?it/s]"
      ]
     },
     "metadata": {},
     "output_type": "display_data"
    },
    {
     "data": {
      "application/vnd.jupyter.widget-view+json": {
       "model_id": "73af115421e548b481681ed4ab442713",
       "version_major": 2,
       "version_minor": 0
      },
      "text/plain": [
       "  0%|          | 0/5552 [00:00<?, ?it/s]"
      ]
     },
     "metadata": {},
     "output_type": "display_data"
    }
   ],
   "source": [
    "tqdm.pandas()\n",
    "# preprocess s2\n",
    "s1 = sts_train.s1\n",
    "s1_preprocessed = pd.Series(preprocess(s1), index=s1.index)\n",
    "s1_preprocessed = s1_preprocessed.progress_apply(lambda words: torch.Tensor(lda[lda.id2word.doc2bow(words)])[:, 1])\n",
    "# preprocess s2\n",
    "s2 = sts_train.s2\n",
    "s2_preprocessed = pd.Series(preprocess(s2), index=s2.index)\n",
    "s2_preprocessed = s2_preprocessed.progress_apply(lambda words: torch.Tensor(lda[lda.id2word.doc2bow(words)])[:, 1])"
   ]
  },
  {
   "cell_type": "code",
   "execution_count": 10,
   "id": "43e8a6d7",
   "metadata": {},
   "outputs": [],
   "source": [
    "train_dataloader = torch.utils.data.DataLoader(\n",
    "    list(zip(data_aug.idx1, data_aug.idx2, torch.FloatTensor(data_aug.score))),\n",
    "    batch_size=256,\n",
    "    shuffle=True\n",
    ")"
   ]
  },
  {
   "cell_type": "markdown",
   "id": "43cf708a",
   "metadata": {},
   "source": [
    "### Test Pre-Processing"
   ]
  },
  {
   "cell_type": "markdown",
   "id": "4a2c29e4",
   "metadata": {},
   "source": [
    "### Preprocessing"
   ]
  },
  {
   "cell_type": "code",
   "execution_count": 11,
   "id": "c88a65da",
   "metadata": {},
   "outputs": [
    {
     "data": {
      "application/vnd.jupyter.widget-view+json": {
       "model_id": "a3422227da3c48539a3d3ed97e6fdaae",
       "version_major": 2,
       "version_minor": 0
      },
      "text/plain": [
       "  0%|          | 0/1095 [00:00<?, ?it/s]"
      ]
     },
     "metadata": {},
     "output_type": "display_data"
    },
    {
     "data": {
      "application/vnd.jupyter.widget-view+json": {
       "model_id": "7d35db72c73e4cb892ec6305336d5372",
       "version_major": 2,
       "version_minor": 0
      },
      "text/plain": [
       "  0%|          | 0/1095 [00:00<?, ?it/s]"
      ]
     },
     "metadata": {},
     "output_type": "display_data"
    }
   ],
   "source": [
    "# preprocess s2\n",
    "s1 = sts_test.s1\n",
    "s1_test_preprocessed = pd.Series(preprocess(s1), index=s1.index)\n",
    "s1_test_preprocessed = s1_test_preprocessed.progress_apply(lambda words: torch.Tensor(lda[lda.id2word.doc2bow(words)])[:, 1])\n",
    "# preprocess s2\n",
    "s2 = sts_test.s2\n",
    "s2_test_preprocessed = pd.Series(preprocess(s2), index=s2.index)\n",
    "s2_test_preprocessed = s2_test_preprocessed.progress_apply(lambda words: torch.Tensor(lda[lda.id2word.doc2bow(words)])[:, 1])"
   ]
  },
  {
   "cell_type": "code",
   "execution_count": 12,
   "id": "e9a7118a",
   "metadata": {},
   "outputs": [],
   "source": [
    "s1_test_preprocessed = torch.stack(s1_test_preprocessed.tolist())\n",
    "s2_test_preprocessed = torch.stack(s2_test_preprocessed.tolist())\n",
    "test_input_tensor = torch.cat([s1_test_preprocessed, s2_test_preprocessed], dim=-1)"
   ]
  },
  {
   "cell_type": "markdown",
   "id": "7d73c822",
   "metadata": {},
   "source": [
    "## 1 Embedding Model"
   ]
  },
  {
   "cell_type": "code",
   "execution_count": 13,
   "id": "8dd719a1",
   "metadata": {},
   "outputs": [],
   "source": [
    "class EmbeddingModel(nn.Module):\n",
    "    def __init__(self, num_embeddings: int, embedding_dim: int):\n",
    "        super().__init__()\n",
    "        # embedding parameter\n",
    "        self.embeddings = nn.Parameter(torch.empty(num_embeddings, embedding_dim))\n",
    "        # initialize\n",
    "        nn.init.xavier_uniform_(self.embeddings)\n",
    "\n",
    "    def forward(self, x: torch.Tensor) -> torch.Tensor:\n",
    "        return F.normalize(x @ self.embeddings)"
   ]
  },
  {
   "cell_type": "markdown",
   "id": "dc76c45e",
   "metadata": {},
   "source": [
    "Train the model"
   ]
  },
  {
   "cell_type": "code",
   "execution_count": 14,
   "id": "6b23905c",
   "metadata": {},
   "outputs": [
    {
     "data": {
      "application/vnd.jupyter.widget-view+json": {
       "model_id": "4a2c69a969624a8bb2e68d4abcf8d903",
       "version_major": 2,
       "version_minor": 0
      },
      "text/plain": [
       "  0%|          | 0/3 [00:00<?, ?it/s]"
      ]
     },
     "metadata": {},
     "output_type": "display_data"
    }
   ],
   "source": [
    "EPOCHS = 3\n",
    "\n",
    "model = EmbeddingModel(num_embeddings=lda.num_topics, embedding_dim=2048).to(device)\n",
    "optim = torch.optim.Adam(model.parameters(), lr=0.001)\n",
    "\n",
    "all_losses, spearman_scores = [], []\n",
    "# training\n",
    "for epoch in (pbar := trange(EPOCHS)):\n",
    "    for idx1, idx2, y_hat in (pbar2 := tqdm(train_dataloader, disable=True)):\n",
    "        # extract lda probabilities\n",
    "        input_s1 = torch.stack(s1_preprocessed[idx1.tolist()].tolist()).to(device)\n",
    "        input_s2 = torch.stack(s2_preprocessed[idx2.tolist()].tolist()).to(device)\n",
    "        # compute embeddings for both input sentences\n",
    "        s1_embed = model(input_s1)\n",
    "        s2_embed = model(input_s2)\n",
    "        # compute similarity score\n",
    "        y = (s1_embed.unsqueeze(-2) @ s2_embed.unsqueeze(-1)).squeeze()\n",
    "        # compute loss\n",
    "        loss = F.mse_loss(y, y_hat.to(device))\n",
    "        # append to losses\n",
    "        all_losses.append(loss.item())\n",
    "        spearman_scores.append(spearmanr(y.detach().cpu(), y_hat)[0])\n",
    "        # optimizer step\n",
    "        optim.zero_grad()\n",
    "        loss.backward()\n",
    "        optim.step()\n",
    "        # update progress bar\n",
    "        pbar.set_postfix({\"loss\": sum(all_losses[-20:]) / 20, \"pearson\": sum(spearman_scores[-20:]) / 20})\n",
    "    "
   ]
  },
  {
   "cell_type": "code",
   "execution_count": 15,
   "id": "e23ea371",
   "metadata": {},
   "outputs": [
    {
     "data": {
      "image/png": "[encoded data removed]",
      "text/plain": [
       "<Figure size 864x360 with 2 Axes>"
      ]
     },
     "metadata": {
      "needs_background": "light"
     },
     "output_type": "display_data"
    }
   ],
   "source": [
    "N = 20\n",
    "_, ax = plt.subplots(1, 2, figsize=(12, 5))\n",
    "ax[0].plot(all_losses, color=\"tab:blue\", alpha=0.2)\n",
    "ax[0].plot(pd.Series(all_losses).rolling(window=N).mean().iloc[N-1:].values, color=\"tab:blue\")\n",
    "ax[0].set_title(\"loss vs. steps\")\n",
    "ax[1].plot(spearman_scores, color=\"tab:blue\", alpha=0.2)\n",
    "ax[1].plot(pd.Series(spearman_scores).rolling(window=N).mean().iloc[N-1:].values, color=\"tab:blue\")\n",
    "ax[1].set_title(\"spearman-rank vs. steps\")\n",
    "plt.savefig(output_dir / \"lda-embedding-w-augmentation-3.pdf\")\n",
    "plt.show()"
   ]
  },
  {
   "cell_type": "markdown",
   "id": "21fb0237",
   "metadata": {},
   "source": [
    "## 2 Linear Model"
   ]
  },
  {
   "cell_type": "code",
   "execution_count": 16,
   "id": "467901e5",
   "metadata": {},
   "outputs": [],
   "source": [
    "class LinearModel(nn.Module):\n",
    "    def __init__(self, num_embeddings: int, embedding_dim: int):\n",
    "        super().__init__()\n",
    "        # embedding parameter\n",
    "        self.seq = nn.Sequential(\n",
    "            nn.Linear(num_embeddings*2, 1024),\n",
    "            nn.ReLU(True),\n",
    "            nn.Linear(1024, 512),\n",
    "            nn.ReLU(True),\n",
    "            nn.Linear(512, 256),\n",
    "            nn.ReLU(True),\n",
    "            nn.Linear(256, 1),\n",
    "            nn.Tanh(),\n",
    "        )\n",
    "\n",
    "    def forward(self, x: torch.Tensor) -> torch.Tensor:\n",
    "        return self.seq(x)"
   ]
  },
  {
   "cell_type": "code",
   "execution_count": 17,
   "id": "5bdffc70",
   "metadata": {},
   "outputs": [
    {
     "data": {
      "application/vnd.jupyter.widget-view+json": {
       "model_id": "6eebc1758bf6475f905fb54e933fd79a",
       "version_major": 2,
       "version_minor": 0
      },
      "text/plain": [
       "  0%|          | 0/3 [00:00<?, ?it/s]"
      ]
     },
     "metadata": {},
     "output_type": "display_data"
    }
   ],
   "source": [
    "EPOCHS = 3\n",
    "\n",
    "model = LinearModel(num_embeddings=lda.num_topics, embedding_dim=2048).to(device)\n",
    "optim = torch.optim.Adam(model.parameters(), lr=0.001)\n",
    "\n",
    "all_losses, spearman_scores = [], []\n",
    "# training\n",
    "for epoch in (pbar := trange(EPOCHS)):\n",
    "    for idx1, idx2, y_hat in (pbar2 := tqdm(train_dataloader, disable=True)):\n",
    "        # extract lda probabilities\n",
    "        input_s1 = torch.stack(s1_preprocessed[idx1.tolist()].tolist()).to(device)\n",
    "        input_s2 = torch.stack(s2_preprocessed[idx2.tolist()].tolist()).to(device)\n",
    "        # compute embeddings for both input sentences\n",
    "        y = model(torch.cat([input_s1, input_s2], dim=-1)).squeeze()\n",
    "        # compute similarity score\n",
    "        # y = torch.cosine_similarity(s1_embed, s2_embed)\n",
    "        # compute loss\n",
    "        loss = F.mse_loss(y, y_hat.to(device))\n",
    "        # append to losses\n",
    "        all_losses.append(loss.item())\n",
    "        spearman_scores.append(spearmanr(y.detach().cpu(), y_hat)[0])\n",
    "        # optimizer step\n",
    "        optim.zero_grad()\n",
    "        loss.backward()\n",
    "        optim.step()\n",
    "        # update progress bar\n",
    "        pbar.set_postfix({\"loss\": sum(all_losses[-20:]) / 20, \"pearson\": sum(spearman_scores[-20:]) / 20})"
   ]
  },
  {
   "cell_type": "code",
   "execution_count": 18,
   "id": "75f60264",
   "metadata": {
    "scrolled": true
   },
   "outputs": [
    {
     "data": {
      "image/png": "[encoded data removed]",
      "text/plain": [
       "<Figure size 864x360 with 2 Axes>"
      ]
     },
     "metadata": {
      "needs_background": "light"
     },
     "output_type": "display_data"
    }
   ],
   "source": [
    "N = 20\n",
    "_, ax = plt.subplots(1, 2, figsize=(12, 5))\n",
    "ax[0].plot(all_losses, color=\"tab:blue\", alpha=0.2)\n",
    "ax[0].plot(pd.Series(all_losses).rolling(window=N).mean().iloc[N-1:].values, color=\"tab:blue\")\n",
    "ax[0].set_title(\"loss vs. steps\")\n",
    "ax[1].plot(spearman_scores, color=\"tab:blue\", alpha=0.2)\n",
    "ax[1].plot(pd.Series(spearman_scores).rolling(window=N).mean().iloc[N-1:].values, color=\"tab:blue\")\n",
    "ax[1].set_title(\"spearman-rank vs. steps\")\n",
    "plt.savefig(output_dir / \"lda-linear-w-augmentation-3.pdf\")\n",
    "plt.show()"
   ]
  },
  {
   "cell_type": "markdown",
   "id": "89e0f48b",
   "metadata": {},
   "source": [
    "## Evaluating on STS Test partition"
   ]
  },
  {
   "cell_type": "code",
   "execution_count": 19,
   "id": "5d61087e",
   "metadata": {},
   "outputs": [
    {
     "name": "stdout",
     "output_type": "stream",
     "text": [
      "SpearmanrResult(correlation=0.26293628622715687, pvalue=8.993978431188942e-19)\n",
      "(0.2697563140960748, 1.0351205351603252e-19)\n"
     ]
    }
   ],
   "source": [
    "with torch.no_grad():\n",
    "    scores = model(test_input_tensor.to(device)).cpu().squeeze()\n",
    "\n",
    "print(spearmanr(scores, sts_test.score))\n",
    "print(pearsonr(scores, sts_test.score))"
   ]
  },
  {
   "cell_type": "markdown",
   "id": "5307904b",
   "metadata": {},
   "source": [
    "# ----------------------------------------------------------------------------------"
   ]
  },
  {
   "cell_type": "markdown",
   "id": "6ab372b6",
   "metadata": {},
   "source": [
    "# Second Approach (Don't use augmentation data)"
   ]
  },
  {
   "cell_type": "code",
   "execution_count": 20,
   "id": "64ea2bd3",
   "metadata": {},
   "outputs": [
    {
     "data": {
      "text/html": [
       "<div>\n",
       "<style scoped>\n",
       "    .dataframe tbody tr th:only-of-type {\n",
       "        vertical-align: middle;\n",
       "    }\n",
       "\n",
       "    .dataframe tbody tr th {\n",
       "        vertical-align: top;\n",
       "    }\n",
       "\n",
       "    .dataframe thead th {\n",
       "        text-align: right;\n",
       "    }\n",
       "</style>\n",
       "<table border=\"1\" class=\"dataframe\">\n",
       "  <thead>\n",
       "    <tr style=\"text-align: right;\">\n",
       "      <th></th>\n",
       "      <th>idx1</th>\n",
       "      <th>idx2</th>\n",
       "      <th>score</th>\n",
       "    </tr>\n",
       "  </thead>\n",
       "  <tbody>\n",
       "    <tr>\n",
       "      <th>0</th>\n",
       "      <td>0</td>\n",
       "      <td>0</td>\n",
       "      <td>1.00</td>\n",
       "    </tr>\n",
       "    <tr>\n",
       "      <th>1</th>\n",
       "      <td>1</td>\n",
       "      <td>1</td>\n",
       "      <td>0.52</td>\n",
       "    </tr>\n",
       "    <tr>\n",
       "      <th>2</th>\n",
       "      <td>2</td>\n",
       "      <td>2</td>\n",
       "      <td>0.52</td>\n",
       "    </tr>\n",
       "    <tr>\n",
       "      <th>3</th>\n",
       "      <td>3</td>\n",
       "      <td>3</td>\n",
       "      <td>0.04</td>\n",
       "    </tr>\n",
       "    <tr>\n",
       "      <th>4</th>\n",
       "      <td>4</td>\n",
       "      <td>4</td>\n",
       "      <td>0.70</td>\n",
       "    </tr>\n",
       "    <tr>\n",
       "      <th>...</th>\n",
       "      <td>...</td>\n",
       "      <td>...</td>\n",
       "      <td>...</td>\n",
       "    </tr>\n",
       "    <tr>\n",
       "      <th>5547</th>\n",
       "      <td>5547</td>\n",
       "      <td>5547</td>\n",
       "      <td>-0.52</td>\n",
       "    </tr>\n",
       "    <tr>\n",
       "      <th>5548</th>\n",
       "      <td>5548</td>\n",
       "      <td>5548</td>\n",
       "      <td>0.92</td>\n",
       "    </tr>\n",
       "    <tr>\n",
       "      <th>5549</th>\n",
       "      <td>5549</td>\n",
       "      <td>5549</td>\n",
       "      <td>0.84</td>\n",
       "    </tr>\n",
       "    <tr>\n",
       "      <th>5550</th>\n",
       "      <td>5550</td>\n",
       "      <td>5550</td>\n",
       "      <td>-1.00</td>\n",
       "    </tr>\n",
       "    <tr>\n",
       "      <th>5551</th>\n",
       "      <td>5551</td>\n",
       "      <td>5551</td>\n",
       "      <td>-0.20</td>\n",
       "    </tr>\n",
       "  </tbody>\n",
       "</table>\n",
       "<p>5552 rows × 3 columns</p>\n",
       "</div>"
      ],
      "text/plain": [
       "      idx1  idx2  score\n",
       "0        0     0   1.00\n",
       "1        1     1   0.52\n",
       "2        2     2   0.52\n",
       "3        3     3   0.04\n",
       "4        4     4   0.70\n",
       "...    ...   ...    ...\n",
       "5547  5547  5547  -0.52\n",
       "5548  5548  5548   0.92\n",
       "5549  5549  5549   0.84\n",
       "5550  5550  5550  -1.00\n",
       "5551  5551  5551  -0.20\n",
       "\n",
       "[5552 rows x 3 columns]"
      ]
     },
     "execution_count": 20,
     "metadata": {},
     "output_type": "execute_result"
    }
   ],
   "source": [
    "# alternative identity augmentation\n",
    "data_aug = pd.DataFrame({\n",
    "    \"idx1\": sts_train.s1.index,\n",
    "    \"idx2\": sts_train.s2.index,\n",
    "    \"score\": (sts_train.score / 5) * 2 - 1\n",
    "})\n",
    "data_aug"
   ]
  },
  {
   "cell_type": "code",
   "execution_count": 21,
   "id": "6951aca9",
   "metadata": {},
   "outputs": [],
   "source": [
    "train_dataloader = torch.utils.data.DataLoader(\n",
    "    list(zip(data_aug.idx1, data_aug.idx2, torch.FloatTensor(data_aug.score))),\n",
    "    batch_size=256,\n",
    "    shuffle=True\n",
    ")"
   ]
  },
  {
   "cell_type": "markdown",
   "id": "16b9c103",
   "metadata": {},
   "source": [
    "## 1 Embedding Model"
   ]
  },
  {
   "cell_type": "code",
   "execution_count": 22,
   "id": "ef4e7bea",
   "metadata": {},
   "outputs": [],
   "source": [
    "class EmbeddingModel(nn.Module):\n",
    "    def __init__(self, num_embeddings: int, embedding_dim: int):\n",
    "        super().__init__()\n",
    "        # embedding parameter\n",
    "        self.embeddings = nn.Parameter(torch.empty(num_embeddings, embedding_dim))\n",
    "        # initialize\n",
    "        nn.init.xavier_uniform_(self.embeddings)\n",
    "\n",
    "    def forward(self, x: torch.Tensor) -> torch.Tensor:\n",
    "        return F.normalize(x @ self.embeddings)"
   ]
  },
  {
   "cell_type": "markdown",
   "id": "8f130aa2",
   "metadata": {},
   "source": [
    "Train the model"
   ]
  },
  {
   "cell_type": "code",
   "execution_count": 23,
   "id": "a5dd483c",
   "metadata": {},
   "outputs": [
    {
     "data": {
      "application/vnd.jupyter.widget-view+json": {
       "model_id": "acb327dd51cd42eeb23d822e06ff46ff",
       "version_major": 2,
       "version_minor": 0
      },
      "text/plain": [
       "  0%|          | 0/100 [00:00<?, ?it/s]"
      ]
     },
     "metadata": {},
     "output_type": "display_data"
    }
   ],
   "source": [
    "EPOCHS = 100\n",
    "\n",
    "model = EmbeddingModel(num_embeddings=lda.num_topics, embedding_dim=2048).to(device)\n",
    "optim = torch.optim.Adam(model.parameters(), lr=0.001)\n",
    "\n",
    "all_losses, spearman_scores = [], []\n",
    "# training\n",
    "for epoch in (pbar := trange(EPOCHS)):\n",
    "    for idx1, idx2, y_hat in (pbar2 := tqdm(train_dataloader, disable=True)):\n",
    "        # extract lda probabilities\n",
    "        input_s1 = torch.stack(s1_preprocessed[idx1.tolist()].tolist()).to(device)\n",
    "        input_s2 = torch.stack(s2_preprocessed[idx2.tolist()].tolist()).to(device)\n",
    "        # compute embeddings for both input sentences\n",
    "        s1_embed = model(input_s1)\n",
    "        s2_embed = model(input_s2)\n",
    "        # compute similarity score\n",
    "        y = (s1_embed.unsqueeze(-2) @ s2_embed.unsqueeze(-1)).squeeze()\n",
    "        # compute loss\n",
    "        loss = F.mse_loss(y, y_hat.to(device))\n",
    "        # append to losses\n",
    "        all_losses.append(loss.item())\n",
    "        spearman_scores.append(spearmanr(y.detach().cpu(), y_hat)[0])\n",
    "        # optimizer step\n",
    "        optim.zero_grad()\n",
    "        loss.backward()\n",
    "        optim.step()\n",
    "        # update progress bar\n",
    "        pbar.set_postfix({\"loss\": sum(all_losses[-20:]) / 20, \"pearson\": sum(spearman_scores[-20:]) / 20})"
   ]
  },
  {
   "cell_type": "code",
   "execution_count": 24,
   "id": "52149d1e",
   "metadata": {
    "scrolled": true
   },
   "outputs": [
    {
     "data": {
      "image/png": "[encoded data removed]",
      "text/plain": [
       "<Figure size 864x360 with 2 Axes>"
      ]
     },
     "metadata": {
      "needs_background": "light"
     },
     "output_type": "display_data"
    }
   ],
   "source": [
    "N = 20\n",
    "_, ax = plt.subplots(1, 2, figsize=(12, 5))\n",
    "ax[0].plot(all_losses, color=\"tab:blue\", alpha=0.2)\n",
    "ax[0].plot(pd.Series(all_losses).rolling(window=N).mean().iloc[N-1:].values, color=\"tab:blue\")\n",
    "ax[0].set_title(\"loss vs. steps\")\n",
    "ax[1].plot(spearman_scores, color=\"tab:blue\", alpha=0.2)\n",
    "ax[1].plot(pd.Series(spearman_scores).rolling(window=N).mean().iloc[N-1:].values, color=\"tab:blue\")\n",
    "ax[1].set_title(\"spearman-rank vs. steps\")\n",
    "plt.savefig(output_dir / \"lda-embedding-wo-augmentation-100.pdf\")\n",
    "plt.show()"
   ]
  },
  {
   "cell_type": "markdown",
   "id": "a0b6b72b",
   "metadata": {},
   "source": [
    "## 2 Linear Model"
   ]
  },
  {
   "cell_type": "code",
   "execution_count": 25,
   "id": "9b5f998f",
   "metadata": {},
   "outputs": [],
   "source": [
    "class LinearModel(nn.Module):\n",
    "    def __init__(self, num_embeddings: int, embedding_dim: int):\n",
    "        super().__init__()\n",
    "        # embedding parameter\n",
    "        self.seq = nn.Sequential(\n",
    "            nn.Linear(num_embeddings*2, 1024),\n",
    "            nn.ReLU(True),\n",
    "            nn.Linear(1024, 512),\n",
    "            nn.ReLU(True),\n",
    "            nn.Linear(512, 256),\n",
    "            nn.ReLU(True),\n",
    "            nn.Linear(256, 1),\n",
    "            nn.Tanh(),\n",
    "        )\n",
    "\n",
    "    def forward(self, x: torch.Tensor) -> torch.Tensor:\n",
    "        return self.seq(x)"
   ]
  },
  {
   "cell_type": "code",
   "execution_count": 26,
   "id": "df095047",
   "metadata": {},
   "outputs": [
    {
     "data": {
      "application/vnd.jupyter.widget-view+json": {
       "model_id": "21815fd860bc4d22a9454888359e370b",
       "version_major": 2,
       "version_minor": 0
      },
      "text/plain": [
       "  0%|          | 0/100 [00:00<?, ?it/s]"
      ]
     },
     "metadata": {},
     "output_type": "display_data"
    }
   ],
   "source": [
    "EPOCHS = 100\n",
    "\n",
    "model = LinearModel(num_embeddings=lda.num_topics, embedding_dim=2048).to(device)\n",
    "optim = torch.optim.Adam(model.parameters(), lr=0.001)\n",
    "\n",
    "all_losses, spearman_scores = [], []\n",
    "# training\n",
    "for epoch in (pbar := trange(EPOCHS)):\n",
    "    for idx1, idx2, y_hat in (pbar2 := tqdm(train_dataloader, disable=True)):\n",
    "        # extract lda probabilities\n",
    "        input_s1 = torch.stack(s1_preprocessed[idx1.tolist()].tolist()).to(device)\n",
    "        input_s2 = torch.stack(s2_preprocessed[idx2.tolist()].tolist()).to(device)\n",
    "        # compute embeddings for both input sentences\n",
    "        y = model(torch.cat([input_s1, input_s2], dim=-1)).squeeze()\n",
    "        # compute similarity score\n",
    "        # y = torch.cosine_similarity(s1_embed, s2_embed)\n",
    "        # compute loss\n",
    "        loss = F.mse_loss(y, y_hat.to(device))\n",
    "        # append to losses\n",
    "        all_losses.append(loss.item())\n",
    "        spearman_scores.append(spearmanr(y.detach().cpu(), y_hat)[0])\n",
    "        # optimizer step\n",
    "        optim.zero_grad()\n",
    "        loss.backward()\n",
    "        optim.step()\n",
    "        # update progress bar\n",
    "        pbar.set_postfix({\"loss\": sum(all_losses[-20:]) / 20, \"pearson\": sum(spearman_scores[-20:]) / 20})"
   ]
  },
  {
   "cell_type": "code",
   "execution_count": 27,
   "id": "e7bad5f7",
   "metadata": {},
   "outputs": [
    {
     "data": {
      "image/png": "[encoded data removed]",
      "text/plain": [
       "<Figure size 864x360 with 2 Axes>"
      ]
     },
     "metadata": {
      "needs_background": "light"
     },
     "output_type": "display_data"
    }
   ],
   "source": [
    "N = 20\n",
    "_, ax = plt.subplots(1, 2, figsize=(12, 5))\n",
    "ax[0].plot(all_losses, color=\"tab:blue\", alpha=0.2)\n",
    "ax[0].plot(pd.Series(all_losses).rolling(window=N).mean().iloc[N-1:].values, color=\"tab:blue\")\n",
    "ax[0].set_title(\"loss vs. steps\")\n",
    "ax[1].plot(spearman_scores, color=\"tab:blue\", alpha=0.2)\n",
    "ax[1].plot(pd.Series(spearman_scores).rolling(window=N).mean().iloc[N-1:].values, color=\"tab:blue\")\n",
    "ax[1].set_title(\"spearman-rank vs. steps\")\n",
    "plt.savefig(output_dir / \"corex-linear-wo-augmentation-100.pdf\")\n",
    "plt.show()"
   ]
  },
  {
   "cell_type": "markdown",
   "id": "e6e8fe0c",
   "metadata": {},
   "source": [
    "### Let's look for overfitting"
   ]
  },
  {
   "cell_type": "code",
   "execution_count": 28,
   "id": "1441cf6f",
   "metadata": {},
   "outputs": [
    {
     "data": {
      "application/vnd.jupyter.widget-view+json": {
       "model_id": "d68460172dd14adfba82babbba0a0b01",
       "version_major": 2,
       "version_minor": 0
      },
      "text/plain": [
       "  0%|          | 0/100 [00:00<?, ?it/s]"
      ]
     },
     "metadata": {},
     "output_type": "display_data"
    }
   ],
   "source": [
    "EPOCHS = 100\n",
    "\n",
    "model = LinearModel(num_embeddings=lda.num_topics, embedding_dim=2048).to(device)\n",
    "optim = torch.optim.Adam(model.parameters(), lr=0.001)\n",
    "\n",
    "train_losses, test_losses = [], []\n",
    "train_spearman, test_spearman = [], []\n",
    "# training\n",
    "for epoch in (pbar := trange(EPOCHS)):\n",
    "    running_loss, running_pearson = 0, 0\n",
    "    for idx1, idx2, y_hat in train_dataloader:\n",
    "        # extract lda probabilities\n",
    "        input_s1 = torch.stack(s1_preprocessed[idx1.tolist()].tolist()).to(device)\n",
    "        input_s2 = torch.stack(s2_preprocessed[idx2.tolist()].tolist()).to(device)\n",
    "        # compute embeddings for both input sentences\n",
    "        y = model(torch.cat([input_s1, input_s2], dim=-1)).squeeze()\n",
    "        # compute loss\n",
    "        loss = F.mse_loss(y, y_hat.to(device))\n",
    "        # append to losses\n",
    "        running_loss += loss.item()\n",
    "        running_pearson += spearmanr(y.detach().cpu(), y_hat)[0]\n",
    "        # optimizer step\n",
    "        optim.zero_grad()\n",
    "        loss.backward()\n",
    "        optim.step()\n",
    "    \n",
    "    train_losses.append(running_loss / len(train_dataloader))\n",
    "    train_spearman.append(running_pearson / len(train_dataloader))\n",
    "\n",
    "    # update progress bar\n",
    "    pbar.set_postfix({\"loss\": train_losses[-1], \"pearson\": train_spearman[-1]})\n",
    "    \n",
    "    # Test epoch\n",
    "    y_hat = torch.Tensor(sts_test.score.tolist())\n",
    "    with torch.no_grad():\n",
    "        y = model(test_input_tensor.to(device)).squeeze()\n",
    "        test_losses.append(F.mse_loss(y, y_hat.to(device)).item())\n",
    "\n",
    "    test_spearman.append(spearmanr(y.cpu(), y_hat)[0])"
   ]
  },
  {
   "cell_type": "code",
   "execution_count": 29,
   "id": "cf76bbd7",
   "metadata": {
    "scrolled": false
   },
   "outputs": [
    {
     "data": {
      "image/png": "[encoded data removed]",
      "text/plain": [
       "<Figure size 864x360 with 2 Axes>"
      ]
     },
     "metadata": {
      "needs_background": "light"
     },
     "output_type": "display_data"
    }
   ],
   "source": [
    "N = 20\n",
    "_, ax = plt.subplots(1, 2, figsize=(12, 5))\n",
    "ax[0].plot(train_losses, label=\"train\")\n",
    "ax[0].plot(test_losses, label=\"test\")\n",
    "ax[0].set_title(\"loss vs. epochs\")\n",
    "ax[0].legend()\n",
    "ax[1].plot(train_spearman, label=\"train\")\n",
    "ax[1].plot(test_spearman, label=\"test\")\n",
    "ax[1].set_title(\"spearman-rank vs. epochs\")\n",
    "ax[1].legend()\n",
    "plt.savefig(output_dir / \"lda-linear-wo-augmentation-100-test.pdf\")\n",
    "plt.show()"
   ]
  },
  {
   "cell_type": "markdown",
   "id": "f3d38573",
   "metadata": {},
   "source": [
    "## Evaluating on STS Test partition"
   ]
  },
  {
   "cell_type": "markdown",
   "id": "e371d98e",
   "metadata": {},
   "source": [
    "### Load the dataset"
   ]
  },
  {
   "cell_type": "code",
   "execution_count": 30,
   "id": "fa621012",
   "metadata": {},
   "outputs": [
    {
     "name": "stdout",
     "output_type": "stream",
     "text": [
      "SpearmanrResult(correlation=0.1998812940165563, pvalue=2.4869380153993065e-11)\n",
      "(0.19733507524391333, 4.4761568141235774e-11)\n"
     ]
    }
   ],
   "source": [
    "with torch.no_grad():\n",
    "    scores = model(test_input_tensor.to(device)).cpu().squeeze()\n",
    "\n",
    "print(spearmanr(scores, sts_test.score))\n",
    "print(pearsonr(scores, sts_test.score))"
   ]
  }
 ],
 "metadata": {
  "kernelspec": {
   "display_name": "Python 3 (ipykernel)",
   "language": "python",
   "name": "python3"
  },
  "language_info": {
   "codemirror_mode": {
    "name": "ipython",
    "version": 3
   },
   "file_extension": ".py",
   "mimetype": "text/x-python",
   "name": "python",
   "nbconvert_exporter": "python",
   "pygments_lexer": "ipython3",
   "version": "3.9.0"
  }
 },
 "nbformat": 4,
 "nbformat_minor": 5
}
