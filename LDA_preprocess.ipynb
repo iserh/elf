{
 "cells": [
  {
   "cell_type": "markdown",
   "id": "5746a0fb",
   "metadata": {},
   "source": [
    "# LDA on STS Benchmark dataset"
   ]
  },
  {
   "cell_type": "markdown",
   "id": "70c6787f",
   "metadata": {},
   "source": [
    "### Requirements"
   ]
  },
  {
   "cell_type": "code",
   "execution_count": 1,
   "id": "2d700c7e",
   "metadata": {},
   "outputs": [],
   "source": [
    "import numpy as np\n",
    "import scipy.sparse as ss\n",
    "import pandas as pd\n",
    "import pickle\n",
    "import gensim\n",
    "\n",
    "from corextopic import corextopic as ct\n",
    "from pathlib import Path\n",
    "from sklearn.feature_extraction.text import TfidfVectorizer\n",
    "from matplotlib import pyplot as plt\n",
    "\n",
    "from sentence_similarity.data import Pipeline, PipelineConfig, STSBenchmark\n",
    "\n",
    "data_dir = Path(\"data\")\n",
    "assert data_dir.exists(), \"data_dir does not exist.\"\n",
    "output_dir = Path(\"data\")\n",
    "output_dir.mkdir(exist_ok=True, parents=True)"
   ]
  },
  {
   "cell_type": "markdown",
   "id": "9672b2f9",
   "metadata": {},
   "source": [
    "## Load the dataset"
   ]
  },
  {
   "cell_type": "code",
   "execution_count": 2,
   "id": "6b783ea9",
   "metadata": {},
   "outputs": [],
   "source": [
    "config = PipelineConfig(\n",
    "    filtered_pos_tags=[],\n",
    "    remove_stop_words=True,\n",
    "    remove_numbers=True,\n",
    "    remove_symbols=True,\n",
    "    remove_punctuation=True,\n",
    ")\n",
    "pipeline = Pipeline(config)\n",
    "config.save(data_dir)"
   ]
  },
  {
   "cell_type": "code",
   "execution_count": 3,
   "id": "b1dcb046",
   "metadata": {},
   "outputs": [],
   "source": [
    "# load the dataset\n",
    "sts_benchmark = STSBenchmark(data_dir, partition=\"train\")"
   ]
  },
  {
   "cell_type": "code",
   "execution_count": 4,
   "id": "75c4ec42",
   "metadata": {},
   "outputs": [
    {
     "name": "stderr",
     "output_type": "stream",
     "text": [
      "Preprocessing: 100%|██████████| 5552/5552 [00:03<00:00, 1553.06it/s]\n",
      "Preprocessing: 100%|██████████| 5552/5552 [00:02<00:00, 1905.70it/s]\n"
     ]
    }
   ],
   "source": [
    "# preprocess sentences\n",
    "s1_preprocessed = pipeline(sts_benchmark.s1, split_tokens=True)\n",
    "s2_preprocessed = pipeline(sts_benchmark.s2, split_tokens=True)"
   ]
  },
  {
   "cell_type": "code",
   "execution_count": 5,
   "id": "947c0e21",
   "metadata": {},
   "outputs": [
    {
     "data": {
      "text/html": [
       "<div>\n",
       "<style scoped>\n",
       "    .dataframe tbody tr th:only-of-type {\n",
       "        vertical-align: middle;\n",
       "    }\n",
       "\n",
       "    .dataframe tbody tr th {\n",
       "        vertical-align: top;\n",
       "    }\n",
       "\n",
       "    .dataframe thead th {\n",
       "        text-align: right;\n",
       "    }\n",
       "</style>\n",
       "<table border=\"1\" class=\"dataframe\">\n",
       "  <thead>\n",
       "    <tr style=\"text-align: right;\">\n",
       "      <th></th>\n",
       "      <th>s1</th>\n",
       "      <th>0</th>\n",
       "    </tr>\n",
       "  </thead>\n",
       "  <tbody>\n",
       "    <tr>\n",
       "      <th>0</th>\n",
       "      <td>A plane is taking off.</td>\n",
       "      <td>[plane, take]</td>\n",
       "    </tr>\n",
       "    <tr>\n",
       "      <th>1</th>\n",
       "      <td>A man is playing a large flute.</td>\n",
       "      <td>[man, play, large, flute]</td>\n",
       "    </tr>\n",
       "    <tr>\n",
       "      <th>2</th>\n",
       "      <td>A man is spreading shreded cheese on a pizza.</td>\n",
       "      <td>[man, spread, shred, cheese, pizza]</td>\n",
       "    </tr>\n",
       "    <tr>\n",
       "      <th>3</th>\n",
       "      <td>Three men are playing chess.</td>\n",
       "      <td>[man, play, chess]</td>\n",
       "    </tr>\n",
       "    <tr>\n",
       "      <th>4</th>\n",
       "      <td>A man is playing the cello.</td>\n",
       "      <td>[man, play, cello]</td>\n",
       "    </tr>\n",
       "    <tr>\n",
       "      <th>...</th>\n",
       "      <td>...</td>\n",
       "      <td>...</td>\n",
       "    </tr>\n",
       "    <tr>\n",
       "      <th>5547</th>\n",
       "      <td>Palestinian hunger striker, Israel reach deal</td>\n",
       "      <td>[palestinian, hunger, striker, Israel, reach, ...</td>\n",
       "    </tr>\n",
       "    <tr>\n",
       "      <th>5548</th>\n",
       "      <td>Assad says Syria will comply with UN arms reso...</td>\n",
       "      <td>[Assad, say, Syria, comply, UN, arm, resolution]</td>\n",
       "    </tr>\n",
       "    <tr>\n",
       "      <th>5549</th>\n",
       "      <td>South Korean President Sorry For Ferry Response</td>\n",
       "      <td>[south, korean, President, sorry, Ferry, Respo...</td>\n",
       "    </tr>\n",
       "    <tr>\n",
       "      <th>5550</th>\n",
       "      <td>Food price hikes raise concerns in Iran</td>\n",
       "      <td>[food, price, hike, raise, concern, Iran]</td>\n",
       "    </tr>\n",
       "    <tr>\n",
       "      <th>5551</th>\n",
       "      <td>Obama made last-minute decision on Syria approval</td>\n",
       "      <td>[Obama, -minute, decision, Syria, approval]</td>\n",
       "    </tr>\n",
       "  </tbody>\n",
       "</table>\n",
       "<p>5552 rows × 2 columns</p>\n",
       "</div>"
      ],
      "text/plain": [
       "                                                     s1  \\\n",
       "0                                A plane is taking off.   \n",
       "1                       A man is playing a large flute.   \n",
       "2         A man is spreading shreded cheese on a pizza.   \n",
       "3                          Three men are playing chess.   \n",
       "4                           A man is playing the cello.   \n",
       "...                                                 ...   \n",
       "5547      Palestinian hunger striker, Israel reach deal   \n",
       "5548  Assad says Syria will comply with UN arms reso...   \n",
       "5549    South Korean President Sorry For Ferry Response   \n",
       "5550            Food price hikes raise concerns in Iran   \n",
       "5551  Obama made last-minute decision on Syria approval   \n",
       "\n",
       "                                                      0  \n",
       "0                                         [plane, take]  \n",
       "1                             [man, play, large, flute]  \n",
       "2                   [man, spread, shred, cheese, pizza]  \n",
       "3                                    [man, play, chess]  \n",
       "4                                    [man, play, cello]  \n",
       "...                                                 ...  \n",
       "5547  [palestinian, hunger, striker, Israel, reach, ...  \n",
       "5548   [Assad, say, Syria, comply, UN, arm, resolution]  \n",
       "5549  [south, korean, President, sorry, Ferry, Respo...  \n",
       "5550          [food, price, hike, raise, concern, Iran]  \n",
       "5551        [Obama, -minute, decision, Syria, approval]  \n",
       "\n",
       "[5552 rows x 2 columns]"
      ]
     },
     "execution_count": 5,
     "metadata": {},
     "output_type": "execute_result"
    }
   ],
   "source": [
    "pd.concat([sts_benchmark.s1, s1_preprocessed], axis=1)"
   ]
  },
  {
   "cell_type": "code",
   "execution_count": 6,
   "id": "c692ec09",
   "metadata": {},
   "outputs": [],
   "source": [
    "texts = pd.concat([s1_preprocessed, s2_preprocessed])\n",
    "# create id2word dictionary\n",
    "id2word = gensim.corpora.Dictionary(texts)"
   ]
  },
  {
   "cell_type": "code",
   "execution_count": 7,
   "id": "0dfb9f3a",
   "metadata": {},
   "outputs": [],
   "source": [
    "# create lda model\n",
    "lda = gensim.models.LdaMulticore(\n",
    "   corpus=[id2word.doc2bow(text) for text in texts],\n",
    "   num_topics=50,\n",
    "   id2word=id2word,\n",
    "   minimum_probability=0\n",
    ")"
   ]
  },
  {
   "cell_type": "code",
   "execution_count": 8,
   "id": "ab436b7f",
   "metadata": {},
   "outputs": [],
   "source": [
    "# save\n",
    "lda.save(str(output_dir / \"lda\"))"
   ]
  },
  {
   "cell_type": "code",
   "execution_count": 9,
   "id": "732e3a4b",
   "metadata": {},
   "outputs": [],
   "source": [
    "# # preprocess\n",
    "# s = pipeline(sts_benchmark.s1, split_tokens=True)\n",
    "# # vectorize\n",
    "# s = [lda.id2word.doc2bow(tokens) for tokens in s]\n",
    "# # apply topic model\n",
    "# output = lda[s]\n",
    "# # convert to array\n",
    "# probs = np.array([[topic[1] for topic in out] for out in output])\n",
    "# probs.shape"
   ]
  }
 ],
 "metadata": {
  "kernelspec": {
   "display_name": "Python 3 (ipykernel)",
   "language": "python",
   "name": "python3"
  },
  "language_info": {
   "codemirror_mode": {
    "name": "ipython",
    "version": 3
   },
   "file_extension": ".py",
   "mimetype": "text/x-python",
   "name": "python",
   "nbconvert_exporter": "python",
   "pygments_lexer": "ipython3",
   "version": "3.9.7"
  }
 },
 "nbformat": 4,
 "nbformat_minor": 5
}
