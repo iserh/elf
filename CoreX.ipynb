{
 "cells": [
  {
   "cell_type": "markdown",
   "id": "5746a0fb",
   "metadata": {},
   "source": [
    "# Anchored CoreX on STS Benchmark dataset"
   ]
  },
  {
   "cell_type": "markdown",
   "id": "70c6787f",
   "metadata": {},
   "source": [
    "### Requirements"
   ]
  },
  {
   "cell_type": "code",
   "execution_count": 1,
   "id": "e24381b7",
   "metadata": {},
   "outputs": [],
   "source": [
    "import numpy as np\n",
    "import scipy.sparse as ss\n",
    "import pandas as pd\n",
    "import pickle\n",
    "\n",
    "from corextopic import corextopic as ct\n",
    "from pathlib import Path\n",
    "from sklearn.feature_extraction.text import TfidfVectorizer\n",
    "from matplotlib import pyplot as plt\n",
    "\n",
    "from sentence_similarity.data import Pipeline, PipelineConfig, STSBenchmark\n",
    "\n",
    "data_dir = Path(\"data\")\n",
    "assert data_dir.exists(), \"data_dir does not exist.\"\n",
    "output_dir = Path(\"data\")\n",
    "output_dir.mkdir(exist_ok=True, parents=True)"
   ]
  },
  {
   "cell_type": "markdown",
   "id": "9f8f4a63",
   "metadata": {},
   "source": [
    "## Preprocessing & Vectorizer"
   ]
  },
  {
   "cell_type": "code",
   "execution_count": 2,
   "id": "8be053e4",
   "metadata": {},
   "outputs": [],
   "source": [
    "config = PipelineConfig(\n",
    "    filtered_pos_tags=[],\n",
    "    remove_stop_words=True,\n",
    "    remove_numbers=False,\n",
    "    remove_symbols=False,\n",
    "    remove_punctuation=False,\n",
    ")\n",
    "pipeline = Pipeline(config)\n",
    "config.save(data_dir)"
   ]
  },
  {
   "cell_type": "code",
   "execution_count": 3,
   "id": "c403ae89",
   "metadata": {},
   "outputs": [],
   "source": [
    "# load the dataset\n",
    "sts_benchmark = STSBenchmark(data_dir, partition=\"train\")"
   ]
  },
  {
   "cell_type": "code",
   "execution_count": 4,
   "id": "c0ffeeec",
   "metadata": {},
   "outputs": [],
   "source": [
    "# preprocess sentences\n",
    "s1_preprocessed = pipeline(sts_benchmark.s1)\n",
    "s2_preprocessed = pipeline(sts_benchmark.s2)"
   ]
  },
  {
   "cell_type": "code",
   "execution_count": 5,
   "id": "740d03a4",
   "metadata": {},
   "outputs": [
    {
     "data": {
      "text/html": [
       "<div>\n",
       "<style scoped>\n",
       "    .dataframe tbody tr th:only-of-type {\n",
       "        vertical-align: middle;\n",
       "    }\n",
       "\n",
       "    .dataframe tbody tr th {\n",
       "        vertical-align: top;\n",
       "    }\n",
       "\n",
       "    .dataframe thead th {\n",
       "        text-align: right;\n",
       "    }\n",
       "</style>\n",
       "<table border=\"1\" class=\"dataframe\">\n",
       "  <thead>\n",
       "    <tr style=\"text-align: right;\">\n",
       "      <th></th>\n",
       "      <th>s1</th>\n",
       "      <th>0</th>\n",
       "    </tr>\n",
       "  </thead>\n",
       "  <tbody>\n",
       "    <tr>\n",
       "      <th>0</th>\n",
       "      <td>A plane is taking off.</td>\n",
       "      <td>plane take .</td>\n",
       "    </tr>\n",
       "    <tr>\n",
       "      <th>1</th>\n",
       "      <td>A man is playing a large flute.</td>\n",
       "      <td>man play large flute.</td>\n",
       "    </tr>\n",
       "    <tr>\n",
       "      <th>2</th>\n",
       "      <td>A man is spreading shreded cheese on a pizza.</td>\n",
       "      <td>man spread shred cheese pizza.</td>\n",
       "    </tr>\n",
       "    <tr>\n",
       "      <th>3</th>\n",
       "      <td>Three men are playing chess.</td>\n",
       "      <td>man play chess.</td>\n",
       "    </tr>\n",
       "    <tr>\n",
       "      <th>4</th>\n",
       "      <td>A man is playing the cello.</td>\n",
       "      <td>man play cello.</td>\n",
       "    </tr>\n",
       "    <tr>\n",
       "      <th>...</th>\n",
       "      <td>...</td>\n",
       "      <td>...</td>\n",
       "    </tr>\n",
       "    <tr>\n",
       "      <th>5547</th>\n",
       "      <td>Palestinian hunger striker, Israel reach deal</td>\n",
       "      <td>palestinian hunger striker, Israel reach deal</td>\n",
       "    </tr>\n",
       "    <tr>\n",
       "      <th>5548</th>\n",
       "      <td>Assad says Syria will comply with UN arms reso...</td>\n",
       "      <td>Assad say Syria comply UN arm resolution</td>\n",
       "    </tr>\n",
       "    <tr>\n",
       "      <th>5549</th>\n",
       "      <td>South Korean President Sorry For Ferry Response</td>\n",
       "      <td>south korean President sorry Ferry Response</td>\n",
       "    </tr>\n",
       "    <tr>\n",
       "      <th>5550</th>\n",
       "      <td>Food price hikes raise concerns in Iran</td>\n",
       "      <td>food price hike raise concern Iran</td>\n",
       "    </tr>\n",
       "    <tr>\n",
       "      <th>5551</th>\n",
       "      <td>Obama made last-minute decision on Syria approval</td>\n",
       "      <td>Obama -minute decision Syria approval</td>\n",
       "    </tr>\n",
       "  </tbody>\n",
       "</table>\n",
       "<p>5552 rows × 2 columns</p>\n",
       "</div>"
      ],
      "text/plain": [
       "                                                     s1  \\\n",
       "0                                A plane is taking off.   \n",
       "1                       A man is playing a large flute.   \n",
       "2         A man is spreading shreded cheese on a pizza.   \n",
       "3                          Three men are playing chess.   \n",
       "4                           A man is playing the cello.   \n",
       "...                                                 ...   \n",
       "5547      Palestinian hunger striker, Israel reach deal   \n",
       "5548  Assad says Syria will comply with UN arms reso...   \n",
       "5549    South Korean President Sorry For Ferry Response   \n",
       "5550            Food price hikes raise concerns in Iran   \n",
       "5551  Obama made last-minute decision on Syria approval   \n",
       "\n",
       "                                                  0  \n",
       "0                                      plane take .  \n",
       "1                             man play large flute.  \n",
       "2                    man spread shred cheese pizza.  \n",
       "3                                   man play chess.  \n",
       "4                                   man play cello.  \n",
       "...                                             ...  \n",
       "5547  palestinian hunger striker, Israel reach deal  \n",
       "5548       Assad say Syria comply UN arm resolution  \n",
       "5549    south korean President sorry Ferry Response  \n",
       "5550             food price hike raise concern Iran  \n",
       "5551          Obama -minute decision Syria approval  \n",
       "\n",
       "[5552 rows x 2 columns]"
      ]
     },
     "execution_count": 5,
     "metadata": {},
     "output_type": "execute_result"
    }
   ],
   "source": [
    "pd.concat([sts_benchmark.s1, s1_preprocessed], axis=1)"
   ]
  },
  {
   "cell_type": "code",
   "execution_count": 6,
   "id": "1f20e8b1",
   "metadata": {},
   "outputs": [
    {
     "name": "stdout",
     "output_type": "stream",
     "text": [
      "(11104, 9393)\n",
      "# digits: 360\n"
     ]
    }
   ],
   "source": [
    "# fit TF-IDF vectorizer\n",
    "vectorizer = TfidfVectorizer(strip_accents=\"ascii\", binary=True, ngram_range=(1,1))\n",
    "doc_word = vectorizer.fit_transform(pd.concat([s1_preprocessed, s2_preprocessed]))\n",
    "doc_word = ss.csr_matrix(doc_word)\n",
    "\n",
    "# save vectorizer\n",
    "with open(output_dir / \"vectorizer.bin\", \"wb\") as f:\n",
    "    pickle.dump(vectorizer, f)\n",
    "\n",
    "print(doc_word.shape)  # n_docs x m_words\n",
    "\n",
    "# Get words that label the columns (needed to extract readable topics and make anchoring easier)\n",
    "words = list(np.asarray(vectorizer.get_feature_names_out()))\n",
    "print(\"# digits:\", len([word for word in words if word.isdigit()]))"
   ]
  },
  {
   "cell_type": "markdown",
   "id": "007371cf",
   "metadata": {},
   "source": [
    "## CoreX Topic model"
   ]
  },
  {
   "cell_type": "code",
   "execution_count": 7,
   "id": "b324b3b7",
   "metadata": {},
   "outputs": [],
   "source": [
    "# Train the CorEx topic model with 50 topics\n",
    "topic_model = ct.Corex(n_hidden=50, words=words, max_iter=300, verbose=False, seed=1)\n",
    "topic_model.fit(doc_word, words=words);"
   ]
  },
  {
   "cell_type": "code",
   "execution_count": 51,
   "id": "95749f13",
   "metadata": {},
   "outputs": [],
   "source": [
    "topic_model.save(output_dir / \"corex_model.bin\")"
   ]
  },
  {
   "cell_type": "code",
   "execution_count": 52,
   "id": "9323c8b9",
   "metadata": {},
   "outputs": [
    {
     "name": "stdout",
     "output_type": "stream",
     "text": [
      "0: playing, dog, man, black, guitar, white, riding, running, horse, dogs\n",
      "1: percent, index, nasdaq, cents, points, stock, composite, rose, share, usd\n",
      "2: wonders, filled, vessels, explanation, universe, helmand, common, nicaragua, existence, deductive\n",
      "3: treaty, amended, cfe, conventional, europe, atomic, proliferation, 1990, ratify, energy\n",
      "4: exist, san, fine, notice, nonsensical, suu, marriages, swiss, kyi, false\n",
      "5: kills, killed, pakistan, drone, suicide, toll, afghanistan, kill, bomb, soldiers\n",
      "6: topple, lenin, eruption, 91, statue, kiev, volcano, plead, der, nazi\n",
      "7: slicing, cutting, potato, onion, woman, peeling, tomato, garlic, pieces, chopping\n",
      "8: murdoch, baluchestan, sistan, kahn, executed, ontariocommissioner, guards, hanged, heroin, hyper\n",
      "9: bowl, pan, adding, pouring, eggs, oil, pot, pours, cracking, seasoning\n",
      "10: posted, originally, absolutely, morals, believe, iceberg, answer, yes, straight, zaf\n",
      "11: yellen, confirms, similar, sri, malawi, janet, lanka, imran, senate, seekers\n",
      "12: haiti, alive, rebuild, uncle, isaac, bin, shithole, laden, koreakim, osama\n",
      "13: nullification, prosperity, jury, level, constitutional, current, britons, applier, prolific, mean\n",
      "14: armstrong, lance, guess, neil, longer, ahmadinejad, livestrong, evils, lesser, rooster\n",
      "15: hurricane, sandy, flights, confusion, majority, tel, aviv, timor, worldoldest, patient\n",
      "16: decker, double, bus, driving, hood, drives, passengers, plunge, city, robin\n",
      "17: cells, bunch, bailout, cyprus, acute, dilemma, bigger, videotron, tarp, sharing\n",
      "18: refugee, english, dictionary, ecuador, pressing, trying, curious, pointed, funny, find\n",
      "19: heaven, untrustworthy, voted, colliding, skydivers, lionel, scouts, touch, tho, gays\n",
      "20: zones, weigh, volt, fucking, settlements, flood, herd, crossing, fly, slime\n",
      "21: beckham, retires, football, david, intention, falklands, warship, mike, lakers, retire\n",
      "22: steak, rinsing, tapping, fingers, meant, explore, nails, persons, shout, required\n",
      "23: cruise, docked, ship, liner, shoreline, mas, norovirus, lithuania, matchup, mossad\n",
      "24: ha, ah, factbox, developments, kenyaaos, sevens, obamastate, narendra, negotiator, overhaul\n",
      "25: irritated, seismic, henry, duration, equal, videos, regard, restraint, resumes, rumsfeld\n",
      "26: rio, rid, janeiro, castle, crusader, retakes, slums, aware, lobby, eve\n",
      "27: enema, gb, sold, ossobuco, addie, joss, cone, washingtonnational, unconsititutional, texts\n",
      "28: ignorant, lol, willfully, omnipotent, seeing, forward, targeted, romping, refinery, oscepresidency\n",
      "29: requirements, pacific, atlantic, lifting, reconnaissance, weights, kenneth, lurdja, owl, preparing\n",
      "30: diplomats, expels, venezuela, munich, 062, waco, reclaim, psychiatristcare, prostitutes, prospect\n",
      "31: got, alright, proof, paranoid, mopeds, urban, nabbed, nah, observation, ordeal\n",
      "32: breathe, zoo, broom, buwhahahaha, teasing, sweeping, husk, pandaaos, textbook, pinal\n",
      "33: tying, shoe, noose, stenographers, adly, wait, suicidal, suggested, snubs, sharon\n",
      "34: notified, elephants, lord, sprayed, captain, 2153, marches, nimitz, notches, nsg\n",
      "35: shotgun, shoots, catholics, africapresident, monster, monti, moosebook, os, quiet, serves\n",
      "36: successful, wealthy, kurdistan, mislead, morphine, october, patrol, preakness, publishing, qaedamali\n",
      "37: posts, infestation, mosquitoes, 14000, minimize, montreal, ortega, pg, protocol, putinresignation\n",
      "38: jazeera, aired, audiotape, journalism, jubilee, labour50p, mailing, nerve, nile, oscemission\n",
      "39: impacts, fracking, sparks, responding, putinelection, noneconomic, nasd, methamphetamine, lloyd, ladencontinuing\n",
      "40: bakhit, tragic, smoothly, sec, salafi, rodney, refers, recessed, pribbenow, lo\n",
      "41: zebras, socializing, towers, switches, swamp, stockholders, singers, rotating, recordings, monitoring\n",
      "42: 028, uae, traders, sucker, spad, slant, rained, rafa, placebo, obamaday\n",
      "43: 1004, twins, syriamuslim, straightening, stabbing, shock, sadly, railway, pregnant, mubarakaos\n",
      "44: 1900, torres, surplus, steps, restarting, quicker, prolonged, ordering, manaos, malaysian\n",
      "45: afterward, tno, telemarketer, sweeps, struggle, strikeeffects, sledghammer, scrap, reflects, presenting\n",
      "46: 25bn, pitch, prisons, recalls, sir, smile, solve, sperm, paralympic, stepping\n",
      "47: 400000, spur, senegalese, scaling, saling, pocket, pictures, oks, magistrate, longevity\n",
      "48: 159, mooing, ouster, photographing, pistol, plants, poppy, prototype, mockery, pullout\n",
      "49: 647, worldfastest, wolfowitz, venezuelans, tightly, testified, spying, snowmobile, slutstamp, shuttle\n"
     ]
    }
   ],
   "source": [
    "# Print all topics from the CorEx topic model\n",
    "topics = topic_model.get_topics()\n",
    "for n,topic in enumerate(topics):\n",
    "    topic_words,_,_ = zip(*topic)\n",
    "    print('{}: '.format(n) + ', '.join(topic_words))"
   ]
  }
 ],
 "metadata": {
  "kernelspec": {
   "display_name": "Python 3 (ipykernel)",
   "language": "python",
   "name": "python3"
  },
  "language_info": {
   "codemirror_mode": {
    "name": "ipython",
    "version": 3
   },
   "file_extension": ".py",
   "mimetype": "text/x-python",
   "name": "python",
   "nbconvert_exporter": "python",
   "pygments_lexer": "ipython3",
   "version": "3.9.7"
  }
 },
 "nbformat": 4,
 "nbformat_minor": 5
}
