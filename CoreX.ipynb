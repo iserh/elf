{
 "cells": [
  {
   "cell_type": "markdown",
   "id": "5746a0fb",
   "metadata": {},
   "source": [
    "# Anchored CoreX on STS Benchmark dataset"
   ]
  },
  {
   "cell_type": "markdown",
   "id": "70c6787f",
   "metadata": {},
   "source": [
    "### Requirements"
   ]
  },
  {
   "cell_type": "code",
   "execution_count": 1,
   "id": "e24381b7",
   "metadata": {},
   "outputs": [],
   "source": [
    "import numpy as np\n",
    "import scipy.sparse as ss\n",
    "import pandas as pd\n",
    "import gensim\n",
    "import csv\n",
    "import pickle\n",
    "\n",
    "from corextopic import corextopic as ct\n",
    "from pathlib import Path\n",
    "from sklearn.feature_extraction.text import TfidfVectorizer\n",
    "from matplotlib import pyplot as plt\n",
    "\n",
    "data_dir = Path(\"data\")\n",
    "assert data_dir.exists(), \"data_dir does not exist.\"\n",
    "output_dir = Path(\"data\")\n",
    "output_dir.mkdir(exist_ok=True, parents=True)"
   ]
  },
  {
   "cell_type": "markdown",
   "id": "9672b2f9",
   "metadata": {},
   "source": [
    "## Load the dataset"
   ]
  },
  {
   "cell_type": "code",
   "execution_count": 2,
   "id": "c403ae89",
   "metadata": {},
   "outputs": [],
   "source": [
    "%%capture\n",
    "sts_train = pd.read_csv(data_dir / \"stsbenchmark\" / 'sts-train.csv', error_bad_lines=False, header = None, delimiter=\"\\t\", quoting=csv.QUOTE_NONE, encoding='utf-8')\n",
    "sts_train = sts_train.rename(columns={0: \"genre\", 1: \"filename\", 2: \"year\", 3: \"trash\", 4: \"score\", 5: \"s1\", 6: \"s2\"})"
   ]
  },
  {
   "cell_type": "code",
   "execution_count": 3,
   "id": "ce88463d",
   "metadata": {},
   "outputs": [],
   "source": [
    "sts_train.genre = sts_train.genre.astype(\"category\")\n",
    "sts_train.filename = sts_train.filename.astype(\"category\")\n",
    "sts_train.year = sts_train.year.astype(\"category\")\n",
    "sts_train.genre = sts_train.genre.astype(\"category\")"
   ]
  },
  {
   "cell_type": "code",
   "execution_count": 4,
   "id": "117339b5",
   "metadata": {},
   "outputs": [
    {
     "data": {
      "text/html": [
       "<div>\n",
       "<style scoped>\n",
       "    .dataframe tbody tr th:only-of-type {\n",
       "        vertical-align: middle;\n",
       "    }\n",
       "\n",
       "    .dataframe tbody tr th {\n",
       "        vertical-align: top;\n",
       "    }\n",
       "\n",
       "    .dataframe thead th {\n",
       "        text-align: right;\n",
       "    }\n",
       "</style>\n",
       "<table border=\"1\" class=\"dataframe\">\n",
       "  <thead>\n",
       "    <tr style=\"text-align: right;\">\n",
       "      <th></th>\n",
       "      <th>genre</th>\n",
       "      <th>filename</th>\n",
       "      <th>year</th>\n",
       "      <th>trash</th>\n",
       "      <th>score</th>\n",
       "      <th>s1</th>\n",
       "      <th>s2</th>\n",
       "    </tr>\n",
       "  </thead>\n",
       "  <tbody>\n",
       "    <tr>\n",
       "      <th>0</th>\n",
       "      <td>main-captions</td>\n",
       "      <td>MSRvid</td>\n",
       "      <td>2012test</td>\n",
       "      <td>1</td>\n",
       "      <td>5.00</td>\n",
       "      <td>A plane is taking off.</td>\n",
       "      <td>An air plane is taking off.</td>\n",
       "    </tr>\n",
       "    <tr>\n",
       "      <th>1</th>\n",
       "      <td>main-captions</td>\n",
       "      <td>MSRvid</td>\n",
       "      <td>2012test</td>\n",
       "      <td>4</td>\n",
       "      <td>3.80</td>\n",
       "      <td>A man is playing a large flute.</td>\n",
       "      <td>A man is playing a flute.</td>\n",
       "    </tr>\n",
       "    <tr>\n",
       "      <th>2</th>\n",
       "      <td>main-captions</td>\n",
       "      <td>MSRvid</td>\n",
       "      <td>2012test</td>\n",
       "      <td>5</td>\n",
       "      <td>3.80</td>\n",
       "      <td>A man is spreading shreded cheese on a pizza.</td>\n",
       "      <td>A man is spreading shredded cheese on an uncoo...</td>\n",
       "    </tr>\n",
       "    <tr>\n",
       "      <th>3</th>\n",
       "      <td>main-captions</td>\n",
       "      <td>MSRvid</td>\n",
       "      <td>2012test</td>\n",
       "      <td>6</td>\n",
       "      <td>2.60</td>\n",
       "      <td>Three men are playing chess.</td>\n",
       "      <td>Two men are playing chess.</td>\n",
       "    </tr>\n",
       "    <tr>\n",
       "      <th>4</th>\n",
       "      <td>main-captions</td>\n",
       "      <td>MSRvid</td>\n",
       "      <td>2012test</td>\n",
       "      <td>9</td>\n",
       "      <td>4.25</td>\n",
       "      <td>A man is playing the cello.</td>\n",
       "      <td>A man seated is playing the cello.</td>\n",
       "    </tr>\n",
       "    <tr>\n",
       "      <th>...</th>\n",
       "      <td>...</td>\n",
       "      <td>...</td>\n",
       "      <td>...</td>\n",
       "      <td>...</td>\n",
       "      <td>...</td>\n",
       "      <td>...</td>\n",
       "      <td>...</td>\n",
       "    </tr>\n",
       "    <tr>\n",
       "      <th>5547</th>\n",
       "      <td>main-news</td>\n",
       "      <td>headlines</td>\n",
       "      <td>2015</td>\n",
       "      <td>1489</td>\n",
       "      <td>1.20</td>\n",
       "      <td>Palestinian hunger striker, Israel reach deal</td>\n",
       "      <td>Palestinian activist detained in Israeli raid</td>\n",
       "    </tr>\n",
       "    <tr>\n",
       "      <th>5548</th>\n",
       "      <td>main-news</td>\n",
       "      <td>headlines</td>\n",
       "      <td>2015</td>\n",
       "      <td>1493</td>\n",
       "      <td>4.80</td>\n",
       "      <td>Assad says Syria will comply with UN arms reso...</td>\n",
       "      <td>Syria's Assad vows to comply with U.N. resolution</td>\n",
       "    </tr>\n",
       "    <tr>\n",
       "      <th>5549</th>\n",
       "      <td>main-news</td>\n",
       "      <td>headlines</td>\n",
       "      <td>2015</td>\n",
       "      <td>1496</td>\n",
       "      <td>4.60</td>\n",
       "      <td>South Korean President Sorry For Ferry Response</td>\n",
       "      <td>S. Korean president 'sorry' for ferry disaster</td>\n",
       "    </tr>\n",
       "    <tr>\n",
       "      <th>5550</th>\n",
       "      <td>main-news</td>\n",
       "      <td>headlines</td>\n",
       "      <td>2015</td>\n",
       "      <td>1498</td>\n",
       "      <td>0.00</td>\n",
       "      <td>Food price hikes raise concerns in Iran</td>\n",
       "      <td>American Chris Horner wins Tour of Spain</td>\n",
       "    </tr>\n",
       "    <tr>\n",
       "      <th>5551</th>\n",
       "      <td>main-news</td>\n",
       "      <td>headlines</td>\n",
       "      <td>2015</td>\n",
       "      <td>1499</td>\n",
       "      <td>2.00</td>\n",
       "      <td>Obama made last-minute decision on Syria approval</td>\n",
       "      <td>Obama mulls limited military action in Syria</td>\n",
       "    </tr>\n",
       "  </tbody>\n",
       "</table>\n",
       "<p>5552 rows × 7 columns</p>\n",
       "</div>"
      ],
      "text/plain": [
       "              genre   filename      year  trash  score  \\\n",
       "0     main-captions     MSRvid  2012test      1   5.00   \n",
       "1     main-captions     MSRvid  2012test      4   3.80   \n",
       "2     main-captions     MSRvid  2012test      5   3.80   \n",
       "3     main-captions     MSRvid  2012test      6   2.60   \n",
       "4     main-captions     MSRvid  2012test      9   4.25   \n",
       "...             ...        ...       ...    ...    ...   \n",
       "5547      main-news  headlines      2015   1489   1.20   \n",
       "5548      main-news  headlines      2015   1493   4.80   \n",
       "5549      main-news  headlines      2015   1496   4.60   \n",
       "5550      main-news  headlines      2015   1498   0.00   \n",
       "5551      main-news  headlines      2015   1499   2.00   \n",
       "\n",
       "                                                     s1  \\\n",
       "0                                A plane is taking off.   \n",
       "1                       A man is playing a large flute.   \n",
       "2         A man is spreading shreded cheese on a pizza.   \n",
       "3                          Three men are playing chess.   \n",
       "4                           A man is playing the cello.   \n",
       "...                                                 ...   \n",
       "5547      Palestinian hunger striker, Israel reach deal   \n",
       "5548  Assad says Syria will comply with UN arms reso...   \n",
       "5549    South Korean President Sorry For Ferry Response   \n",
       "5550            Food price hikes raise concerns in Iran   \n",
       "5551  Obama made last-minute decision on Syria approval   \n",
       "\n",
       "                                                     s2  \n",
       "0                           An air plane is taking off.  \n",
       "1                             A man is playing a flute.  \n",
       "2     A man is spreading shredded cheese on an uncoo...  \n",
       "3                            Two men are playing chess.  \n",
       "4                    A man seated is playing the cello.  \n",
       "...                                                 ...  \n",
       "5547      Palestinian activist detained in Israeli raid  \n",
       "5548  Syria's Assad vows to comply with U.N. resolution  \n",
       "5549     S. Korean president 'sorry' for ferry disaster  \n",
       "5550           American Chris Horner wins Tour of Spain  \n",
       "5551       Obama mulls limited military action in Syria  \n",
       "\n",
       "[5552 rows x 7 columns]"
      ]
     },
     "execution_count": 4,
     "metadata": {},
     "output_type": "execute_result"
    }
   ],
   "source": [
    "sts_train"
   ]
  },
  {
   "cell_type": "markdown",
   "id": "9f8f4a63",
   "metadata": {},
   "source": [
    "## Vectorizer & Preprocessing"
   ]
  },
  {
   "cell_type": "code",
   "execution_count": 5,
   "id": "1f20e8b1",
   "metadata": {},
   "outputs": [
    {
     "data": {
      "text/plain": [
       "(11104, 10000)"
      ]
     },
     "execution_count": 5,
     "metadata": {},
     "output_type": "execute_result"
    }
   ],
   "source": [
    "vectorizer = TfidfVectorizer(stop_words='english',max_features=10000,binary=True)\n",
    "doc_word = vectorizer.fit_transform(pd.concat([sts_train.s1, sts_train.s2]))\n",
    "doc_word = ss.csr_matrix(doc_word)\n",
    "doc_word.shape # n_docs x m_words"
   ]
  },
  {
   "cell_type": "code",
   "execution_count": 6,
   "id": "060503d2",
   "metadata": {},
   "outputs": [],
   "source": [
    "# Get words that label the columns (needed to extract readable topics and make anchoring easier)\n",
    "words = list(np.asarray(vectorizer.get_feature_names_out()))"
   ]
  },
  {
   "cell_type": "code",
   "execution_count": 7,
   "id": "32622d03",
   "metadata": {},
   "outputs": [
    {
     "data": {
      "text/plain": [
       "(11104, 9642)"
      ]
     },
     "execution_count": 7,
     "metadata": {},
     "output_type": "execute_result"
    }
   ],
   "source": [
    "not_digit_idxs = [ind for ind,word in enumerate(words) if not word.isdigit()]\n",
    "doc_word = doc_word[:,not_digit_idxs]\n",
    "words    = [word for ind,word in enumerate(words) if not word.isdigit()]\n",
    "\n",
    "doc_word.shape # n_docs x m_words"
   ]
  },
  {
   "cell_type": "code",
   "execution_count": 8,
   "id": "78d475c2",
   "metadata": {},
   "outputs": [],
   "source": [
    "with open(output_dir / \"vectorizer.bin\", \"wb\") as f:\n",
    "    pickle.dump(vectorizer, f)\n",
    "\n",
    "with open(output_dir / \"not_digit_idxs.bin\", \"wb\") as f:\n",
    "    pickle.dump(not_digit_idxs, f)"
   ]
  },
  {
   "cell_type": "markdown",
   "id": "007371cf",
   "metadata": {},
   "source": [
    "## CoreX Topic model"
   ]
  },
  {
   "cell_type": "code",
   "execution_count": 9,
   "id": "b324b3b7",
   "metadata": {},
   "outputs": [],
   "source": [
    "# Train the CorEx topic model with 50 topics\n",
    "topic_model = ct.Corex(n_hidden=50, words=words, max_iter=300, verbose=False, seed=1)\n",
    "topic_model.fit(doc_word, words=words);"
   ]
  },
  {
   "cell_type": "code",
   "execution_count": 10,
   "id": "95749f13",
   "metadata": {},
   "outputs": [],
   "source": [
    "topic_model.save(output_dir / \"topic_model.bin\")"
   ]
  },
  {
   "cell_type": "code",
   "execution_count": 11,
   "id": "9323c8b9",
   "metadata": {},
   "outputs": [
    {
     "name": "stdout",
     "output_type": "stream",
     "text": [
      "0: playing, dog, man, guitar, black, white, riding, running, horse, sitting\n",
      "1: filled, wonders, vessels, said, david, brain, beckham, cisco, company, buy\n",
      "2: points, index, composite, percent, originally, posted, nasdaq, ixic, exist, dow\n",
      "3: treaty, amended, cfe, proliferation, europe, conventional, non, soviet, mass, ratify\n",
      "4: slicing, woman, cutting, onion, potato, peeling, meat, pan, tomato, person\n",
      "5: kills, drone, killed, pakistan, afghanistan, suicide, soldiers, bomb, kill, afghan\n",
      "6: cents, share, profit, analysts, stock, unemployment, quarter, exchange, province, trading\n",
      "7: guilty, yellen, janet, false, sachin, tendulkar, las, vegas, fraud, libertarian\n",
      "8: notice, suu, kyi, nonsensical, aung, illness, deductive, things, saying, dictionary\n",
      "9: magnitude, quake, earthquake, coast, hits, tropical, hurricane, usgs, storm, sandy\n",
      "10: decker, double, bus, driving, wheel, ferris, hood, drives, passengers, plunge\n",
      "11: toll, rises, bangladesh, death, collapse, building, navy, factory, crashes, jet\n",
      "12: costa, iceberg, concordia, believe, actually, uncle, kim, wrote, sovereign, waters\n",
      "13: yuan, usd, strengthens, weakens, tourist, gang, murdoch, manning, raped, wikileaks\n",
      "14: wings, flapping, gay, marriage, swan, zealand, assume, legalise, rohtak, punjab\n",
      "15: tel, aviv, baptist, specifically, govt, sharing, nazarite, protected, baba, amr\n",
      "16: armstrong, lance, darfur, neil, ultimately, livestrong, tribal, astronaut, confesses, oprah\n",
      "17: vatican, pope, butler, francis, leaks, forex, ultimate, gold, sovereignty, benedict\n",
      "18: star, monteith, cory, colleges, holliday, glee, pop, mammoth, äėglee, tuition\n",
      "19: lessing, doris, rupee, bites, nobel, bollywood, potted, repetetive, redundant, successful\n",
      "20: venezuela, diplomats, chavez, expels, rebuild, hugo, venezuelan, wanting, nukes, barricades\n",
      "21: train, tracks, station, passenger, traveling, trains, waiting, coming, railroad, steam\n",
      "22: morals, imposing, honesty, absolutely, dutchy, burning, amazing, mob, coronation, heard\n",
      "23: prosperity, current, rat, smelling, level, contest, warship, falklands, seats, na\n",
      "24: eruption, volcano, volcanic, airports, indonesian, erupts, lava, 26pc, returns, sophisticated\n",
      "25: ha, cells, bunch, ah, avoid, tribunal, swamped, suffolk, stepping, smartphone\n",
      "26: punished, exactly, ww, stupidity, paralyze, primarily, replace, rihanna, robinson, shater\n",
      "27: circles, squirrel, spinning, killers, advocates, patch, proposing, ri, rulers, sharia\n",
      "28: docked, cruise, bending, ship, liner, demented, shoreline, newly, overtaken, proceeds\n",
      "29: steak, rinsing, aware, ames, tenuous, sunnis, strict, punching, pageants, ordeal\n",
      "30: stupid, stories, assumed, argument, wolf, packaging, taxes, swear, vocal, notification\n",
      "31: enema, curious, ossobuco, wanna, pilots, preparing, reading, spying, 88pc, tambe\n",
      "32: facilitator, smart, 25bn, heaps, hossein, howe, iac, kimball, messagelabs, nerve\n",
      "33: washing, freezer, lashed, model, moloch, nlc, seminar, shabaab, shebab, aden\n",
      "34: earth, badger, asteroid, burrowing, zips, sciences, sharply, skeptical, soar, 117kg\n",
      "35: tapping, fingers, nails, 35th, multimillionaire, occupation, parish, peripheral, qa, ronaldo\n",
      "36: abbott, pitch, lubanski, lowe, lengthy, kweifiya, knesset, indians, swap, hispanics\n",
      "37: irritated, henry, aardvark, tremor, talibanisation, tablecloth, students, stats, solo, signature\n",
      "38: ok, hope, lo, aggressive, shows, shower, scrutiny, santangelo, proportion, planes\n",
      "39: actor, gazzara, kimura, loose, lumber, mil, milligraming, overhaul, overstepped, ozawa\n",
      "40: shotgun, shoots, aftra, suicidal, sochi, shoppers, sharon, nsa, mourners, mercenaries\n",
      "41: aboard, transports, tap, suggest, sucker, sponsor, spokesmen, speeches, snubs, shores\n",
      "42: untrustworthy, touch, gemba, koichiro, masjid, lal, add, passing, pill, stakes\n",
      "43: omnipotent, accelerate, traded, shift, pulled, nominates, nah, malaysian, korobka, jokes\n",
      "44: advertisements, trying, trouble, stroke, springhallconvert, sole, rigging, riders, retaliatory, pratt\n",
      "45: 13pc, timebomb, teh, surprised, stomach, stir, shuns, shoulder, saudis, runner\n",
      "46: amend, tentative, tabs, scene, samudra, ronald, precincts, pfa, patrick, outposts\n",
      "47: couldn, undergoes, nola, nomination, olaf, quoted, shelters, slot, smother, sperm\n",
      "48: 8per, smoothly, regulators, ravaged, physical, motel, marketwatch, kidnapper, jimmy, inspections\n",
      "49: rifle, 1800s, swamp, struggle, rapidly, pal, ounce, ooo, omaha, npp\n"
     ]
    }
   ],
   "source": [
    "# Print all topics from the CorEx topic model\n",
    "topics = topic_model.get_topics()\n",
    "for n,topic in enumerate(topics):\n",
    "    topic_words,_,_ = zip(*topic)\n",
    "    print('{}: '.format(n) + ', '.join(topic_words))"
   ]
  },
  {
   "cell_type": "code",
   "execution_count": 12,
   "id": "67a8b7e4",
   "metadata": {},
   "outputs": [
    {
     "data": {
      "text/plain": [
       "[('filled', 0.005016286754741834, 1.0),\n",
       " ('wonders', 0.0049705681961236215, 1.0),\n",
       " ('vessels', 0.004794896226299633, 1.0),\n",
       " ('said', 0.0021941228993903857, 1.0),\n",
       " ('david', 0.0013350562767451399, 1.0),\n",
       " ('brain', 0.0008713031094971783, 1.0),\n",
       " ('beckham', 0.0007851159033456451, 1.0),\n",
       " ('cisco', 0.0007609624757840434, 1.0),\n",
       " ('company', 0.0007230302711440762, 1.0),\n",
       " ('buy', 0.0006970796287761391, 1.0)]"
      ]
     },
     "execution_count": 12,
     "metadata": {},
     "output_type": "execute_result"
    }
   ],
   "source": [
    "# Print a single topic from CorEx topic model\n",
    "topic_model.get_topics(topic=1, n_words=10)"
   ]
  },
  {
   "cell_type": "code",
   "execution_count": 13,
   "id": "dc107023",
   "metadata": {},
   "outputs": [
    {
     "name": "stdout",
     "output_type": "stream",
     "text": [
      "NOTE: 'docs' not provided to CorEx. Returning top docs as lists of row indices\n"
     ]
    },
    {
     "data": {
      "text/plain": [
       "[(1466, -4.128475339371107e-12),\n",
       " (830, -7.0963235287990756e-12),\n",
       " (1705, -9.320100247123264e-12),\n",
       " (1777, -1.1511014363918548e-11),\n",
       " (1200, -1.8952173164166197e-11),\n",
       " (1133, -1.8952173164166197e-11),\n",
       " (7347, -2.0686785617840542e-11),\n",
       " (1788, -3.590217012572339e-11),\n",
       " (1090, -3.781641666478208e-11),\n",
       " (6724, -3.838995787930344e-11)]"
      ]
     },
     "execution_count": 13,
     "metadata": {},
     "output_type": "execute_result"
    }
   ],
   "source": [
    "# Print a single topic from CorEx topic model\n",
    "topic_model.get_top_docs(topic=0, n_docs=10, sort_by='log_prob')"
   ]
  },
  {
   "cell_type": "code",
   "execution_count": 14,
   "id": "c4a638c6",
   "metadata": {},
   "outputs": [
    {
     "data": {
      "image/png": "[encoded data removed]",
      "text/plain": [
       "<Figure size 720x360 with 1 Axes>"
      ]
     },
     "metadata": {
      "needs_background": "light"
     },
     "output_type": "display_data"
    }
   ],
   "source": [
    "plt.figure(figsize=(10,5))\n",
    "plt.bar(range(topic_model.tcs.shape[0]), topic_model.tcs, color='#4e79a7', width=0.5)\n",
    "plt.xlabel('Topic', fontsize=16)\n",
    "plt.ylabel('Total Correlation (nats)', fontsize=16);"
   ]
  },
  {
   "cell_type": "code",
   "execution_count": 15,
   "id": "55c3238d",
   "metadata": {},
   "outputs": [
    {
     "data": {
      "text/plain": [
       "(5552, 9642)"
      ]
     },
     "execution_count": 15,
     "metadata": {},
     "output_type": "execute_result"
    }
   ],
   "source": [
    "s1_vectorized = vectorizer.transform(sts_train.s1)\n",
    "s1_vectorized = ss.csr_matrix(s1_vectorized)\n",
    "s1_vectorized = s1_vectorized[:,not_digit_idxs]\n",
    "s1_vectorized.shape # n_docs x m_words"
   ]
  },
  {
   "cell_type": "code",
   "execution_count": 16,
   "id": "67422500",
   "metadata": {},
   "outputs": [
    {
     "data": {
      "text/plain": [
       "array([0.29933802, 0.00126384, 0.01671079, 0.0118553 , 0.03667859,\n",
       "       0.01455063, 0.01060997, 0.0056905 , 0.00563265, 0.16651594,\n",
       "       0.28768138, 0.29647752, 0.24657132, 0.28149034, 0.29084299,\n",
       "       0.28159104, 0.3183846 , 0.3162301 , 0.32730847, 0.33818422,\n",
       "       0.3581214 , 0.47933032, 0.40613112, 0.35178038, 0.43395846,\n",
       "       0.52707819, 0.41830765, 0.45484671, 0.42137019, 0.53657627,\n",
       "       0.35787469, 0.4956777 , 0.53810747, 0.45787948, 0.4980896 ,\n",
       "       0.44632502, 0.56727723, 0.53614732, 0.43356897, 0.46139255,\n",
       "       0.40383305, 0.54412564, 0.53654509, 0.50453291, 0.48169525,\n",
       "       0.45545201, 0.46552498, 0.42461223, 0.54591812, 0.54714038])"
      ]
     },
     "execution_count": 16,
     "metadata": {},
     "output_type": "execute_result"
    }
   ],
   "source": [
    "s1_mask = topic_model.transform(s1_vectorized, details=True)\n",
    "s1_mask[0][0]"
   ]
  },
  {
   "cell_type": "code",
   "execution_count": 17,
   "id": "ff6df069",
   "metadata": {},
   "outputs": [
    {
     "data": {
      "text/plain": [
       "(5552, 9642)"
      ]
     },
     "execution_count": 17,
     "metadata": {},
     "output_type": "execute_result"
    }
   ],
   "source": [
    "s1_vectorized.shape # n_docs x m_words"
   ]
  }
 ],
 "metadata": {
  "kernelspec": {
   "display_name": "Python 3 (ipykernel)",
   "language": "python",
   "name": "python3"
  },
  "language_info": {
   "codemirror_mode": {
    "name": "ipython",
    "version": 3
   },
   "file_extension": ".py",
   "mimetype": "text/x-python",
   "name": "python",
   "nbconvert_exporter": "python",
   "pygments_lexer": "ipython3",
   "version": "3.9.0"
  }
 },
 "nbformat": 4,
 "nbformat_minor": 5
}
