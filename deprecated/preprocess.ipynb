{
 "cells": [
  {
   "cell_type": "markdown",
   "id": "5746a0fb",
   "metadata": {},
   "source": [
    "# Data Preprocessing"
   ]
  },
  {
   "cell_type": "markdown",
   "id": "70c6787f",
   "metadata": {},
   "source": [
    "### Requirements"
   ]
  },
  {
   "cell_type": "code",
   "execution_count": 1,
   "id": "e24381b7",
   "metadata": {},
   "outputs": [],
   "source": [
    "import pandas as pd\n",
    "import csv\n",
    "\n",
    "from pathlib import Path\n",
    "\n",
    "from preprocess import preprocess\n",
    "\n",
    "data_dir = Path(\"data\")\n",
    "assert data_dir.exists(), \"data_dir does not exist.\"\n",
    "output_dir = Path(\"data\")\n",
    "output_dir.mkdir(exist_ok=True, parents=True)"
   ]
  },
  {
   "cell_type": "markdown",
   "id": "9672b2f9",
   "metadata": {},
   "source": [
    "## Load the dataset"
   ]
  },
  {
   "cell_type": "code",
   "execution_count": 2,
   "id": "c403ae89",
   "metadata": {},
   "outputs": [],
   "source": [
    "%%capture\n",
    "sts_train = pd.read_csv(data_dir / \"stsbenchmark\" / 'sts-train.csv', error_bad_lines=False, header = None, delimiter=\"\\t\", quoting=csv.QUOTE_NONE, encoding='utf-8')\n",
    "sts_train = sts_train.rename(columns={0: \"genre\", 1: \"filename\", 2: \"year\", 3: \"trash\", 4: \"score\", 5: \"s1\", 6: \"s2\"})"
   ]
  },
  {
   "cell_type": "code",
   "execution_count": 3,
   "id": "ce88463d",
   "metadata": {},
   "outputs": [],
   "source": [
    "sts_train.genre = sts_train.genre.astype(\"category\")\n",
    "sts_train.filename = sts_train.filename.astype(\"category\")\n",
    "sts_train.year = sts_train.year.astype(\"category\")\n",
    "sts_train.genre = sts_train.genre.astype(\"category\")"
   ]
  },
  {
   "cell_type": "code",
   "execution_count": 4,
   "id": "117339b5",
   "metadata": {},
   "outputs": [
    {
     "data": {
      "text/html": [
       "<div>\n",
       "<style scoped>\n",
       "    .dataframe tbody tr th:only-of-type {\n",
       "        vertical-align: middle;\n",
       "    }\n",
       "\n",
       "    .dataframe tbody tr th {\n",
       "        vertical-align: top;\n",
       "    }\n",
       "\n",
       "    .dataframe thead th {\n",
       "        text-align: right;\n",
       "    }\n",
       "</style>\n",
       "<table border=\"1\" class=\"dataframe\">\n",
       "  <thead>\n",
       "    <tr style=\"text-align: right;\">\n",
       "      <th></th>\n",
       "      <th>genre</th>\n",
       "      <th>filename</th>\n",
       "      <th>year</th>\n",
       "      <th>trash</th>\n",
       "      <th>score</th>\n",
       "      <th>s1</th>\n",
       "      <th>s2</th>\n",
       "    </tr>\n",
       "  </thead>\n",
       "  <tbody>\n",
       "    <tr>\n",
       "      <th>0</th>\n",
       "      <td>main-captions</td>\n",
       "      <td>MSRvid</td>\n",
       "      <td>2012test</td>\n",
       "      <td>1</td>\n",
       "      <td>5.00</td>\n",
       "      <td>A plane is taking off.</td>\n",
       "      <td>An air plane is taking off.</td>\n",
       "    </tr>\n",
       "    <tr>\n",
       "      <th>1</th>\n",
       "      <td>main-captions</td>\n",
       "      <td>MSRvid</td>\n",
       "      <td>2012test</td>\n",
       "      <td>4</td>\n",
       "      <td>3.80</td>\n",
       "      <td>A man is playing a large flute.</td>\n",
       "      <td>A man is playing a flute.</td>\n",
       "    </tr>\n",
       "    <tr>\n",
       "      <th>2</th>\n",
       "      <td>main-captions</td>\n",
       "      <td>MSRvid</td>\n",
       "      <td>2012test</td>\n",
       "      <td>5</td>\n",
       "      <td>3.80</td>\n",
       "      <td>A man is spreading shreded cheese on a pizza.</td>\n",
       "      <td>A man is spreading shredded cheese on an uncoo...</td>\n",
       "    </tr>\n",
       "    <tr>\n",
       "      <th>3</th>\n",
       "      <td>main-captions</td>\n",
       "      <td>MSRvid</td>\n",
       "      <td>2012test</td>\n",
       "      <td>6</td>\n",
       "      <td>2.60</td>\n",
       "      <td>Three men are playing chess.</td>\n",
       "      <td>Two men are playing chess.</td>\n",
       "    </tr>\n",
       "    <tr>\n",
       "      <th>4</th>\n",
       "      <td>main-captions</td>\n",
       "      <td>MSRvid</td>\n",
       "      <td>2012test</td>\n",
       "      <td>9</td>\n",
       "      <td>4.25</td>\n",
       "      <td>A man is playing the cello.</td>\n",
       "      <td>A man seated is playing the cello.</td>\n",
       "    </tr>\n",
       "    <tr>\n",
       "      <th>...</th>\n",
       "      <td>...</td>\n",
       "      <td>...</td>\n",
       "      <td>...</td>\n",
       "      <td>...</td>\n",
       "      <td>...</td>\n",
       "      <td>...</td>\n",
       "      <td>...</td>\n",
       "    </tr>\n",
       "    <tr>\n",
       "      <th>5547</th>\n",
       "      <td>main-news</td>\n",
       "      <td>headlines</td>\n",
       "      <td>2015</td>\n",
       "      <td>1489</td>\n",
       "      <td>1.20</td>\n",
       "      <td>Palestinian hunger striker, Israel reach deal</td>\n",
       "      <td>Palestinian activist detained in Israeli raid</td>\n",
       "    </tr>\n",
       "    <tr>\n",
       "      <th>5548</th>\n",
       "      <td>main-news</td>\n",
       "      <td>headlines</td>\n",
       "      <td>2015</td>\n",
       "      <td>1493</td>\n",
       "      <td>4.80</td>\n",
       "      <td>Assad says Syria will comply with UN arms reso...</td>\n",
       "      <td>Syria's Assad vows to comply with U.N. resolution</td>\n",
       "    </tr>\n",
       "    <tr>\n",
       "      <th>5549</th>\n",
       "      <td>main-news</td>\n",
       "      <td>headlines</td>\n",
       "      <td>2015</td>\n",
       "      <td>1496</td>\n",
       "      <td>4.60</td>\n",
       "      <td>South Korean President Sorry For Ferry Response</td>\n",
       "      <td>S. Korean president 'sorry' for ferry disaster</td>\n",
       "    </tr>\n",
       "    <tr>\n",
       "      <th>5550</th>\n",
       "      <td>main-news</td>\n",
       "      <td>headlines</td>\n",
       "      <td>2015</td>\n",
       "      <td>1498</td>\n",
       "      <td>0.00</td>\n",
       "      <td>Food price hikes raise concerns in Iran</td>\n",
       "      <td>American Chris Horner wins Tour of Spain</td>\n",
       "    </tr>\n",
       "    <tr>\n",
       "      <th>5551</th>\n",
       "      <td>main-news</td>\n",
       "      <td>headlines</td>\n",
       "      <td>2015</td>\n",
       "      <td>1499</td>\n",
       "      <td>2.00</td>\n",
       "      <td>Obama made last-minute decision on Syria approval</td>\n",
       "      <td>Obama mulls limited military action in Syria</td>\n",
       "    </tr>\n",
       "  </tbody>\n",
       "</table>\n",
       "<p>5552 rows × 7 columns</p>\n",
       "</div>"
      ],
      "text/plain": [
       "              genre   filename      year  trash  score  \\\n",
       "0     main-captions     MSRvid  2012test      1   5.00   \n",
       "1     main-captions     MSRvid  2012test      4   3.80   \n",
       "2     main-captions     MSRvid  2012test      5   3.80   \n",
       "3     main-captions     MSRvid  2012test      6   2.60   \n",
       "4     main-captions     MSRvid  2012test      9   4.25   \n",
       "...             ...        ...       ...    ...    ...   \n",
       "5547      main-news  headlines      2015   1489   1.20   \n",
       "5548      main-news  headlines      2015   1493   4.80   \n",
       "5549      main-news  headlines      2015   1496   4.60   \n",
       "5550      main-news  headlines      2015   1498   0.00   \n",
       "5551      main-news  headlines      2015   1499   2.00   \n",
       "\n",
       "                                                     s1  \\\n",
       "0                                A plane is taking off.   \n",
       "1                       A man is playing a large flute.   \n",
       "2         A man is spreading shreded cheese on a pizza.   \n",
       "3                          Three men are playing chess.   \n",
       "4                           A man is playing the cello.   \n",
       "...                                                 ...   \n",
       "5547      Palestinian hunger striker, Israel reach deal   \n",
       "5548  Assad says Syria will comply with UN arms reso...   \n",
       "5549    South Korean President Sorry For Ferry Response   \n",
       "5550            Food price hikes raise concerns in Iran   \n",
       "5551  Obama made last-minute decision on Syria approval   \n",
       "\n",
       "                                                     s2  \n",
       "0                           An air plane is taking off.  \n",
       "1                             A man is playing a flute.  \n",
       "2     A man is spreading shredded cheese on an uncoo...  \n",
       "3                            Two men are playing chess.  \n",
       "4                    A man seated is playing the cello.  \n",
       "...                                                 ...  \n",
       "5547      Palestinian activist detained in Israeli raid  \n",
       "5548  Syria's Assad vows to comply with U.N. resolution  \n",
       "5549     S. Korean president 'sorry' for ferry disaster  \n",
       "5550           American Chris Horner wins Tour of Spain  \n",
       "5551       Obama mulls limited military action in Syria  \n",
       "\n",
       "[5552 rows x 7 columns]"
      ]
     },
     "execution_count": 4,
     "metadata": {},
     "output_type": "execute_result"
    }
   ],
   "source": [
    "sts_train"
   ]
  },
  {
   "cell_type": "code",
   "execution_count": 5,
   "metadata": {},
   "outputs": [
    {
     "data": {
      "application/vnd.jupyter.widget-view+json": {
       "model_id": "81193e8cbe10409bbdf2d10ef81567d1",
       "version_major": 2,
       "version_minor": 0
      },
      "text/plain": [
       "  0%|          | 0/5552 [00:00<?, ?it/s]"
      ]
     },
     "metadata": {},
     "output_type": "display_data"
    }
   ],
   "source": [
    "s1_processed = preprocess(sts_train.s1)"
   ]
  }
 ],
 "metadata": {
  "interpreter": {
   "hash": "c2031cad5f309ecce3c7725635a5b7ce703908d09c65dbfde6df395d8b1d2cb2"
  },
  "kernelspec": {
   "display_name": "Python 3.9.0 64-bit ('main': conda)",
   "language": "python",
   "name": "python3"
  },
  "language_info": {
   "codemirror_mode": {
    "name": "ipython",
    "version": 3
   },
   "file_extension": ".py",
   "mimetype": "text/x-python",
   "name": "python",
   "nbconvert_exporter": "python",
   "pygments_lexer": "ipython3",
   "version": "3.9.0"
  },
  "orig_nbformat": 4
 },
 "nbformat": 4,
 "nbformat_minor": 2
}
