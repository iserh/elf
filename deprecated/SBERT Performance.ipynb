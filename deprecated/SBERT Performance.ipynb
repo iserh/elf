{
 "cells": [
  {
   "cell_type": "markdown",
   "id": "50c455bc",
   "metadata": {},
   "source": [
    "# Augmenting STS Dataset with SBERT"
   ]
  },
  {
   "cell_type": "markdown",
   "id": "accec9c0",
   "metadata": {},
   "source": [
    "## Requirements"
   ]
  },
  {
   "cell_type": "code",
   "execution_count": 1,
   "id": "69ea1445",
   "metadata": {},
   "outputs": [],
   "source": [
    "import torch\n",
    "import torch.nn.functional as F\n",
    "import pandas as pd\n",
    "import csv\n",
    "\n",
    "from sentence_transformers import SentenceTransformer\n",
    "from scipy.stats import pearsonr\n",
    "from pathlib import Path\n",
    "\n",
    "src_dir = Path('data/stsbenchmark')\n",
    "assert src_dir.exists()\n",
    "output_dir = Path('data')\n",
    "output_dir.mkdir(exist_ok=True, parents=True)\n",
    "\n",
    "device = torch.device('cuda:0') if torch.cuda.is_available() else torch.device('cpu')"
   ]
  },
  {
   "cell_type": "markdown",
   "id": "af411143",
   "metadata": {},
   "source": [
    "## Load STS Benchmark Dataset"
   ]
  },
  {
   "cell_type": "code",
   "execution_count": 2,
   "id": "9cdc7766",
   "metadata": {},
   "outputs": [],
   "source": [
    "%%capture\n",
    "df_sts = pd.read_csv(src_dir / 'sts-test.csv', error_bad_lines=False, header = None, delimiter=\"\\t\", quoting=csv.QUOTE_NONE, encoding='utf-8')\n",
    "df_sts = df_sts.rename(columns={0: \"genre\", 1: \"filename\", 2: \"year\", 3: \"trash\", 4: \"score\", 5: \"s1\", 6: \"s2\"})"
   ]
  },
  {
   "cell_type": "code",
   "execution_count": 3,
   "id": "c44eef27",
   "metadata": {},
   "outputs": [],
   "source": [
    "df_sts.genre = df_sts.genre.astype(\"category\")\n",
    "df_sts.filename = df_sts.filename.astype(\"category\")\n",
    "df_sts.year = df_sts.year.astype(\"category\")\n",
    "df_sts.genre = df_sts.genre.astype(\"category\")"
   ]
  },
  {
   "cell_type": "code",
   "execution_count": 4,
   "id": "3447d33b",
   "metadata": {},
   "outputs": [
    {
     "data": {
      "text/html": [
       "<div>\n",
       "<style scoped>\n",
       "    .dataframe tbody tr th:only-of-type {\n",
       "        vertical-align: middle;\n",
       "    }\n",
       "\n",
       "    .dataframe tbody tr th {\n",
       "        vertical-align: top;\n",
       "    }\n",
       "\n",
       "    .dataframe thead th {\n",
       "        text-align: right;\n",
       "    }\n",
       "</style>\n",
       "<table border=\"1\" class=\"dataframe\">\n",
       "  <thead>\n",
       "    <tr style=\"text-align: right;\">\n",
       "      <th></th>\n",
       "      <th>genre</th>\n",
       "      <th>filename</th>\n",
       "      <th>year</th>\n",
       "      <th>trash</th>\n",
       "      <th>score</th>\n",
       "      <th>s1</th>\n",
       "      <th>s2</th>\n",
       "    </tr>\n",
       "  </thead>\n",
       "  <tbody>\n",
       "    <tr>\n",
       "      <th>0</th>\n",
       "      <td>main-captions</td>\n",
       "      <td>MSRvid</td>\n",
       "      <td>2012test</td>\n",
       "      <td>24</td>\n",
       "      <td>2.5</td>\n",
       "      <td>A girl is styling her hair.</td>\n",
       "      <td>A girl is brushing her hair.</td>\n",
       "    </tr>\n",
       "    <tr>\n",
       "      <th>1</th>\n",
       "      <td>main-captions</td>\n",
       "      <td>MSRvid</td>\n",
       "      <td>2012test</td>\n",
       "      <td>33</td>\n",
       "      <td>3.6</td>\n",
       "      <td>A group of men play soccer on the beach.</td>\n",
       "      <td>A group of boys are playing soccer on the beach.</td>\n",
       "    </tr>\n",
       "    <tr>\n",
       "      <th>2</th>\n",
       "      <td>main-captions</td>\n",
       "      <td>MSRvid</td>\n",
       "      <td>2012test</td>\n",
       "      <td>45</td>\n",
       "      <td>5.0</td>\n",
       "      <td>One woman is measuring another woman's ankle.</td>\n",
       "      <td>A woman measures another woman's ankle.</td>\n",
       "    </tr>\n",
       "    <tr>\n",
       "      <th>3</th>\n",
       "      <td>main-captions</td>\n",
       "      <td>MSRvid</td>\n",
       "      <td>2012test</td>\n",
       "      <td>63</td>\n",
       "      <td>4.2</td>\n",
       "      <td>A man is cutting up a cucumber.</td>\n",
       "      <td>A man is slicing a cucumber.</td>\n",
       "    </tr>\n",
       "    <tr>\n",
       "      <th>4</th>\n",
       "      <td>main-captions</td>\n",
       "      <td>MSRvid</td>\n",
       "      <td>2012test</td>\n",
       "      <td>66</td>\n",
       "      <td>1.5</td>\n",
       "      <td>A man is playing a harp.</td>\n",
       "      <td>A man is playing a keyboard.</td>\n",
       "    </tr>\n",
       "    <tr>\n",
       "      <th>...</th>\n",
       "      <td>...</td>\n",
       "      <td>...</td>\n",
       "      <td>...</td>\n",
       "      <td>...</td>\n",
       "      <td>...</td>\n",
       "      <td>...</td>\n",
       "      <td>...</td>\n",
       "    </tr>\n",
       "    <tr>\n",
       "      <th>1090</th>\n",
       "      <td>main-news</td>\n",
       "      <td>headlines</td>\n",
       "      <td>2015</td>\n",
       "      <td>1438</td>\n",
       "      <td>0.4</td>\n",
       "      <td>US, China fail to paper over cracks in ties</td>\n",
       "      <td>China: Relief in focus as hope for missing fades</td>\n",
       "    </tr>\n",
       "    <tr>\n",
       "      <th>1091</th>\n",
       "      <td>main-news</td>\n",
       "      <td>headlines</td>\n",
       "      <td>2015</td>\n",
       "      <td>1454</td>\n",
       "      <td>1.4</td>\n",
       "      <td>World Cup live: France 0-0 Germany</td>\n",
       "      <td>World Cup live: Germany 0-0 Ghana</td>\n",
       "    </tr>\n",
       "    <tr>\n",
       "      <th>1092</th>\n",
       "      <td>main-news</td>\n",
       "      <td>headlines</td>\n",
       "      <td>2015</td>\n",
       "      <td>1456</td>\n",
       "      <td>4.8</td>\n",
       "      <td>Tokyo to host 2020 Games</td>\n",
       "      <td>Tokyo wins race to host 2020 Olympic Games</td>\n",
       "    </tr>\n",
       "    <tr>\n",
       "      <th>1093</th>\n",
       "      <td>main-news</td>\n",
       "      <td>headlines</td>\n",
       "      <td>2015</td>\n",
       "      <td>1463</td>\n",
       "      <td>4.4</td>\n",
       "      <td>France warns of extremists benefiting from Egy...</td>\n",
       "      <td>France fears extremists will benefit from Egyp...</td>\n",
       "    </tr>\n",
       "    <tr>\n",
       "      <th>1094</th>\n",
       "      <td>main-news</td>\n",
       "      <td>headlines</td>\n",
       "      <td>2015</td>\n",
       "      <td>1482</td>\n",
       "      <td>5.0</td>\n",
       "      <td>British teenager killed in fall from Magaluf h...</td>\n",
       "      <td>British teenager killed in Magaluf hotel fall</td>\n",
       "    </tr>\n",
       "  </tbody>\n",
       "</table>\n",
       "<p>1095 rows × 7 columns</p>\n",
       "</div>"
      ],
      "text/plain": [
       "              genre   filename      year  trash  score  \\\n",
       "0     main-captions     MSRvid  2012test     24    2.5   \n",
       "1     main-captions     MSRvid  2012test     33    3.6   \n",
       "2     main-captions     MSRvid  2012test     45    5.0   \n",
       "3     main-captions     MSRvid  2012test     63    4.2   \n",
       "4     main-captions     MSRvid  2012test     66    1.5   \n",
       "...             ...        ...       ...    ...    ...   \n",
       "1090      main-news  headlines      2015   1438    0.4   \n",
       "1091      main-news  headlines      2015   1454    1.4   \n",
       "1092      main-news  headlines      2015   1456    4.8   \n",
       "1093      main-news  headlines      2015   1463    4.4   \n",
       "1094      main-news  headlines      2015   1482    5.0   \n",
       "\n",
       "                                                     s1  \\\n",
       "0                           A girl is styling her hair.   \n",
       "1              A group of men play soccer on the beach.   \n",
       "2         One woman is measuring another woman's ankle.   \n",
       "3                       A man is cutting up a cucumber.   \n",
       "4                              A man is playing a harp.   \n",
       "...                                                 ...   \n",
       "1090        US, China fail to paper over cracks in ties   \n",
       "1091                 World Cup live: France 0-0 Germany   \n",
       "1092                           Tokyo to host 2020 Games   \n",
       "1093  France warns of extremists benefiting from Egy...   \n",
       "1094  British teenager killed in fall from Magaluf h...   \n",
       "\n",
       "                                                     s2  \n",
       "0                          A girl is brushing her hair.  \n",
       "1      A group of boys are playing soccer on the beach.  \n",
       "2               A woman measures another woman's ankle.  \n",
       "3                          A man is slicing a cucumber.  \n",
       "4                          A man is playing a keyboard.  \n",
       "...                                                 ...  \n",
       "1090   China: Relief in focus as hope for missing fades  \n",
       "1091                  World Cup live: Germany 0-0 Ghana  \n",
       "1092         Tokyo wins race to host 2020 Olympic Games  \n",
       "1093  France fears extremists will benefit from Egyp...  \n",
       "1094      British teenager killed in Magaluf hotel fall  \n",
       "\n",
       "[1095 rows x 7 columns]"
      ]
     },
     "execution_count": 4,
     "metadata": {},
     "output_type": "execute_result"
    }
   ],
   "source": [
    "df_sts"
   ]
  },
  {
   "cell_type": "markdown",
   "id": "c6400735",
   "metadata": {},
   "source": [
    "## Compute Embeddings"
   ]
  },
  {
   "cell_type": "code",
   "execution_count": 5,
   "id": "465c3f48",
   "metadata": {},
   "outputs": [],
   "source": [
    "model = SentenceTransformer('all-MiniLM-L6-v2')"
   ]
  },
  {
   "cell_type": "code",
   "execution_count": 6,
   "id": "0c4fc81f",
   "metadata": {},
   "outputs": [
    {
     "name": "stdout",
     "output_type": "stream",
     "text": [
      "torch.Size([1095, 1, 384]) torch.Size([1095, 384, 1])\n"
     ]
    }
   ],
   "source": [
    "s1_embeds = model.encode(df_sts.s1, convert_to_tensor=True, device=device)\n",
    "s2_embeds = model.encode(df_sts.s2, convert_to_tensor=True, device=device)\n",
    "# normalize embeddings, reshape for later cosine similarity\n",
    "s1_embeds = F.normalize(s1_embeds).unsqueeze(1)\n",
    "s2_embeds = F.normalize(s2_embeds).unsqueeze(2)\n",
    "# print shapes\n",
    "print(s1_embeds.shape, s2_embeds.shape)"
   ]
  },
  {
   "cell_type": "code",
   "execution_count": 7,
   "id": "fa10579a",
   "metadata": {},
   "outputs": [],
   "source": [
    "scores = (s1_embeds @ s2_embeds).squeeze().cpu()"
   ]
  },
  {
   "cell_type": "code",
   "execution_count": 10,
   "id": "535c2f07",
   "metadata": {},
   "outputs": [
    {
     "data": {
      "text/plain": [
       "(0.8663615563747435, 0.0)"
      ]
     },
     "execution_count": 10,
     "metadata": {},
     "output_type": "execute_result"
    }
   ],
   "source": [
    "pearsonr(scores, df_sts.score)"
   ]
  }
 ],
 "metadata": {
  "kernelspec": {
   "display_name": "Python 3 (ipykernel)",
   "language": "python",
   "name": "python3"
  },
  "language_info": {
   "codemirror_mode": {
    "name": "ipython",
    "version": 3
   },
   "file_extension": ".py",
   "mimetype": "text/x-python",
   "name": "python",
   "nbconvert_exporter": "python",
   "pygments_lexer": "ipython3",
   "version": "3.9.0"
  }
 },
 "nbformat": 4,
 "nbformat_minor": 5
}
