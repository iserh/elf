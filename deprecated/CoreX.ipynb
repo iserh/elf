{
 "cells": [
  {
   "cell_type": "markdown",
   "id": "5746a0fb",
   "metadata": {},
   "source": [
    "# Anchored CoreX on STS Benchmark dataset"
   ]
  },
  {
   "cell_type": "markdown",
   "id": "70c6787f",
   "metadata": {},
   "source": [
    "### Requirements"
   ]
  },
  {
   "cell_type": "code",
   "execution_count": 1,
   "id": "e24381b7",
   "metadata": {},
   "outputs": [],
   "source": [
    "import numpy as np\n",
    "import scipy.sparse as ss\n",
    "import pandas as pd\n",
    "import pickle\n",
    "\n",
    "from corextopic import corextopic as ct\n",
    "from pathlib import Path\n",
    "from sklearn.feature_extraction.text import TfidfVectorizer\n",
    "from matplotlib import pyplot as plt\n",
    "\n",
    "from sentence_similarity.data import Pipeline, PipelineConfig, STSBenchmark\n",
    "\n",
    "data_dir = Path(\"data\")\n",
    "assert data_dir.exists(), \"data_dir does not exist.\"\n",
    "output_dir = Path(\"data\")\n",
    "output_dir.mkdir(exist_ok=True, parents=True)"
   ]
  },
  {
   "cell_type": "markdown",
   "id": "9f8f4a63",
   "metadata": {},
   "source": [
    "## Preprocessing & Vectorizer"
   ]
  },
  {
   "cell_type": "code",
   "execution_count": 2,
   "id": "8be053e4",
   "metadata": {},
   "outputs": [],
   "source": [
    "config = PipelineConfig(\n",
    "    filtered_pos_tags=[],\n",
    "    remove_stop_words=True,\n",
    "    remove_numbers=False,\n",
    "    remove_symbols=False,\n",
    "    remove_punctuation=False,\n",
    ")\n",
    "pipeline = Pipeline(config)\n",
    "config.save(data_dir)"
   ]
  },
  {
   "cell_type": "code",
   "execution_count": 3,
   "id": "c403ae89",
   "metadata": {},
   "outputs": [],
   "source": [
    "# load the dataset\n",
    "sts_benchmark = STSBenchmark(data_dir, partition=\"train\")"
   ]
  },
  {
   "cell_type": "code",
   "execution_count": 4,
   "id": "c0ffeeec",
   "metadata": {},
   "outputs": [
    {
     "name": "stderr",
     "output_type": "stream",
     "text": [
      "Preprocessing: 100%|██████████| 5552/5552 [00:03<00:00, 1553.36it/s]\n",
      "Preprocessing: 100%|██████████| 5552/5552 [00:02<00:00, 1947.40it/s]\n"
     ]
    }
   ],
   "source": [
    "# preprocess sentences\n",
    "s1_preprocessed = pipeline(sts_benchmark.s1)\n",
    "s2_preprocessed = pipeline(sts_benchmark.s2)"
   ]
  },
  {
   "cell_type": "code",
   "execution_count": 5,
   "id": "740d03a4",
   "metadata": {},
   "outputs": [
    {
     "data": {
      "text/html": [
       "<div>\n",
       "<style scoped>\n",
       "    .dataframe tbody tr th:only-of-type {\n",
       "        vertical-align: middle;\n",
       "    }\n",
       "\n",
       "    .dataframe tbody tr th {\n",
       "        vertical-align: top;\n",
       "    }\n",
       "\n",
       "    .dataframe thead th {\n",
       "        text-align: right;\n",
       "    }\n",
       "</style>\n",
       "<table border=\"1\" class=\"dataframe\">\n",
       "  <thead>\n",
       "    <tr style=\"text-align: right;\">\n",
       "      <th></th>\n",
       "      <th>s1</th>\n",
       "      <th>0</th>\n",
       "    </tr>\n",
       "  </thead>\n",
       "  <tbody>\n",
       "    <tr>\n",
       "      <th>0</th>\n",
       "      <td>A plane is taking off.</td>\n",
       "      <td>plane take .</td>\n",
       "    </tr>\n",
       "    <tr>\n",
       "      <th>1</th>\n",
       "      <td>A man is playing a large flute.</td>\n",
       "      <td>man play large flute.</td>\n",
       "    </tr>\n",
       "    <tr>\n",
       "      <th>2</th>\n",
       "      <td>A man is spreading shreded cheese on a pizza.</td>\n",
       "      <td>man spread shred cheese pizza.</td>\n",
       "    </tr>\n",
       "    <tr>\n",
       "      <th>3</th>\n",
       "      <td>Three men are playing chess.</td>\n",
       "      <td>man play chess.</td>\n",
       "    </tr>\n",
       "    <tr>\n",
       "      <th>4</th>\n",
       "      <td>A man is playing the cello.</td>\n",
       "      <td>man play cello.</td>\n",
       "    </tr>\n",
       "    <tr>\n",
       "      <th>...</th>\n",
       "      <td>...</td>\n",
       "      <td>...</td>\n",
       "    </tr>\n",
       "    <tr>\n",
       "      <th>5547</th>\n",
       "      <td>Palestinian hunger striker, Israel reach deal</td>\n",
       "      <td>palestinian hunger striker, Israel reach deal</td>\n",
       "    </tr>\n",
       "    <tr>\n",
       "      <th>5548</th>\n",
       "      <td>Assad says Syria will comply with UN arms reso...</td>\n",
       "      <td>Assad say Syria comply UN arm resolution</td>\n",
       "    </tr>\n",
       "    <tr>\n",
       "      <th>5549</th>\n",
       "      <td>South Korean President Sorry For Ferry Response</td>\n",
       "      <td>south korean President sorry Ferry Response</td>\n",
       "    </tr>\n",
       "    <tr>\n",
       "      <th>5550</th>\n",
       "      <td>Food price hikes raise concerns in Iran</td>\n",
       "      <td>food price hike raise concern Iran</td>\n",
       "    </tr>\n",
       "    <tr>\n",
       "      <th>5551</th>\n",
       "      <td>Obama made last-minute decision on Syria approval</td>\n",
       "      <td>Obama -minute decision Syria approval</td>\n",
       "    </tr>\n",
       "  </tbody>\n",
       "</table>\n",
       "<p>5552 rows × 2 columns</p>\n",
       "</div>"
      ],
      "text/plain": [
       "                                                     s1  \\\n",
       "0                                A plane is taking off.   \n",
       "1                       A man is playing a large flute.   \n",
       "2         A man is spreading shreded cheese on a pizza.   \n",
       "3                          Three men are playing chess.   \n",
       "4                           A man is playing the cello.   \n",
       "...                                                 ...   \n",
       "5547      Palestinian hunger striker, Israel reach deal   \n",
       "5548  Assad says Syria will comply with UN arms reso...   \n",
       "5549    South Korean President Sorry For Ferry Response   \n",
       "5550            Food price hikes raise concerns in Iran   \n",
       "5551  Obama made last-minute decision on Syria approval   \n",
       "\n",
       "                                                  0  \n",
       "0                                      plane take .  \n",
       "1                             man play large flute.  \n",
       "2                    man spread shred cheese pizza.  \n",
       "3                                   man play chess.  \n",
       "4                                   man play cello.  \n",
       "...                                             ...  \n",
       "5547  palestinian hunger striker, Israel reach deal  \n",
       "5548       Assad say Syria comply UN arm resolution  \n",
       "5549    south korean President sorry Ferry Response  \n",
       "5550             food price hike raise concern Iran  \n",
       "5551          Obama -minute decision Syria approval  \n",
       "\n",
       "[5552 rows x 2 columns]"
      ]
     },
     "execution_count": 5,
     "metadata": {},
     "output_type": "execute_result"
    }
   ],
   "source": [
    "pd.concat([sts_benchmark.s1, s1_preprocessed], axis=1)"
   ]
  },
  {
   "cell_type": "code",
   "execution_count": 6,
   "id": "1f20e8b1",
   "metadata": {},
   "outputs": [
    {
     "name": "stdout",
     "output_type": "stream",
     "text": [
      "(11104, 9393)\n",
      "# digits: 360\n"
     ]
    }
   ],
   "source": [
    "# fit TF-IDF vectorizer\n",
    "vectorizer = TfidfVectorizer(strip_accents=\"ascii\", binary=True, ngram_range=(1,1))\n",
    "doc_word = vectorizer.fit_transform(pd.concat([s1_preprocessed, s2_preprocessed]))\n",
    "doc_word = ss.csr_matrix(doc_word)\n",
    "\n",
    "# save vectorizer\n",
    "with open(output_dir / \"vectorizer.bin\", \"wb\") as f:\n",
    "    pickle.dump(vectorizer, f)\n",
    "\n",
    "print(doc_word.shape)  # n_docs x m_words\n",
    "\n",
    "# Get words that label the columns (needed to extract readable topics and make anchoring easier)\n",
    "words = list(np.asarray(vectorizer.get_feature_names_out()))\n",
    "print(\"# digits:\", len([word for word in words if word.isdigit()]))"
   ]
  },
  {
   "cell_type": "markdown",
   "id": "007371cf",
   "metadata": {},
   "source": [
    "## CoreX Topic model"
   ]
  },
  {
   "cell_type": "code",
   "execution_count": 7,
   "id": "b324b3b7",
   "metadata": {},
   "outputs": [
    {
     "data": {
      "image/png": "[encoded data removed]",
      "text/plain": [
       "<Figure size 432x288 with 1 Axes>"
      ]
     },
     "metadata": {
      "needs_background": "light"
     },
     "output_type": "display_data"
    }
   ],
   "source": [
    "# Train the CorEx topic model with 50 topics\n",
    "topic_model = ct.Corex(n_hidden=50, words=words, max_iter=300, seed=1)\n",
    "topic_model.fit(doc_word, words=words)\n",
    "\n",
    "plt.plot(topic_model.tc_history)\n",
    "plt.show()"
   ]
  },
  {
   "cell_type": "code",
   "execution_count": 8,
   "id": "95749f13",
   "metadata": {},
   "outputs": [],
   "source": [
    "topic_model.save(output_dir / \"corex_model.bin\")"
   ]
  },
  {
   "cell_type": "code",
   "execution_count": 9,
   "id": "9323c8b9",
   "metadata": {},
   "outputs": [
    {
     "name": "stdout",
     "output_type": "stream",
     "text": [
      "0: dog, white, black, ride, run, sit, horse, brown, stand, snow\n",
      "1: percent, stock, index, cent, share, nasdaq, point, composite, standard, high\n",
      "2: san, birthday, suu, murdoch, kyi, lessing, doris, aung, frank, equal\n",
      "3: king, asylum, universe, explanation, monteith, cory, margaret, thatcher, self, tendulkar\n",
      "4: wonder, vessel, fill, plead, guilty, fraud, false, bail, cholesterol, whitey\n",
      "5: slice, onion, cut, woman, potato, peel, meat, tomato, chop, pan\n",
      "6: nuclear, korea, north, program, proliferation, united, peaceful, weapon, international, states\n",
      "7: kill, drone, pakistan, soldier, afghanistan, suicide, bomb, attack, afghan, militant\n",
      "8: post, originally, buy, common, hi, sense, lustig, andrei, pregnancy, crossword\n",
      "9: opinion, bin, illness, sistan, baluchestan, laden, 7th, osama, matter, wimbledon\n",
      "10: play, guitar, flute, man, piano, keyboard, singe, drum, singing, violin\n",
      "11: quake, magnitude, usgs, beckham, retire, jolt, cenc, tel, aviv, tsunami\n",
      "12: treaty, amend, ratify, cfe, conventional, suspend, 1990, europe, withdraw, participation\n",
      "13: confusion, packet, liar, steer, punish, evacuation, exactly, ketchup, freefall, essentially\n",
      "14: exist, fine, wrong, satyrs, leprechaun, fairy, outraged, disappointed, morally, trend\n",
      "15: diplomat, expel, venezuela, prague, eyes, peacekeeper, chavez, hey, venezuelan, atheist\n",
      "16: notice, nonsensical, breathe, druce, ahmadinejad, buwhahahaha, deaf, isolation, conte, iranparliament\n",
      "17: syndicate, er, tarmac, wells, dilution, va, fiance, banker, somers, grandchild\n",
      "18: caucus, santorum, maine, egyptmain, comeback, taxi, kansas, profile, daschle, confirmation\n",
      "19: armstrong, guess, lance, neil, livestrong, astronaut, op, berkman, biopic, 82\n",
      "20: iron, stab, hummingbird, jetpack, dome, promenade, passersby, spark, intercept, iranrouhani\n",
      "21: mont, blanc, ufo, murray, knighthood, andy, warsaw, deserve, egyptsinai, avalanche\n",
      "22: statue, lenin, topple, kiev, carve, kresler, owl, principle, reprocess, shoddy\n",
      "23: baptist, specifically, birth, nazarite, dutchy, gnostic, nickfun, proverbs, punk, reinstate\n",
      "24: timor, irritated, gusmao, consolidate, martial, henry, art, pratice, arts, schools\n",
      "25: sovereign, fact, dutch, repeat, simple, check, ignore, doom, calender, obamasupreme\n",
      "26: mouse, peck, rooster, snake, dangle, 165, tentative, stenograph, shinseki, rhode\n",
      "27: evil, enema, honesty, moral, nigel, farage, ossobuco, less, lesser, 911\n",
      "28: requirement, atlantic, pacific, reconnaissance, undermining, grameen, joyce, niece, overwhelmingly, patrolling\n",
      "29: circle, squirrel, finger, tap, nail, blend, abduction, russiasecurity, parish, ordeal\n",
      "30: ha, ah, 540, jeopardy, jittery, kangroo, lifestyle, pnc, pp, prawak\n",
      "31: wash, freezer, rotor, banner, 004, nvidiafiscal, observation, prospect, quiet, reclaim\n",
      "32: latvia, slovakia, lithuania, belarus, chiefs, marcos, mediator, ministersao, moosebook, motherday\n",
      "33: haiti, shithole, drench, isaac, 227, jihad, mossad, mural, neanderrevise, pingeon\n",
      "34: worldstrict, vietnamdrug, pakistanmalala, primarily, raise, rapperattorney, rebelheld, reconsider, abrupt, seizure\n",
      "35: murderer, mekong, 142, southwest, scoreboard, reyna, rattle, proactive, placebo, patience\n",
      "36: von, heinrich, pierer, 460, latin, listen, mabry, master, navalny, owens\n",
      "37: curious, skydiver, collide, braindead, wanna, amusing, messianic, misadventure, mourner, nm\n",
      "38: 2010, lament, lumber, manmohan, moo, redesign, regiontransportation, repair, repel, scarf\n",
      "39: definitely, voted, 185, minimize, nascar, nominate, prolong, realize, relocation, sam\n",
      "40: aware, skit, boxer, 1993, individualrisk, jam, jeb, khatami, lash, lavrov\n",
      "41: kenyaaos, sevens, africanelson, leniency, lloyd, luzerne, malala, manboy, meantime, mediation\n",
      "42: adly, malaysian, mandelainspiration, mko, moloch, museveni, pedestal, pitch, qa, quietly\n",
      "43: proof, paranoid, 119, gam, handle, letlet, olmert, patriot, fundimental, punch\n",
      "44: 1980s, patron, persian, philadelphia, reassure, restriction, scalle, sharon, shoe, slur\n",
      "45: alp, orphan, 1800, kirkintilloch, leeds, methodical, mounted, offshore, organized, pine\n",
      "46: 4th, stuart, stenographer, silence, recede, putinelection, maoist, malaysialong, lupas, homes\n",
      "47: advantage, lukehospital, magic, mahmoud, marsden, meditate, morsisupporter, officers, outpost, posthumous\n",
      "48: omnipotent, abulance, nab, narendra, nra, preakness, rohani, serial, microsoftsurface, sewol\n",
      "49: adjust, malawinew, metre, mid, nsa, offense, ortega, particular, physical, pines\n"
     ]
    }
   ],
   "source": [
    "# Print all topics from the CorEx topic model\n",
    "topics = topic_model.get_topics()\n",
    "for n,topic in enumerate(topics):\n",
    "    topic_words,_,_ = zip(*topic)\n",
    "    print('{}: '.format(n) + ', '.join(topic_words))"
   ]
  }
 ],
 "metadata": {
  "kernelspec": {
   "display_name": "Python 3 (ipykernel)",
   "language": "python",
   "name": "python3"
  },
  "language_info": {
   "codemirror_mode": {
    "name": "ipython",
    "version": 3
   },
   "file_extension": ".py",
   "mimetype": "text/x-python",
   "name": "python",
   "nbconvert_exporter": "python",
   "pygments_lexer": "ipython3",
   "version": "3.9.7"
  }
 },
 "nbformat": 4,
 "nbformat_minor": 5
}
