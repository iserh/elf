{
 "cells": [
  {
   "cell_type": "markdown",
   "id": "7d936036",
   "metadata": {},
   "source": [
    "# Training (small) model build on CoreX topic model"
   ]
  },
  {
   "cell_type": "markdown",
   "id": "85a0a5c7",
   "metadata": {},
   "source": [
    "### Requirements"
   ]
  },
  {
   "cell_type": "code",
   "execution_count": 1,
   "id": "d5bba398",
   "metadata": {
    "scrolled": true
   },
   "outputs": [
    {
     "name": "stderr",
     "output_type": "stream",
     "text": [
      "/home/iai/user/iser/.conda/envs/main/lib/python3.9/site-packages/torch/cuda/__init__.py:80: UserWarning: CUDA initialization: Unexpected error from cudaGetDeviceCount(). Did you run some cuda functions before calling NumCudaDevices() that might have already set an error? Error 804: forward compatibility was attempted on non supported HW (Triggered internally at  /opt/conda/conda-bld/pytorch_1634272204863/work/c10/cuda/CUDAFunctions.cpp:112.)\n",
      "  return torch._C._cuda_getDeviceCount() > 0\n"
     ]
    }
   ],
   "source": [
    "from typing import Tuple\n",
    "from pathlib import Path\n",
    "\n",
    "import numpy as np\n",
    "import pandas as pd\n",
    "import torch\n",
    "import torch.nn as nn\n",
    "import torch.nn.functional as F\n",
    "from matplotlib import pyplot as plt\n",
    "from torchmetrics import Accuracy, SpearmanCorrcoef\n",
    "from tqdm.notebook import tqdm\n",
    "\n",
    "from utils import corex_probs_factory, syntax_factory\n",
    "\n",
    "data_dir = Path(\"/home/iailab36/iser/data/stsbenchmark\")\n",
    "model_dir = Path(\"/home/iailab36/iser/models\")"
   ]
  },
  {
   "cell_type": "code",
   "execution_count": 2,
   "id": "3639de72-d37d-43a6-a3b9-b0dd80c8e6d6",
   "metadata": {},
   "outputs": [],
   "source": [
    "# Load benchmark dataset\n",
    "train_data = pd.read_feather(data_dir / \"sts-train.feather\")\n",
    "val_data = pd.read_feather(data_dir / \"sts-dev.feather\")"
   ]
  },
  {
   "cell_type": "markdown",
   "id": "a932b988-63fc-4b0d-9da6-7b1f28009044",
   "metadata": {},
   "source": [
    "## Pre-compute features"
   ]
  },
  {
   "cell_type": "code",
   "execution_count": 3,
   "id": "6dd268a3-0bc4-4346-82c3-af4fc9786a83",
   "metadata": {},
   "outputs": [],
   "source": [
    "features_train = []\n",
    "features_val = []"
   ]
  },
  {
   "cell_type": "markdown",
   "id": "fc3d9631-bda1-404d-82b6-de3cea1ea494",
   "metadata": {},
   "source": [
    "### topic model features"
   ]
  },
  {
   "cell_type": "code",
   "execution_count": 4,
   "id": "593b88dd",
   "metadata": {},
   "outputs": [],
   "source": [
    "get_topic_probs = corex_probs_factory(\n",
    "    corex_path=model_dir / \"corex-sts-300\",\n",
    "    vectorizer_path=model_dir / \"vectorizer-sts-10000\",\n",
    ")"
   ]
  },
  {
   "cell_type": "code",
   "execution_count": 5,
   "id": "8023d808",
   "metadata": {},
   "outputs": [],
   "source": [
    "# compute topic probabilities\n",
    "topic_probs_train_1 = get_topic_probs(train_data.s1)\n",
    "topic_probs_train_2 = get_topic_probs(train_data.s2)\n",
    "topic_probs_val_1 = get_topic_probs(val_data.s1)\n",
    "topic_probs_val_2 = get_topic_probs(val_data.s2)\n",
    "# concatenate topics of the two sentences\n",
    "topic_probs_train = np.concatenate([topic_probs_train_1, topic_probs_train_2], axis=1)\n",
    "topic_probs_val = np.concatenate([topic_probs_val_1, topic_probs_val_2], axis=1)\n",
    "# add to features list\n",
    "features_train.append(topic_probs_train)\n",
    "features_val.append(topic_probs_val)"
   ]
  },
  {
   "cell_type": "markdown",
   "id": "3ec5e1bd-6f65-416a-ae66-d30480beb0ac",
   "metadata": {},
   "source": [
    "### syntax features"
   ]
  },
  {
   "cell_type": "code",
   "execution_count": 6,
   "id": "3ea3583c",
   "metadata": {},
   "outputs": [],
   "source": [
    "# get_syntax_deps = syntax_factory()\n",
    "# # compute syntax tokens\n",
    "# syntax_train_1 = get_syntax_deps(train_data.s1)\n",
    "# syntax_train_2 = get_syntax_deps(train_data.s2)\n",
    "# syntax_val_1 = get_syntax_deps(val_data.s1)\n",
    "# syntax_val_2 = get_syntax_deps(val_data.s2)\n",
    "# # mask matching syntax\n",
    "# syntax_train = (syntax_train_1 == syntax_train_2).astype(int)\n",
    "# syntax_val = (syntax_val_1 == syntax_val_2).astype(int)\n",
    "# # append to features list\n",
    "# features_train.append(syntax_train)\n",
    "# features_val.append(syntax_val)"
   ]
  },
  {
   "cell_type": "markdown",
   "id": "21fb0237",
   "metadata": {},
   "source": [
    "## Training without data augmentation"
   ]
  },
  {
   "cell_type": "code",
   "execution_count": 7,
   "id": "01c54bcc",
   "metadata": {},
   "outputs": [],
   "source": [
    "# create input vectors\n",
    "X_train = torch.FloatTensor(np.concatenate(features_train, axis=1))\n",
    "X_val = torch.FloatTensor(np.concatenate(features_val, axis=1))\n",
    "# create targets\n",
    "y_train = torch.FloatTensor(train_data.score)\n",
    "y_val = torch.FloatTensor(val_data.score)"
   ]
  },
  {
   "cell_type": "code",
   "execution_count": 8,
   "id": "9c5d1729",
   "metadata": {},
   "outputs": [],
   "source": [
    "train_dataloader = torch.utils.data.DataLoader(list(zip(X_train, y_train)), batch_size=64, shuffle=True)\n",
    "val_dataloader = torch.utils.data.DataLoader(list(zip(X_val, y_val)), batch_size=256)"
   ]
  },
  {
   "cell_type": "code",
   "execution_count": 9,
   "id": "2445e1fc",
   "metadata": {},
   "outputs": [],
   "source": [
    "def init_weights(m):\n",
    "    if isinstance(m, nn.Linear):\n",
    "        torch.nn.init.xavier_uniform_(m.weight)\n",
    "        m.bias.data.fill_(0.01)\n",
    "\n",
    "class SimilarityModel(nn.Module):\n",
    "    def __init__(self, layers: Tuple[int]):\n",
    "        super().__init__()\n",
    "        # main net\n",
    "        self.layers = nn.ModuleList([nn.Linear(in_feat, out_feat) for in_feat, out_feat in zip(layers[:-1], layers[1:])])\n",
    "        # initialize\n",
    "        self.layers.apply(init_weights)\n",
    "\n",
    "    def forward(self, x) -> torch.Tensor:\n",
    "        # feed through all layers\n",
    "        for layer in self.layers[:-1]:\n",
    "            x = F.relu(layer(x))\n",
    "        # last layer without activation\n",
    "        return self.layers[-1](x).squeeze()"
   ]
  },
  {
   "cell_type": "code",
   "execution_count": 10,
   "id": "539bac87",
   "metadata": {},
   "outputs": [
    {
     "data": {
      "text/plain": [
       "torch.Size([64])"
      ]
     },
     "execution_count": 10,
     "metadata": {},
     "output_type": "execute_result"
    }
   ],
   "source": [
    "model = SimilarityModel(layers=(X_train.shape[1], 512, 256, 1))\n",
    "x, y_hat = next(iter(train_dataloader))\n",
    "model(x).shape"
   ]
  },
  {
   "cell_type": "code",
   "execution_count": 14,
   "id": "5bdffc70",
   "metadata": {},
   "outputs": [
    {
     "name": "stderr",
     "output_type": "stream",
     "text": [
      "/home/iai/user/iser/.conda/envs/main/lib/python3.9/site-packages/torchmetrics/utilities/prints.py:36: UserWarning: Metric `SpearmanCorrcoef` will save all targets and predictions in the buffer. For large datasets, this may lead to large memory footprint.\n",
      "  warnings.warn(*args, **kwargs)\n"
     ]
    },
    {
     "data": {
      "application/vnd.jupyter.widget-view+json": {
       "model_id": "052b6b2ef7924876abf19e46f052f262",
       "version_major": 2,
       "version_minor": 0
      },
      "text/plain": [
       "  0%|          | 0/8000 [00:00<?, ?it/s]"
      ]
     },
     "metadata": {},
     "output_type": "display_data"
    }
   ],
   "source": [
    "N_STEPS = 8_000\n",
    "V_INTERVAL = 20\n",
    "\n",
    "model = SimilarityModel(layers=(X_train.shape[1], 512, 512, 256, 128, 64, 1))\n",
    "optim = torch.optim.Adam(model.parameters(), lr=1e-4)\n",
    "criterion = nn.MSELoss()\n",
    "metric = SpearmanCorrcoef()\n",
    "\n",
    "train_losses, train_spearman = [], []\n",
    "test_losses, test_spearman = [], []\n",
    "running_loss = 0\n",
    "step = 0\n",
    "\n",
    "# training\n",
    "with tqdm(total=N_STEPS) as pbar:\n",
    "    while step < N_STEPS:\n",
    "        for x, y_hat in train_dataloader:\n",
    "            # increase step\n",
    "            step += 1\n",
    "            if step > N_STEPS:\n",
    "                break\n",
    "            # compute embeddings for both input sentences\n",
    "            y = model(x)\n",
    "            # compute loss\n",
    "            loss = criterion(y, y_hat)\n",
    "            # loss, metric tracking\n",
    "            running_loss += loss.item()\n",
    "            metric(y, y_hat)\n",
    "            # optimizer step\n",
    "            optim.zero_grad()\n",
    "            loss.backward()\n",
    "            optim.step()\n",
    "\n",
    "            # metric logging\n",
    "            if step % V_INTERVAL == 0:\n",
    "                # Test epoch\n",
    "                with torch.no_grad():\n",
    "                    y, y_hat = [*zip(*[(model(x), y_hat) for x, y_hat in val_dataloader])]\n",
    "                y = torch.cat(y)\n",
    "                y_hat = torch.cat(y_hat)\n",
    "                # append metrics\n",
    "                train_losses.append(running_loss / V_INTERVAL)\n",
    "                train_spearman.append(metric.compute())\n",
    "                test_losses.append(criterion(y, y_hat))\n",
    "                test_spearman.append(metric(y, y_hat))\n",
    "                # reset tracking\n",
    "                running_loss = 0\n",
    "                metric.reset()\n",
    "                # update progress bar\n",
    "                pbar.set_postfix({\"loss\": train_losses[-1], \"train\": train_spearman[-1], \"test\": test_spearman[-1]})\n",
    "\n",
    "            pbar.update()"
   ]
  },
  {
   "cell_type": "code",
   "execution_count": 15,
   "id": "75f60264",
   "metadata": {
    "scrolled": true
   },
   "outputs": [
    {
     "data": {
      "image/png": "[encoded data removed]",
      "text/plain": [
       "<Figure size 864x360 with 2 Axes>"
      ]
     },
     "metadata": {
      "needs_background": "light"
     },
     "output_type": "display_data"
    }
   ],
   "source": [
    "N = 20\n",
    "_, ax = plt.subplots(1, 2, figsize=(12, 5))\n",
    "ax[0].plot(train_losses, color=\"tab:blue\", alpha=0.2)\n",
    "ax[0].plot(pd.Series(train_losses).rolling(window=N).mean().iloc[N-1:].values, color=\"tab:blue\")\n",
    "ax[0].set_title(\"loss vs. steps\")\n",
    "ax[1].plot(train_spearman, color=\"tab:blue\", alpha=0.2)\n",
    "ax[1].plot(pd.Series(train_spearman).rolling(window=N).mean().iloc[N-1:].values, color=\"tab:blue\", label=f\"train ({max(train_spearman):.3f})\")\n",
    "ax[1].plot(test_spearman, color=\"tab:orange\", alpha=0.2)\n",
    "ax[1].plot(pd.Series(test_spearman).rolling(window=N).mean().iloc[N-1:].values, color=\"tab:orange\", label=f\"test ({max(test_spearman):.3f})\")\n",
    "ax[1].set_title(\"spearman-rank vs. steps\")\n",
    "ax[1].legend()\n",
    "plt.show()"
   ]
  },
  {
   "cell_type": "markdown",
   "id": "a683639f",
   "metadata": {},
   "source": [
    "## Analyse Performance"
   ]
  },
  {
   "cell_type": "code",
   "execution_count": 13,
   "id": "6df8f0f3",
   "metadata": {},
   "outputs": [
    {
     "ename": "ValueError",
     "evalue": "not enough values to unpack (expected 3, got 2)",
     "output_type": "error",
     "traceback": [
      "\u001b[0;31m---------------------------------------------------------------------------\u001b[0m",
      "\u001b[0;31mValueError\u001b[0m                                Traceback (most recent call last)",
      "\u001b[0;32m/tmp/ipykernel_1178533/1852732783.py\u001b[0m in \u001b[0;36m<module>\u001b[0;34m\u001b[0m\n\u001b[1;32m      1\u001b[0m \u001b[0;31m# score test dataset\u001b[0m\u001b[0;34m\u001b[0m\u001b[0;34m\u001b[0m\u001b[0m\n\u001b[1;32m      2\u001b[0m \u001b[0;32mwith\u001b[0m \u001b[0mtorch\u001b[0m\u001b[0;34m.\u001b[0m\u001b[0mno_grad\u001b[0m\u001b[0;34m(\u001b[0m\u001b[0;34m)\u001b[0m\u001b[0;34m:\u001b[0m\u001b[0;34m\u001b[0m\u001b[0;34m\u001b[0m\u001b[0m\n\u001b[0;32m----> 3\u001b[0;31m     \u001b[0my\u001b[0m\u001b[0;34m,\u001b[0m \u001b[0my_hat\u001b[0m \u001b[0;34m=\u001b[0m \u001b[0;34m[\u001b[0m\u001b[0;34m*\u001b[0m\u001b[0mzip\u001b[0m\u001b[0;34m(\u001b[0m\u001b[0;34m*\u001b[0m\u001b[0;34m[\u001b[0m\u001b[0;34m(\u001b[0m\u001b[0mmodel\u001b[0m\u001b[0;34m(\u001b[0m\u001b[0mfeatA\u001b[0m\u001b[0;34m,\u001b[0m \u001b[0mfeatB\u001b[0m\u001b[0;34m)\u001b[0m\u001b[0;34m,\u001b[0m \u001b[0mscore\u001b[0m\u001b[0;34m)\u001b[0m \u001b[0;32mfor\u001b[0m \u001b[0mfeatA\u001b[0m\u001b[0;34m,\u001b[0m \u001b[0mfeatB\u001b[0m\u001b[0;34m,\u001b[0m \u001b[0mscore\u001b[0m \u001b[0;32min\u001b[0m \u001b[0mval_dataloader\u001b[0m\u001b[0;34m]\u001b[0m\u001b[0;34m)\u001b[0m\u001b[0;34m]\u001b[0m\u001b[0;34m\u001b[0m\u001b[0;34m\u001b[0m\u001b[0m\n\u001b[0m\u001b[1;32m      4\u001b[0m \u001b[0my\u001b[0m \u001b[0;34m=\u001b[0m \u001b[0mtorch\u001b[0m\u001b[0;34m.\u001b[0m\u001b[0mcat\u001b[0m\u001b[0;34m(\u001b[0m\u001b[0my\u001b[0m\u001b[0;34m)\u001b[0m\u001b[0;34m\u001b[0m\u001b[0;34m\u001b[0m\u001b[0m\n\u001b[1;32m      5\u001b[0m \u001b[0my_hat\u001b[0m \u001b[0;34m=\u001b[0m \u001b[0mtorch\u001b[0m\u001b[0;34m.\u001b[0m\u001b[0mcat\u001b[0m\u001b[0;34m(\u001b[0m\u001b[0my_hat\u001b[0m\u001b[0;34m)\u001b[0m\u001b[0;34m\u001b[0m\u001b[0;34m\u001b[0m\u001b[0m\n",
      "\u001b[0;32m/tmp/ipykernel_1178533/1852732783.py\u001b[0m in \u001b[0;36m<listcomp>\u001b[0;34m(.0)\u001b[0m\n\u001b[1;32m      1\u001b[0m \u001b[0;31m# score test dataset\u001b[0m\u001b[0;34m\u001b[0m\u001b[0;34m\u001b[0m\u001b[0m\n\u001b[1;32m      2\u001b[0m \u001b[0;32mwith\u001b[0m \u001b[0mtorch\u001b[0m\u001b[0;34m.\u001b[0m\u001b[0mno_grad\u001b[0m\u001b[0;34m(\u001b[0m\u001b[0;34m)\u001b[0m\u001b[0;34m:\u001b[0m\u001b[0;34m\u001b[0m\u001b[0;34m\u001b[0m\u001b[0m\n\u001b[0;32m----> 3\u001b[0;31m     \u001b[0my\u001b[0m\u001b[0;34m,\u001b[0m \u001b[0my_hat\u001b[0m \u001b[0;34m=\u001b[0m \u001b[0;34m[\u001b[0m\u001b[0;34m*\u001b[0m\u001b[0mzip\u001b[0m\u001b[0;34m(\u001b[0m\u001b[0;34m*\u001b[0m\u001b[0;34m[\u001b[0m\u001b[0;34m(\u001b[0m\u001b[0mmodel\u001b[0m\u001b[0;34m(\u001b[0m\u001b[0mfeatA\u001b[0m\u001b[0;34m,\u001b[0m \u001b[0mfeatB\u001b[0m\u001b[0;34m)\u001b[0m\u001b[0;34m,\u001b[0m \u001b[0mscore\u001b[0m\u001b[0;34m)\u001b[0m \u001b[0;32mfor\u001b[0m \u001b[0mfeatA\u001b[0m\u001b[0;34m,\u001b[0m \u001b[0mfeatB\u001b[0m\u001b[0;34m,\u001b[0m \u001b[0mscore\u001b[0m \u001b[0;32min\u001b[0m \u001b[0mval_dataloader\u001b[0m\u001b[0;34m]\u001b[0m\u001b[0;34m)\u001b[0m\u001b[0;34m]\u001b[0m\u001b[0;34m\u001b[0m\u001b[0;34m\u001b[0m\u001b[0m\n\u001b[0m\u001b[1;32m      4\u001b[0m \u001b[0my\u001b[0m \u001b[0;34m=\u001b[0m \u001b[0mtorch\u001b[0m\u001b[0;34m.\u001b[0m\u001b[0mcat\u001b[0m\u001b[0;34m(\u001b[0m\u001b[0my\u001b[0m\u001b[0;34m)\u001b[0m\u001b[0;34m\u001b[0m\u001b[0;34m\u001b[0m\u001b[0m\n\u001b[1;32m      5\u001b[0m \u001b[0my_hat\u001b[0m \u001b[0;34m=\u001b[0m \u001b[0mtorch\u001b[0m\u001b[0;34m.\u001b[0m\u001b[0mcat\u001b[0m\u001b[0;34m(\u001b[0m\u001b[0my_hat\u001b[0m\u001b[0;34m)\u001b[0m\u001b[0;34m\u001b[0m\u001b[0;34m\u001b[0m\u001b[0m\n",
      "\u001b[0;31mValueError\u001b[0m: not enough values to unpack (expected 3, got 2)"
     ]
    }
   ],
   "source": [
    "# score test dataset\n",
    "with torch.no_grad():\n",
    "    y, y_hat = [*zip(*[(model(featA, featB), score) for featA, featB, score in val_dataloader])]\n",
    "y = torch.cat(y)\n",
    "y_hat = torch.cat(y_hat)"
   ]
  },
  {
   "cell_type": "code",
   "execution_count": null,
   "id": "22d73917",
   "metadata": {},
   "outputs": [],
   "source": [
    "df = data_module.intermediates[\"test\"].copy().drop(columns=\"score\")\n",
    "df[[\"root\", \"nsubj\", \"dobj\"]] = df[[\"feat1\", \"feat2\"]].apply(lambda row: pd.Series((row.feat1[1] == row.feat2[1]).long()), axis=1)\n",
    "df = df.drop(columns=[\"feat1\", \"feat2\"])\n",
    "df[\"y\"] = y\n",
    "df[\"y_hat\"] = y_hat\n",
    "df"
   ]
  },
  {
   "cell_type": "code",
   "execution_count": null,
   "id": "35b681c1",
   "metadata": {},
   "outputs": [],
   "source": [
    "df[(df.y_hat - df.y) > 0.5]"
   ]
  },
  {
   "cell_type": "code",
   "execution_count": null,
   "id": "349d8e55",
   "metadata": {},
   "outputs": [],
   "source": [
    "((df.root & df.nsubj).astype(int) == df.y_hat).sum() / len(df)"
   ]
  },
  {
   "cell_type": "code",
   "execution_count": null,
   "id": "aebc7804",
   "metadata": {},
   "outputs": [],
   "source": [
    "df[\"y_\"] = (df.root | df.nsubj).astype(int)\n",
    "df"
   ]
  },
  {
   "cell_type": "code",
   "execution_count": null,
   "id": "21e05b1b",
   "metadata": {},
   "outputs": [],
   "source": [
    "words = list(np.asarray(corex_feat.vectorizer.get_feature_names_out()))\n",
    "corex_feat.corex.set_words(words)\n",
    "topics = [[*zip(*topic)][0] for topic in corex_feat.corex.get_topics()]"
   ]
  },
  {
   "cell_type": "code",
   "execution_count": null,
   "id": "fffa95fd",
   "metadata": {},
   "outputs": [],
   "source": [
    "feat1, feat2 = [*zip(*[(feat1[0], feat2[0]) for feat1, feat2, _ in val_dataloader])]\n",
    "feat1 = torch.cat(feat1).softmax(-1)\n",
    "feat2 = torch.cat(feat2).softmax(-1)\n",
    "feat1.shape"
   ]
  },
  {
   "cell_type": "code",
   "execution_count": null,
   "id": "f50ec57e",
   "metadata": {},
   "outputs": [],
   "source": [
    "for t in topics:\n",
    "    if \"football\" in t:\n",
    "        print(t)"
   ]
  },
  {
   "cell_type": "code",
   "execution_count": null,
   "id": "33c9b691",
   "metadata": {},
   "outputs": [],
   "source": [
    "df[(df.y_hat - df.y).abs() > 0.5].head()"
   ]
  },
  {
   "cell_type": "markdown",
   "id": "2e543c6b",
   "metadata": {},
   "source": [
    "### Naive cosine similarity"
   ]
  },
  {
   "cell_type": "code",
   "execution_count": null,
   "id": "fafa0631",
   "metadata": {},
   "outputs": [],
   "source": [
    "import spacy\n",
    "nlp = spacy.load(\"en_core_web_lg\", exclude=[\"ner\"])"
   ]
  },
  {
   "cell_type": "code",
   "execution_count": null,
   "id": "f10b4193",
   "metadata": {},
   "outputs": [],
   "source": [
    "df[\"naive\"] = df[[\"s1\", \"s2\"]].apply(lambda row: nlp(row.s1).similarity(nlp(row.s2)), axis=1)\n",
    "df[(df.y_hat - df.y).abs() > 0.5].head()"
   ]
  },
  {
   "cell_type": "code",
   "execution_count": null,
   "id": "b25653d0",
   "metadata": {},
   "outputs": [],
   "source": [
    "print(SpearmanCorrcoef()(torch.FloatTensor(df.naive), torch.FloatTensor(df.y_hat)).item())"
   ]
  },
  {
   "cell_type": "code",
   "execution_count": null,
   "id": "90a9139c",
   "metadata": {},
   "outputs": [],
   "source": [
    "doc = nlp(\"A woman measures another woman's ankle.\")\n",
    "print([token.dep_ for token in doc])\n",
    "print([token.lemma_ for token in doc])"
   ]
  }
 ],
 "metadata": {
  "kernelspec": {
   "display_name": "Python 3 (ipykernel)",
   "language": "python",
   "name": "python3"
  },
  "language_info": {
   "codemirror_mode": {
    "name": "ipython",
    "version": 3
   },
   "file_extension": ".py",
   "mimetype": "text/x-python",
   "name": "python",
   "nbconvert_exporter": "python",
   "pygments_lexer": "ipython3",
   "version": "3.9.7"
  }
 },
 "nbformat": 4,
 "nbformat_minor": 5
}
