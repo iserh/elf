{
 "cells": [
  {
   "cell_type": "markdown",
   "id": "50c455bc",
   "metadata": {},
   "source": [
    "# Sentence-BERT data augmentation"
   ]
  },
  {
   "cell_type": "code",
   "execution_count": 1,
   "id": "69ea1445",
   "metadata": {},
   "outputs": [],
   "source": [
    "from pathlib import Path\n",
    "from matplotlib import pyplot as plt\n",
    "import numpy as np\n",
    "\n",
    "data_dir = Path(\"stsbenchmark\")\n",
    "assert data_dir.exists()"
   ]
  },
  {
   "cell_type": "code",
   "execution_count": 2,
   "id": "9cdc7766",
   "metadata": {},
   "outputs": [],
   "source": [
    "import pandas as pd\n",
    "\n",
    "# Load df dataset\n",
    "df_train = pd.read_feather(data_dir / \"sts-train.feather\")\n",
    "df_dev = pd.read_feather(data_dir / \"sts-dev.feather\")\n",
    "df_test = pd.read_feather(data_dir / \"sts-test.feather\")"
   ]
  },
  {
   "cell_type": "markdown",
   "id": "a18a16ed",
   "metadata": {},
   "source": [
    "## Compute Embeddings\n",
    "Use Sentence-BERT to compute sentence embeddings"
   ]
  },
  {
   "cell_type": "code",
   "execution_count": 3,
   "id": "465c3f48",
   "metadata": {},
   "outputs": [
    {
     "name": "stdout",
     "output_type": "stream",
     "text": [
      "using device: cuda:0\n"
     ]
    }
   ],
   "source": [
    "import torch\n",
    "from sentence_transformers import SentenceTransformer\n",
    "\n",
    "device = torch.device(\"cuda:0\") if torch.cuda.is_available() else torch.device(\"cpu\")\n",
    "print(f\"using device: {device}\")\n",
    "\n",
    "# load sbert model\n",
    "model = SentenceTransformer(\"stsb-mpnet-base-v2\")"
   ]
  },
  {
   "cell_type": "code",
   "execution_count": 4,
   "id": "0c4fc81f",
   "metadata": {},
   "outputs": [],
   "source": [
    "# compute sentence embeddings with sbert\n",
    "emb_train_1 = model.encode(df_train.s1, convert_to_tensor=True, device=device)\n",
    "emb_train_2 = model.encode(df_train.s2, convert_to_tensor=True, device=device)"
   ]
  },
  {
   "cell_type": "code",
   "execution_count": 5,
   "id": "9b3e617e",
   "metadata": {},
   "outputs": [],
   "source": [
    "import torch.nn.functional as F\n",
    "from sklearn.preprocessing import MinMaxScaler\n",
    "\n",
    "# compute similarity scores via cosine similarity\n",
    "emb_train_1 = F.normalize(emb_train_1)\n",
    "emb_train_2 = F.normalize(emb_train_2)\n",
    "y_pred_train = (emb_train_1.unsqueeze(1) @ emb_train_2.unsqueeze(2)).squeeze(1).cpu().numpy()\n",
    "# scale scores to [0, 1]\n",
    "y_pred_train = MinMaxScaler().fit_transform(y_pred_train).squeeze()"
   ]
  },
  {
   "cell_type": "code",
   "execution_count": 6,
   "id": "07a5bb92",
   "metadata": {},
   "outputs": [
    {
     "name": "stdout",
     "output_type": "stream",
     "text": [
      "SpearmanRank: 0.9651\n"
     ]
    },
    {
     "data": {
      "image/png": "[encoded data removed]",
      "text/plain": [
       "<Figure size 864x288 with 2 Axes>"
      ]
     },
     "metadata": {
      "needs_background": "light"
     },
     "output_type": "display_data"
    }
   ],
   "source": [
    "from scipy.stats import spearmanr\n",
    "\n",
    "spearman = spearmanr(y_pred_train, df_train.score)[0]\n",
    "print(f\"SpearmanRank: {spearman:.4f}\")\n",
    "\n",
    "# plot distributions\n",
    "_, ax = plt.subplots(1, 2, figsize=(12, 4))\n",
    "ax[0].hist(df_train.score, bins=10)\n",
    "ax[0].set_title(\"Distribution: train (ground truth)\")\n",
    "ax[1].hist(y_pred_train, bins=10)\n",
    "ax[1].set_title(\"Distribution: train (s-bert)\")\n",
    "plt.show()"
   ]
  },
  {
   "cell_type": "code",
   "execution_count": 7,
   "id": "37fb4048",
   "metadata": {},
   "outputs": [],
   "source": [
    "# save benchmark dataset with sbert scores\n",
    "df_train_sbert = df_train.copy()\n",
    "df_train_sbert.score = y_pred_train\n",
    "df_train_sbert.to_feather(data_dir / \"sts-train-sbert.feather\")"
   ]
  },
  {
   "cell_type": "code",
   "execution_count": 8,
   "id": "bd930d9c",
   "metadata": {},
   "outputs": [],
   "source": [
    "# compute sentence embeddings with sbert\n",
    "emb_dev_1 = model.encode(df_dev.s1, convert_to_tensor=True, device=device)\n",
    "emb_dev_2 = model.encode(df_dev.s2, convert_to_tensor=True, device=device)\n",
    "\n",
    "# compute similarity scores via cosine similarity\n",
    "emb_dev_1 = F.normalize(emb_dev_1)\n",
    "emb_dev_2 = F.normalize(emb_dev_2)\n",
    "y_pred_dev = (emb_dev_1.unsqueeze(1) @ emb_dev_2.unsqueeze(2)).squeeze(1).cpu().numpy()\n",
    "# scale scores to [0, 1]\n",
    "y_pred_dev = MinMaxScaler().fit_transform(y_pred_dev).squeeze()\n",
    "\n",
    "# save benchmark dataset with sbert scores\n",
    "df_dev_sbert = df_dev.copy()\n",
    "df_dev_sbert.score = y_pred_dev\n",
    "df_dev_sbert.to_feather(data_dir / \"sts-dev-sbert.feather\")"
   ]
  },
  {
   "cell_type": "code",
   "execution_count": 9,
   "id": "72d13ac2",
   "metadata": {},
   "outputs": [],
   "source": [
    "# compute sentence embeddings with sbert\n",
    "emb_test_1 = model.encode(df_test.s1, convert_to_tensor=True, device=device)\n",
    "emb_test_2 = model.encode(df_test.s2, convert_to_tensor=True, device=device)\n",
    "\n",
    "# compute similarity scores via cosine similarity\n",
    "emb_test_1 = F.normalize(emb_test_1)\n",
    "emb_test_2 = F.normalize(emb_test_2)\n",
    "y_test_dev = (emb_test_1.unsqueeze(1) @ emb_test_2.unsqueeze(2)).squeeze(1).cpu().numpy()\n",
    "# scale scores to [0, 1]\n",
    "y_test_dev = MinMaxScaler().fit_transform(y_test_dev).squeeze()\n",
    "\n",
    "# save benchmark dataset with sbert scores\n",
    "df_test_sbert = df_test.copy()\n",
    "df_test_sbert.score = y_test_dev\n",
    "df_test_sbert.to_feather(data_dir / \"sts-test-sbert.feather\")"
   ]
  },
  {
   "cell_type": "markdown",
   "id": "3575cacd-a892-4440-bb59-e01533872050",
   "metadata": {},
   "source": [
    "## Create augmentation data\n",
    "Create new sentence pairs and score them via cosine similarity"
   ]
  },
  {
   "cell_type": "code",
   "execution_count": 10,
   "id": "ffb24bad",
   "metadata": {},
   "outputs": [],
   "source": [
    "emb_1 = torch.cat([emb_train_1, emb_dev_1])\n",
    "emb_2 = torch.cat([emb_train_2, emb_dev_2])\n",
    "y_true = pd.concat([df_train.score, df_dev.score])"
   ]
  },
  {
   "cell_type": "code",
   "execution_count": 11,
   "id": "32540010",
   "metadata": {},
   "outputs": [
    {
     "name": "stdout",
     "output_type": "stream",
     "text": [
      "#sentence-pairs: 49420900\n"
     ]
    }
   ],
   "source": [
    "# create array that holds all possible index pair combinations\n",
    "indices = np.arange(emb_1.shape[0])\n",
    "index_pairs = np.stack(np.meshgrid(indices, indices), axis=-1).reshape(-1, 2)\n",
    "print(f\"#sentence-pairs: {index_pairs.shape[0]}\")"
   ]
  },
  {
   "cell_type": "code",
   "execution_count": 12,
   "id": "7b4cc81f",
   "metadata": {},
   "outputs": [
    {
     "data": {
      "application/vnd.jupyter.widget-view+json": {
       "model_id": "6ea637c91d9a449eb4306b367ff5732c",
       "version_major": 2,
       "version_minor": 0
      },
      "text/plain": [
       "  0%|          | 0/6033 [00:00<?, ?it/s]"
      ]
     },
     "metadata": {},
     "output_type": "display_data"
    }
   ],
   "source": [
    "from tqdm.notebook import tqdm\n",
    "\n",
    "# compute scores via cosine similarity\n",
    "# batching needed due to the insane number of sentence pairs\n",
    "dataloader = torch.utils.data.DataLoader(index_pairs, batch_size=8192)\n",
    "y_pred_augment = torch.cat([\n",
    "    emb_1[idxs[:, 0]].unsqueeze(1) @ emb_2[idxs[:, 1]].unsqueeze(2)\n",
    "    for idxs in tqdm(dataloader)\n",
    "]).squeeze(1).cpu().numpy()\n",
    "# scale scores to [0, 1]\n",
    "y_pred_augment = MinMaxScaler().fit_transform(y_pred_augment).squeeze()"
   ]
  },
  {
   "cell_type": "code",
   "execution_count": 13,
   "id": "4402dfb0",
   "metadata": {},
   "outputs": [],
   "source": [
    "df_augment = pd.DataFrame({\n",
    "    \"idx1\": index_pairs[..., 0],\n",
    "    \"idx2\": index_pairs[..., 1],\n",
    "    \"score\": y_pred_augment\n",
    "})"
   ]
  },
  {
   "cell_type": "code",
   "execution_count": 35,
   "id": "cc3f940d-106f-4411-883b-138c89adc7ad",
   "metadata": {},
   "outputs": [],
   "source": [
    "N_BINS = 100\n",
    "SEED = 1337\n",
    "np.random.seed(1337)\n",
    "mu = 1\n",
    "sig = 0.4\n",
    "f = lambda x: 1 / (2*np.pi*sig**2) * np.exp(-(x - mu)**2 / (2*sig**2)) * 10  # normal distribution\n",
    "X = np.linspace(0, 1, N_BINS)"
   ]
  },
  {
   "cell_type": "code",
   "execution_count": 15,
   "id": "8cbaa238-26c3-4f36-88bb-7abb351da59d",
   "metadata": {},
   "outputs": [],
   "source": [
    "# create bins\n",
    "bins = np.histogram_bin_edges(df_augment.score, bins=N_BINS)\n",
    "indices = np.digitize(df_augment.score, bins)"
   ]
  },
  {
   "cell_type": "code",
   "execution_count": 16,
   "id": "789aa2ef",
   "metadata": {},
   "outputs": [
    {
     "data": {
      "application/vnd.jupyter.widget-view+json": {
       "model_id": "182d161b678e4ef08f3db469eb84f39b",
       "version_major": 2,
       "version_minor": 0
      },
      "text/plain": [
       "  0%|          | 0/100 [00:00<?, ?it/s]"
      ]
     },
     "metadata": {},
     "output_type": "display_data"
    }
   ],
   "source": [
    "# sampling from bins\n",
    "sample_idxs = []\n",
    "for i, x in enumerate(tqdm(X)):\n",
    "    bin_indices = np.where(indices == i)[0]\n",
    "    if len(bin_indices) > 1:\n",
    "        n = int(f(x))\n",
    "        if len(bin_indices) < n:\n",
    "            sample_idxs.append(bin_indices)\n",
    "        else:\n",
    "            sample_idxs.append(np.random.choice(bin_indices, size=n, replace=False))\n",
    "# concatenate sampled bins together\n",
    "sample_idxs = np.concatenate(sample_idxs)"
   ]
  },
  {
   "cell_type": "code",
   "execution_count": 17,
   "id": "4bd8c08f",
   "metadata": {},
   "outputs": [
    {
     "name": "stdout",
     "output_type": "stream",
     "text": [
      "438 examples sampled\n"
     ]
    }
   ],
   "source": [
    "# create dataframe of sampled examples and save it to disk\n",
    "df_augment_sampled = df_augment.iloc[sample_idxs].reset_index()\n",
    "df_augment_sampled.to_feather(data_dir / \"df_augment.feather\")\n",
    "print(f\"{len(df_augment_sampled)} examples sampled\")"
   ]
  },
  {
   "cell_type": "code",
   "execution_count": 57,
   "id": "d6af688a",
   "metadata": {},
   "outputs": [
    {
     "data": {
      "image/png": "[encoded data removed]",
      "text/plain": [
       "<Figure size 720x216 with 3 Axes>"
      ]
     },
     "metadata": {
      "needs_background": "light"
     },
     "output_type": "display_data"
    }
   ],
   "source": [
    "_, ax = plt.subplots(1, 3, figsize=(10, 3), tight_layout=True)\n",
    "ax[0].hist(df_augment.score, bins=100, alpha=0.6)\n",
    "ax[0].set_title(\"Distribution of random sentence pairs\")\n",
    "ax[0].set_xlabel(\"similarity score\")\n",
    "ax[0].set_ylabel(\"# examples sampled\")\n",
    "\n",
    "ax[1].plot(X, f(X), label=r\"$\\mathcal{N}(\\mu=1, \\sigma=0.4)$\", color=\"green\", alpha=1.0)\n",
    "ax[1].set_title(\"Sample function\")\n",
    "ax[1].set_ylabel(\"# examples sampled\")\n",
    "ax[1].set_xlabel(\"similarity score\")\n",
    "ax[1].legend()\n",
    "\n",
    "ax[2].hist(df_augment_sampled.score, bins=10, color=\"green\", alpha=0.6)\n",
    "ax[2].set_title(\"Sampled distribution\")\n",
    "ax[2].set_ylabel(\"# examples sampled\")\n",
    "ax[2].set_xlabel(\"similarity score\")\n",
    "plt.savefig(\"sample_distribution.pdf\")\n",
    "plt.show()"
   ]
  },
  {
   "cell_type": "code",
   "execution_count": 37,
   "id": "31c191b3",
   "metadata": {},
   "outputs": [],
   "source": [
    "# # plot distributions\n",
    "# _, ax = plt.subplots(1, 2, figsize=(12, 4))\n",
    "# ax[0].hist(df_augment_sampled.score, bins=10)\n",
    "# ax[0].set_title(\"Distribution: augmentation\")\n",
    "# ax[1].hist(np.concatenate([df_augment_sampled.score, y_true]), bins=10)\n",
    "# ax[1].set_title(\"Distribution: train + augmented\")\n",
    "# plt.show()"
   ]
  }
 ],
 "metadata": {
  "kernelspec": {
   "display_name": "Python 3 (ipykernel)",
   "language": "python",
   "name": "python3"
  },
  "language_info": {
   "codemirror_mode": {
    "name": "ipython",
    "version": 3
   },
   "file_extension": ".py",
   "mimetype": "text/x-python",
   "name": "python",
   "nbconvert_exporter": "python",
   "pygments_lexer": "ipython3",
   "version": "3.9.0"
  }
 },
 "nbformat": 4,
 "nbformat_minor": 5
}
