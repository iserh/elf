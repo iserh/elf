{
 "cells": [
  {
   "cell_type": "markdown",
   "id": "50c455bc",
   "metadata": {},
   "source": [
    "# Sentence-BERT data augmentation"
   ]
  },
  {
   "cell_type": "markdown",
   "id": "accec9c0",
   "metadata": {},
   "source": [
    "## Requirements"
   ]
  },
  {
   "cell_type": "code",
   "execution_count": 1,
   "id": "69ea1445",
   "metadata": {},
   "outputs": [],
   "source": [
    "import numpy as np\n",
    "import pandas as pd\n",
    "import torch\n",
    "import torch.nn.functional as F\n",
    "import csv\n",
    "\n",
    "from sentence_similarity.data import STSBenchmark\n",
    "from sentence_transformers import SentenceTransformer\n",
    "from matplotlib import pyplot as plt\n",
    "from sklearn.preprocessing import MinMaxScaler\n",
    "from scipy.stats import spearmanr\n",
    "from tqdm.notebook import tqdm\n",
    "from pathlib import Path\n",
    "\n",
    "data_dir = Path(\"data\")\n",
    "assert data_dir.exists()\n",
    "\n",
    "device = torch.device(\"cuda:0\") if torch.cuda.is_available() else torch.device(\"cpu\")"
   ]
  },
  {
   "cell_type": "code",
   "execution_count": 2,
   "id": "9cdc7766",
   "metadata": {},
   "outputs": [],
   "source": [
    "# load the benchmark dataset\n",
    "benchmark = STSBenchmark(data_dir, partition=\"train\")"
   ]
  },
  {
   "cell_type": "markdown",
   "id": "a18a16ed",
   "metadata": {},
   "source": [
    "## Compute Embeddings\n",
    "Use Sentence-BERT to compute sentence embeddings"
   ]
  },
  {
   "cell_type": "code",
   "execution_count": 3,
   "id": "465c3f48",
   "metadata": {},
   "outputs": [],
   "source": [
    "# load sbert model\n",
    "model = SentenceTransformer(\"all-mpnet-base-v2\")"
   ]
  },
  {
   "cell_type": "code",
   "execution_count": 4,
   "id": "0c4fc81f",
   "metadata": {},
   "outputs": [],
   "source": [
    "# compute sentence embeddings with sbert\n",
    "s1_embeds = model.encode(benchmark.s1, convert_to_tensor=True, device=device)\n",
    "s2_embeds = model.encode(benchmark.s2, convert_to_tensor=True, device=device)"
   ]
  },
  {
   "cell_type": "code",
   "execution_count": 5,
   "id": "9b3e617e",
   "metadata": {},
   "outputs": [],
   "source": [
    "# compute similarity scores via cosine similarity\n",
    "s1_embeds = F.normalize(s1_embeds)\n",
    "s2_embeds = F.normalize(s2_embeds)\n",
    "sbert_scores = (s1_embeds.unsqueeze(1) @ s2_embeds.unsqueeze(2)).squeeze(1).cpu().numpy()\n",
    "# scale scores to [0, 1]\n",
    "sbert_scores = MinMaxScaler().fit_transform(sbert_scores).squeeze()"
   ]
  },
  {
   "cell_type": "code",
   "execution_count": 16,
   "id": "07a5bb92",
   "metadata": {},
   "outputs": [
    {
     "name": "stdout",
     "output_type": "stream",
     "text": [
      "SpearmanRank: 0.8421\n"
     ]
    },
    {
     "data": {
      "image/png": "[encoded data removed]",
      "text/plain": [
       "<Figure size 864x288 with 2 Axes>"
      ]
     },
     "metadata": {
      "needs_background": "light"
     },
     "output_type": "display_data"
    }
   ],
   "source": [
    "spearman = spearmanr(sbert_scores, benchmark.score)[0]\n",
    "print(f\"SpearmanRank: {spearman:.4f}\")\n",
    "\n",
    "# plot distributions\n",
    "_, ax = plt.subplots(1, 2, figsize=(12, 4))\n",
    "ax[0].hist(benchmark.score, bins=10)\n",
    "ax[0].set_title(\"Distribution: train (ground truth)\")\n",
    "ax[1].hist(sbert_scores, bins=10)\n",
    "ax[1].set_title(\"Distribution: train (s-bert)\")\n",
    "plt.show()"
   ]
  },
  {
   "cell_type": "code",
   "execution_count": 7,
   "id": "37fb4048",
   "metadata": {},
   "outputs": [],
   "source": [
    "# save benchmark dataset with sbert scores\n",
    "df_sbert = pd.DataFrame({\n",
    "    \"idx1\": list(range(len(benchmark.s1))),\n",
    "    \"idx2\": list(range(len(benchmark.s2))),\n",
    "    \"score\": sbert_scores,\n",
    "})\n",
    "df_sbert.to_feather(data_dir / \"df_sbert.feather\")"
   ]
  },
  {
   "cell_type": "markdown",
   "id": "3575cacd-a892-4440-bb59-e01533872050",
   "metadata": {},
   "source": [
    "## Create augmentation data\n",
    "Create new sentence pairs and score them via cosine similarity"
   ]
  },
  {
   "cell_type": "code",
   "execution_count": 8,
   "id": "32540010",
   "metadata": {},
   "outputs": [
    {
     "name": "stdout",
     "output_type": "stream",
     "text": [
      "#sentence-pairs: 27441810\n"
     ]
    }
   ],
   "source": [
    "# get the index of the unique sentences\n",
    "s1_unique_idxs = benchmark.s1.drop_duplicates().index.values\n",
    "s2_unique_idxs = benchmark.s2.drop_duplicates().index.values\n",
    "# create array that holds all possible index pair combinations\n",
    "index_pairs = np.stack(np.meshgrid(s1_unique_idxs, s2_unique_idxs), axis=-1).reshape(-1, 2)\n",
    "print(f\"#sentence-pairs: {index_pairs.shape[0]}\")"
   ]
  },
  {
   "cell_type": "code",
   "execution_count": 9,
   "id": "7b4cc81f",
   "metadata": {},
   "outputs": [
    {
     "data": {
      "application/vnd.jupyter.widget-view+json": {
       "model_id": "7dd9d1d848f74ba7be7f82b7289b16c0",
       "version_major": 2,
       "version_minor": 0
      },
      "text/plain": [
       "  0%|          | 0/3350 [00:00<?, ?it/s]"
      ]
     },
     "metadata": {},
     "output_type": "display_data"
    }
   ],
   "source": [
    "# compute scores via cosine similarity\n",
    "# batching needed due to the insane number of sentence pairs\n",
    "dataloader = torch.utils.data.DataLoader(index_pairs, batch_size=8192)\n",
    "scores = torch.cat([\n",
    "    s1_embeds[idxs[:, 0]].unsqueeze(1) @ s2_embeds[idxs[:, 1]].unsqueeze(2)\n",
    "    for idxs in tqdm(dataloader)\n",
    "]).squeeze(1).cpu().numpy()\n",
    "# scale scores to [0, 1]\n",
    "scores = MinMaxScaler().fit_transform(scores).squeeze()"
   ]
  },
  {
   "cell_type": "code",
   "execution_count": 10,
   "id": "4402dfb0",
   "metadata": {},
   "outputs": [],
   "source": [
    "df_augment = pd.DataFrame({\n",
    "    \"idx1\": index_pairs[..., 0],\n",
    "    \"idx2\": index_pairs[..., 1],\n",
    "    \"score\": scores\n",
    "})"
   ]
  },
  {
   "cell_type": "code",
   "execution_count": 56,
   "id": "cc3f940d-106f-4411-883b-138c89adc7ad",
   "metadata": {},
   "outputs": [
    {
     "data": {
      "image/png": "[encoded data removed]",
      "text/plain": [
       "<Figure size 864x288 with 2 Axes>"
      ]
     },
     "metadata": {
      "needs_background": "light"
     },
     "output_type": "display_data"
    }
   ],
   "source": [
    "N_BINS = 100\n",
    "np.random.seed(42)\n",
    "f = lambda x: np.exp(3*x) * 2  # sampling function\n",
    "X = np.linspace(0, 1, N_BINS)\n",
    "\n",
    "\n",
    "# plot distribution and sampling function\n",
    "_, ax = plt.subplots(1, 2, figsize=(12, 4))\n",
    "ax[0].hist(df_augment.score, bins=100)\n",
    "ax[0].set_title(\"Distribution: random sentence pairs\")\n",
    "ax[1].bar(range(N_BINS), f(X))\n",
    "ax[1].set_title(\"Proposed sampling function\")\n",
    "plt.show()"
   ]
  },
  {
   "cell_type": "code",
   "execution_count": 57,
   "id": "8cbaa238-26c3-4f36-88bb-7abb351da59d",
   "metadata": {},
   "outputs": [],
   "source": [
    "# create bins\n",
    "bins = np.histogram_bin_edges(df_augment.score, bins=N_BINS)\n",
    "indices = np.digitize(df_augment.score, bins)"
   ]
  },
  {
   "cell_type": "code",
   "execution_count": 58,
   "id": "789aa2ef",
   "metadata": {},
   "outputs": [
    {
     "data": {
      "application/vnd.jupyter.widget-view+json": {
       "model_id": "d8a228cd3bfe4770a5ea60cb6e377ef6",
       "version_major": 2,
       "version_minor": 0
      },
      "text/plain": [
       "  0%|          | 0/100 [00:00<?, ?it/s]"
      ]
     },
     "metadata": {},
     "output_type": "display_data"
    }
   ],
   "source": [
    "# sampling from bins\n",
    "sample_idxs = []\n",
    "for i, x in enumerate(tqdm(X)):\n",
    "    bin_indices = np.where(indices == i)[0]\n",
    "    if len(bin_indices) > 1:\n",
    "        n = int(f(x))\n",
    "        if len(bin_indices) < n:\n",
    "            sample_idxs.append(bin_indices)\n",
    "        else:\n",
    "            sample_idxs.append(np.random.choice(bin_indices, size=n, replace=False))\n",
    "# concatenate sampled bins together\n",
    "sample_idxs = np.concatenate(sample_idxs)"
   ]
  },
  {
   "cell_type": "code",
   "execution_count": 59,
   "id": "4bd8c08f",
   "metadata": {},
   "outputs": [
    {
     "name": "stdout",
     "output_type": "stream",
     "text": [
      "1228 examples sampled\n"
     ]
    }
   ],
   "source": [
    "# create dataframe of sampled examples and save it to disk\n",
    "df_augment_sampled = df_augment.iloc[sample_idxs].reset_index()\n",
    "df_augment_sampled.to_feather(data_dir / \"df_augment.feather\")\n",
    "print(f\"{len(df_augment_sampled)} examples sampled\")"
   ]
  },
  {
   "cell_type": "code",
   "execution_count": 60,
   "id": "31c191b3",
   "metadata": {},
   "outputs": [
    {
     "data": {
      "image/png": "[encoded data removed]",
      "text/plain": [
       "<Figure size 864x288 with 2 Axes>"
      ]
     },
     "metadata": {
      "needs_background": "light"
     },
     "output_type": "display_data"
    }
   ],
   "source": [
    "# plot distributions\n",
    "_, ax = plt.subplots(1, 2, figsize=(12, 4))\n",
    "ax[0].hist(df_augment_sampled.score, bins=10)\n",
    "ax[0].set_title(\"Distribution: augmentation\")\n",
    "ax[1].hist(np.concatenate([df_augment_sampled.score, benchmark.score]), bins=10)\n",
    "ax[1].set_title(\"Distribution: train + augmented\")\n",
    "plt.show()"
   ]
  }
 ],
 "metadata": {
  "kernelspec": {
   "display_name": "Python 3 (ipykernel)",
   "language": "python",
   "name": "python3"
  },
  "language_info": {
   "codemirror_mode": {
    "name": "ipython",
    "version": 3
   },
   "file_extension": ".py",
   "mimetype": "text/x-python",
   "name": "python",
   "nbconvert_exporter": "python",
   "pygments_lexer": "ipython3",
   "version": "3.9.7"
  }
 },
 "nbformat": 4,
 "nbformat_minor": 5
}
