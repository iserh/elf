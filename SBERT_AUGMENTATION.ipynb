{
 "cells": [
  {
   "cell_type": "markdown",
   "id": "50c455bc",
   "metadata": {},
   "source": [
    "# Augmenting STS Dataset with SBERT"
   ]
  },
  {
   "cell_type": "markdown",
   "id": "accec9c0",
   "metadata": {},
   "source": [
    "## Requirements"
   ]
  },
  {
   "cell_type": "code",
   "execution_count": 1,
   "id": "69ea1445",
   "metadata": {},
   "outputs": [],
   "source": [
    "import pandas as pd\n",
    "import torch\n",
    "import torch.nn.functional as F\n",
    "from pathlib import Path\n",
    "import scipy.special as special\n",
    "import csv\n",
    "import numpy as np\n",
    "from sentence_transformers import SentenceTransformer, util\n",
    "from matplotlib import pyplot as plt\n",
    "from tqdm.notebook import tqdm\n",
    "from scipy.stats import pearsonr\n",
    "\n",
    "data_dir = Path('data')\n",
    "assert data_dir.exists()\n",
    "output_dir = Path('data')\n",
    "output_dir.mkdir(exist_ok=True, parents=True)\n",
    "\n",
    "device = torch.device('cuda:0') if torch.cuda.is_available() else torch.device('cpu')"
   ]
  },
  {
   "cell_type": "markdown",
   "id": "c33af834",
   "metadata": {},
   "source": [
    "## Load STS Benchmark Dataset"
   ]
  },
  {
   "cell_type": "code",
   "execution_count": 2,
   "id": "9cdc7766",
   "metadata": {},
   "outputs": [],
   "source": [
    "%%capture\n",
    "df_sts = pd.read_csv(data_dir / \"stsbenchmark\" / 'sts-train.csv', error_bad_lines=False, header = None, delimiter=\"\\t\", quoting=csv.QUOTE_NONE, encoding='utf-8')\n",
    "df_sts = df_sts.rename(columns={0: \"genre\", 1: \"filename\", 2: \"year\", 3: \"trash\", 4: \"score\", 5: \"s1\", 6: \"s2\"})"
   ]
  },
  {
   "cell_type": "code",
   "execution_count": 3,
   "id": "c44eef27",
   "metadata": {},
   "outputs": [],
   "source": [
    "df_sts.genre = df_sts.genre.astype(\"category\")\n",
    "df_sts.filename = df_sts.filename.astype(\"category\")\n",
    "df_sts.year = df_sts.year.astype(\"category\")\n",
    "df_sts.genre = df_sts.genre.astype(\"category\")"
   ]
  },
  {
   "cell_type": "code",
   "execution_count": 4,
   "id": "3447d33b",
   "metadata": {},
   "outputs": [
    {
     "data": {
      "text/html": [
       "<div>\n",
       "<style scoped>\n",
       "    .dataframe tbody tr th:only-of-type {\n",
       "        vertical-align: middle;\n",
       "    }\n",
       "\n",
       "    .dataframe tbody tr th {\n",
       "        vertical-align: top;\n",
       "    }\n",
       "\n",
       "    .dataframe thead th {\n",
       "        text-align: right;\n",
       "    }\n",
       "</style>\n",
       "<table border=\"1\" class=\"dataframe\">\n",
       "  <thead>\n",
       "    <tr style=\"text-align: right;\">\n",
       "      <th></th>\n",
       "      <th>genre</th>\n",
       "      <th>filename</th>\n",
       "      <th>year</th>\n",
       "      <th>trash</th>\n",
       "      <th>score</th>\n",
       "      <th>s1</th>\n",
       "      <th>s2</th>\n",
       "    </tr>\n",
       "  </thead>\n",
       "  <tbody>\n",
       "    <tr>\n",
       "      <th>0</th>\n",
       "      <td>main-captions</td>\n",
       "      <td>MSRvid</td>\n",
       "      <td>2012test</td>\n",
       "      <td>1</td>\n",
       "      <td>5.00</td>\n",
       "      <td>A plane is taking off.</td>\n",
       "      <td>An air plane is taking off.</td>\n",
       "    </tr>\n",
       "    <tr>\n",
       "      <th>1</th>\n",
       "      <td>main-captions</td>\n",
       "      <td>MSRvid</td>\n",
       "      <td>2012test</td>\n",
       "      <td>4</td>\n",
       "      <td>3.80</td>\n",
       "      <td>A man is playing a large flute.</td>\n",
       "      <td>A man is playing a flute.</td>\n",
       "    </tr>\n",
       "    <tr>\n",
       "      <th>2</th>\n",
       "      <td>main-captions</td>\n",
       "      <td>MSRvid</td>\n",
       "      <td>2012test</td>\n",
       "      <td>5</td>\n",
       "      <td>3.80</td>\n",
       "      <td>A man is spreading shreded cheese on a pizza.</td>\n",
       "      <td>A man is spreading shredded cheese on an uncoo...</td>\n",
       "    </tr>\n",
       "    <tr>\n",
       "      <th>3</th>\n",
       "      <td>main-captions</td>\n",
       "      <td>MSRvid</td>\n",
       "      <td>2012test</td>\n",
       "      <td>6</td>\n",
       "      <td>2.60</td>\n",
       "      <td>Three men are playing chess.</td>\n",
       "      <td>Two men are playing chess.</td>\n",
       "    </tr>\n",
       "    <tr>\n",
       "      <th>4</th>\n",
       "      <td>main-captions</td>\n",
       "      <td>MSRvid</td>\n",
       "      <td>2012test</td>\n",
       "      <td>9</td>\n",
       "      <td>4.25</td>\n",
       "      <td>A man is playing the cello.</td>\n",
       "      <td>A man seated is playing the cello.</td>\n",
       "    </tr>\n",
       "    <tr>\n",
       "      <th>...</th>\n",
       "      <td>...</td>\n",
       "      <td>...</td>\n",
       "      <td>...</td>\n",
       "      <td>...</td>\n",
       "      <td>...</td>\n",
       "      <td>...</td>\n",
       "      <td>...</td>\n",
       "    </tr>\n",
       "    <tr>\n",
       "      <th>5547</th>\n",
       "      <td>main-news</td>\n",
       "      <td>headlines</td>\n",
       "      <td>2015</td>\n",
       "      <td>1489</td>\n",
       "      <td>1.20</td>\n",
       "      <td>Palestinian hunger striker, Israel reach deal</td>\n",
       "      <td>Palestinian activist detained in Israeli raid</td>\n",
       "    </tr>\n",
       "    <tr>\n",
       "      <th>5548</th>\n",
       "      <td>main-news</td>\n",
       "      <td>headlines</td>\n",
       "      <td>2015</td>\n",
       "      <td>1493</td>\n",
       "      <td>4.80</td>\n",
       "      <td>Assad says Syria will comply with UN arms reso...</td>\n",
       "      <td>Syria's Assad vows to comply with U.N. resolution</td>\n",
       "    </tr>\n",
       "    <tr>\n",
       "      <th>5549</th>\n",
       "      <td>main-news</td>\n",
       "      <td>headlines</td>\n",
       "      <td>2015</td>\n",
       "      <td>1496</td>\n",
       "      <td>4.60</td>\n",
       "      <td>South Korean President Sorry For Ferry Response</td>\n",
       "      <td>S. Korean president 'sorry' for ferry disaster</td>\n",
       "    </tr>\n",
       "    <tr>\n",
       "      <th>5550</th>\n",
       "      <td>main-news</td>\n",
       "      <td>headlines</td>\n",
       "      <td>2015</td>\n",
       "      <td>1498</td>\n",
       "      <td>0.00</td>\n",
       "      <td>Food price hikes raise concerns in Iran</td>\n",
       "      <td>American Chris Horner wins Tour of Spain</td>\n",
       "    </tr>\n",
       "    <tr>\n",
       "      <th>5551</th>\n",
       "      <td>main-news</td>\n",
       "      <td>headlines</td>\n",
       "      <td>2015</td>\n",
       "      <td>1499</td>\n",
       "      <td>2.00</td>\n",
       "      <td>Obama made last-minute decision on Syria approval</td>\n",
       "      <td>Obama mulls limited military action in Syria</td>\n",
       "    </tr>\n",
       "  </tbody>\n",
       "</table>\n",
       "<p>5552 rows × 7 columns</p>\n",
       "</div>"
      ],
      "text/plain": [
       "              genre   filename      year  trash  score  \\\n",
       "0     main-captions     MSRvid  2012test      1   5.00   \n",
       "1     main-captions     MSRvid  2012test      4   3.80   \n",
       "2     main-captions     MSRvid  2012test      5   3.80   \n",
       "3     main-captions     MSRvid  2012test      6   2.60   \n",
       "4     main-captions     MSRvid  2012test      9   4.25   \n",
       "...             ...        ...       ...    ...    ...   \n",
       "5547      main-news  headlines      2015   1489   1.20   \n",
       "5548      main-news  headlines      2015   1493   4.80   \n",
       "5549      main-news  headlines      2015   1496   4.60   \n",
       "5550      main-news  headlines      2015   1498   0.00   \n",
       "5551      main-news  headlines      2015   1499   2.00   \n",
       "\n",
       "                                                     s1  \\\n",
       "0                                A plane is taking off.   \n",
       "1                       A man is playing a large flute.   \n",
       "2         A man is spreading shreded cheese on a pizza.   \n",
       "3                          Three men are playing chess.   \n",
       "4                           A man is playing the cello.   \n",
       "...                                                 ...   \n",
       "5547      Palestinian hunger striker, Israel reach deal   \n",
       "5548  Assad says Syria will comply with UN arms reso...   \n",
       "5549    South Korean President Sorry For Ferry Response   \n",
       "5550            Food price hikes raise concerns in Iran   \n",
       "5551  Obama made last-minute decision on Syria approval   \n",
       "\n",
       "                                                     s2  \n",
       "0                           An air plane is taking off.  \n",
       "1                             A man is playing a flute.  \n",
       "2     A man is spreading shredded cheese on an uncoo...  \n",
       "3                            Two men are playing chess.  \n",
       "4                    A man seated is playing the cello.  \n",
       "...                                                 ...  \n",
       "5547      Palestinian activist detained in Israeli raid  \n",
       "5548  Syria's Assad vows to comply with U.N. resolution  \n",
       "5549     S. Korean president 'sorry' for ferry disaster  \n",
       "5550           American Chris Horner wins Tour of Spain  \n",
       "5551       Obama mulls limited military action in Syria  \n",
       "\n",
       "[5552 rows x 7 columns]"
      ]
     },
     "execution_count": 4,
     "metadata": {},
     "output_type": "execute_result"
    }
   ],
   "source": [
    "df_sts"
   ]
  },
  {
   "cell_type": "markdown",
   "id": "a18a16ed",
   "metadata": {},
   "source": [
    "## Compute Embeddings"
   ]
  },
  {
   "cell_type": "code",
   "execution_count": 5,
   "id": "465c3f48",
   "metadata": {},
   "outputs": [],
   "source": [
    "model = SentenceTransformer('all-MiniLM-L6-v2')"
   ]
  },
  {
   "cell_type": "code",
   "execution_count": 6,
   "id": "0c4fc81f",
   "metadata": {},
   "outputs": [
    {
     "name": "stdout",
     "output_type": "stream",
     "text": [
      "torch.Size([5552, 1, 384]) torch.Size([5552, 384, 1])\n"
     ]
    }
   ],
   "source": [
    "s1_embeds = model.encode(df_sts.s1, convert_to_tensor=True, device=device)\n",
    "s2_embeds = model.encode(df_sts.s2, convert_to_tensor=True, device=device)\n",
    "# normalize embeddings, reshape for later cosine similarity\n",
    "s1_embeds = F.normalize(s1_embeds).unsqueeze(1)\n",
    "s2_embeds = F.normalize(s2_embeds).unsqueeze(2)\n",
    "# print shapes\n",
    "print(s1_embeds.shape, s2_embeds.shape)"
   ]
  },
  {
   "cell_type": "markdown",
   "id": "d84d2e32",
   "metadata": {},
   "source": [
    "## Create new sentence pairs and score them via cosine similarity"
   ]
  },
  {
   "cell_type": "code",
   "execution_count": 7,
   "id": "32540010",
   "metadata": {},
   "outputs": [
    {
     "data": {
      "text/plain": [
       "(27441810, 2)"
      ]
     },
     "execution_count": 7,
     "metadata": {},
     "output_type": "execute_result"
    }
   ],
   "source": [
    "# get the index of the unique sentences\n",
    "s1_unique_idxs = df_sts.s1.drop_duplicates().index.values\n",
    "s2_unique_idxs = df_sts.s2.drop_duplicates().index.values\n",
    "# create array that holds all possible index combinations\n",
    "index_pairs = np.stack(np.meshgrid(s1_unique_idxs, s2_unique_idxs), axis=-1).reshape(-1, 2)\n",
    "index_pairs.shape"
   ]
  },
  {
   "cell_type": "code",
   "execution_count": 8,
   "id": "7b4cc81f",
   "metadata": {},
   "outputs": [
    {
     "data": {
      "application/vnd.jupyter.widget-view+json": {
       "model_id": "e74fb60bd5ce46c98b75f607b9ac7ad7",
       "version_major": 2,
       "version_minor": 0
      },
      "text/plain": [
       "  0%|          | 0/3350 [00:00<?, ?it/s]"
      ]
     },
     "metadata": {},
     "output_type": "display_data"
    }
   ],
   "source": [
    "dataloader = torch.utils.data.DataLoader(index_pairs, batch_size=8192)\n",
    "scores = torch.cat([\n",
    "    s1_embeds[idxs[:, 0]] @ s2_embeds[idxs[:, 1]]\n",
    "    for idxs in tqdm(dataloader)\n",
    "]).squeeze().cpu()"
   ]
  },
  {
   "cell_type": "code",
   "execution_count": 9,
   "id": "4402dfb0",
   "metadata": {},
   "outputs": [
    {
     "data": {
      "text/html": [
       "<div>\n",
       "<style scoped>\n",
       "    .dataframe tbody tr th:only-of-type {\n",
       "        vertical-align: middle;\n",
       "    }\n",
       "\n",
       "    .dataframe tbody tr th {\n",
       "        vertical-align: top;\n",
       "    }\n",
       "\n",
       "    .dataframe thead th {\n",
       "        text-align: right;\n",
       "    }\n",
       "</style>\n",
       "<table border=\"1\" class=\"dataframe\">\n",
       "  <thead>\n",
       "    <tr style=\"text-align: right;\">\n",
       "      <th></th>\n",
       "      <th>idx1</th>\n",
       "      <th>idx2</th>\n",
       "      <th>score</th>\n",
       "    </tr>\n",
       "  </thead>\n",
       "  <tbody>\n",
       "    <tr>\n",
       "      <th>0</th>\n",
       "      <td>0</td>\n",
       "      <td>0</td>\n",
       "      <td>0.939303</td>\n",
       "    </tr>\n",
       "    <tr>\n",
       "      <th>1</th>\n",
       "      <td>1</td>\n",
       "      <td>0</td>\n",
       "      <td>0.067502</td>\n",
       "    </tr>\n",
       "    <tr>\n",
       "      <th>2</th>\n",
       "      <td>2</td>\n",
       "      <td>0</td>\n",
       "      <td>0.063003</td>\n",
       "    </tr>\n",
       "    <tr>\n",
       "      <th>3</th>\n",
       "      <td>3</td>\n",
       "      <td>0</td>\n",
       "      <td>-0.007448</td>\n",
       "    </tr>\n",
       "    <tr>\n",
       "      <th>4</th>\n",
       "      <td>4</td>\n",
       "      <td>0</td>\n",
       "      <td>0.039570</td>\n",
       "    </tr>\n",
       "    <tr>\n",
       "      <th>...</th>\n",
       "      <td>...</td>\n",
       "      <td>...</td>\n",
       "      <td>...</td>\n",
       "    </tr>\n",
       "    <tr>\n",
       "      <th>27441805</th>\n",
       "      <td>5547</td>\n",
       "      <td>5551</td>\n",
       "      <td>0.220151</td>\n",
       "    </tr>\n",
       "    <tr>\n",
       "      <th>27441806</th>\n",
       "      <td>5548</td>\n",
       "      <td>5551</td>\n",
       "      <td>0.609874</td>\n",
       "    </tr>\n",
       "    <tr>\n",
       "      <th>27441807</th>\n",
       "      <td>5549</td>\n",
       "      <td>5551</td>\n",
       "      <td>0.157189</td>\n",
       "    </tr>\n",
       "    <tr>\n",
       "      <th>27441808</th>\n",
       "      <td>5550</td>\n",
       "      <td>5551</td>\n",
       "      <td>0.143906</td>\n",
       "    </tr>\n",
       "    <tr>\n",
       "      <th>27441809</th>\n",
       "      <td>5551</td>\n",
       "      <td>5551</td>\n",
       "      <td>0.689786</td>\n",
       "    </tr>\n",
       "  </tbody>\n",
       "</table>\n",
       "<p>27441810 rows × 3 columns</p>\n",
       "</div>"
      ],
      "text/plain": [
       "          idx1  idx2     score\n",
       "0            0     0  0.939303\n",
       "1            1     0  0.067502\n",
       "2            2     0  0.063003\n",
       "3            3     0 -0.007448\n",
       "4            4     0  0.039570\n",
       "...        ...   ...       ...\n",
       "27441805  5547  5551  0.220151\n",
       "27441806  5548  5551  0.609874\n",
       "27441807  5549  5551  0.157189\n",
       "27441808  5550  5551  0.143906\n",
       "27441809  5551  5551  0.689786\n",
       "\n",
       "[27441810 rows x 3 columns]"
      ]
     },
     "execution_count": 9,
     "metadata": {},
     "output_type": "execute_result"
    }
   ],
   "source": [
    "df_augment = pd.DataFrame({\n",
    "    \"idx1\": index_pairs[..., 0],\n",
    "    \"idx2\": index_pairs[..., 1],\n",
    "    \"score\": scores.numpy()\n",
    "})\n",
    "df_augment"
   ]
  },
  {
   "cell_type": "code",
   "execution_count": 10,
   "id": "f457d9de",
   "metadata": {},
   "outputs": [
    {
     "data": {
      "image/png": "[encoded data removed]",
      "text/plain": [
       "<Figure size 432x288 with 1 Axes>"
      ]
     },
     "metadata": {
      "needs_background": "light"
     },
     "output_type": "display_data"
    }
   ],
   "source": [
    "plt.hist(df_augment.score, bins=100)\n",
    "plt.show()"
   ]
  },
  {
   "cell_type": "code",
   "execution_count": 11,
   "id": "9b16f90b",
   "metadata": {},
   "outputs": [
    {
     "data": {
      "text/plain": [
       "(27441810,)"
      ]
     },
     "execution_count": 11,
     "metadata": {},
     "output_type": "execute_result"
    }
   ],
   "source": [
    "# select evenly distributed\n",
    "bins = np.histogram_bin_edges(df_augment.score, bins=1000)\n",
    "indices = np.digitize(df_augment.score, bins)\n",
    "indices.shape"
   ]
  },
  {
   "cell_type": "code",
   "execution_count": 12,
   "id": "789aa2ef",
   "metadata": {},
   "outputs": [
    {
     "data": {
      "application/vnd.jupyter.widget-view+json": {
       "model_id": "da39b6172f934a61b1144dab6bff6fdf",
       "version_major": 2,
       "version_minor": 0
      },
      "text/plain": [
       "  0%|          | 0/1000 [00:00<?, ?it/s]"
      ]
     },
     "metadata": {},
     "output_type": "display_data"
    },
    {
     "ename": "ValueError",
     "evalue": "Cannot take a larger sample than population when 'replace=False'",
     "output_type": "error",
     "traceback": [
      "\u001b[0;31m---------------------------------------------------------------------------\u001b[0m",
      "\u001b[0;31mValueError\u001b[0m                                Traceback (most recent call last)",
      "\u001b[0;32m/tmp/ipykernel_2688285/3215459116.py\u001b[0m in \u001b[0;36m<module>\u001b[0;34m\u001b[0m\n\u001b[1;32m      5\u001b[0m     \u001b[0mbin_indices\u001b[0m \u001b[0;34m=\u001b[0m \u001b[0mnp\u001b[0m\u001b[0;34m.\u001b[0m\u001b[0mwhere\u001b[0m\u001b[0;34m(\u001b[0m\u001b[0mindices\u001b[0m \u001b[0;34m==\u001b[0m \u001b[0mi\u001b[0m\u001b[0;34m)\u001b[0m\u001b[0;34m[\u001b[0m\u001b[0;36m0\u001b[0m\u001b[0;34m]\u001b[0m\u001b[0;34m\u001b[0m\u001b[0;34m\u001b[0m\u001b[0m\n\u001b[1;32m      6\u001b[0m     \u001b[0;32mif\u001b[0m \u001b[0mlen\u001b[0m\u001b[0;34m(\u001b[0m\u001b[0mbin_indices\u001b[0m\u001b[0;34m)\u001b[0m \u001b[0;34m>\u001b[0m \u001b[0;36m1\u001b[0m\u001b[0;34m:\u001b[0m\u001b[0;34m\u001b[0m\u001b[0;34m\u001b[0m\u001b[0m\n\u001b[0;32m----> 7\u001b[0;31m         \u001b[0msample_idxs\u001b[0m\u001b[0;34m.\u001b[0m\u001b[0mappend\u001b[0m\u001b[0;34m(\u001b[0m\u001b[0mnp\u001b[0m\u001b[0;34m.\u001b[0m\u001b[0mrandom\u001b[0m\u001b[0;34m.\u001b[0m\u001b[0mchoice\u001b[0m\u001b[0;34m(\u001b[0m\u001b[0mbin_indices\u001b[0m\u001b[0;34m,\u001b[0m \u001b[0msize\u001b[0m\u001b[0;34m=\u001b[0m\u001b[0mN_SAMPLE\u001b[0m\u001b[0;34m,\u001b[0m \u001b[0mreplace\u001b[0m\u001b[0;34m=\u001b[0m\u001b[0;32mFalse\u001b[0m\u001b[0;34m)\u001b[0m\u001b[0;34m)\u001b[0m\u001b[0;34m\u001b[0m\u001b[0;34m\u001b[0m\u001b[0m\n\u001b[0m\u001b[1;32m      8\u001b[0m \u001b[0;34m\u001b[0m\u001b[0m\n\u001b[1;32m      9\u001b[0m \u001b[0msample_idxs\u001b[0m \u001b[0;34m=\u001b[0m \u001b[0mnp\u001b[0m\u001b[0;34m.\u001b[0m\u001b[0mconcatenate\u001b[0m\u001b[0;34m(\u001b[0m\u001b[0msample_idxs\u001b[0m\u001b[0;34m)\u001b[0m\u001b[0;34m\u001b[0m\u001b[0;34m\u001b[0m\u001b[0m\n",
      "\u001b[0;32mmtrand.pyx\u001b[0m in \u001b[0;36mnumpy.random.mtrand.RandomState.choice\u001b[0;34m()\u001b[0m\n",
      "\u001b[0;31mValueError\u001b[0m: Cannot take a larger sample than population when 'replace=False'"
     ]
    }
   ],
   "source": [
    "N_SAMPLE = 1_000\n",
    "sample_idxs = []\n",
    "\n",
    "for i in tqdm(range(1000)):\n",
    "    bin_indices = np.where(indices == i)[0]\n",
    "    if len(bin_indices) > 1:\n",
    "        sample_idxs.append(np.random.choice(bin_indices, size=N_SAMPLE))\n",
    "\n",
    "sample_idxs = np.concatenate(sample_idxs)"
   ]
  },
  {
   "cell_type": "code",
   "execution_count": null,
   "id": "4bd8c08f",
   "metadata": {},
   "outputs": [],
   "source": [
    "df_augment = df_augment.iloc[sample_idxs].reset_index()\n",
    "df_augment"
   ]
  },
  {
   "cell_type": "code",
   "execution_count": null,
   "id": "31c191b3",
   "metadata": {},
   "outputs": [],
   "source": [
    "plt.hist(df_augment.score, bins=100)\n",
    "plt.show()"
   ]
  },
  {
   "cell_type": "code",
   "execution_count": null,
   "id": "ea5e71d8",
   "metadata": {},
   "outputs": [],
   "source": [
    "df_augment.to_feather(output_dir / \"df_augment.feather\")"
   ]
  }
 ],
 "metadata": {
  "kernelspec": {
   "display_name": "Python 3 (ipykernel)",
   "language": "python",
   "name": "python3"
  },
  "language_info": {
   "codemirror_mode": {
    "name": "ipython",
    "version": 3
   },
   "file_extension": ".py",
   "mimetype": "text/x-python",
   "name": "python",
   "nbconvert_exporter": "python",
   "pygments_lexer": "ipython3",
   "version": "3.9.0"
  }
 },
 "nbformat": 4,
 "nbformat_minor": 5
}
