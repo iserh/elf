{
 "cells": [
  {
   "cell_type": "markdown",
   "id": "50c455bc",
   "metadata": {},
   "source": [
    "# Augmenting STS Dataset with SBERT"
   ]
  },
  {
   "cell_type": "markdown",
   "id": "accec9c0",
   "metadata": {},
   "source": [
    "## Requirements"
   ]
  },
  {
   "cell_type": "code",
   "execution_count": 26,
   "id": "69ea1445",
   "metadata": {},
   "outputs": [],
   "source": [
    "import pandas as pd\n",
    "import torch\n",
    "from pathlib import Path\n",
    "import scipy.special as special\n",
    "import csv\n",
    "import numpy as np\n",
    "import functools\n",
    "from sentence_transformers import SentenceTransformer\n",
    "from matplotlib import pyplot as plt\n",
    "from tqdm.notebook import tqdm\n",
    "from scipy.stats import pearsonr\n",
    "\n",
    "src_dir = Path(\"stsbenchmark\")\n",
    "assert src_dir.exists()\n",
    "output_dir = Path(\"data\")\n",
    "output_dir.mkdir(exist_ok=True, parents=True)"
   ]
  },
  {
   "cell_type": "code",
   "execution_count": 2,
   "id": "9cdc7766",
   "metadata": {},
   "outputs": [],
   "source": [
    "%%capture\n",
    "df = pd.read_csv(src_dir / 'sts-train.csv', error_bad_lines=False, header = None, delimiter=\"\\t\", quoting=csv.QUOTE_NONE, encoding='utf-8')\n",
    "df = df.rename(columns={0: \"genre\", 1: \"filename\", 2: \"year\", 3: \"trash\", 4: \"score\", 5: \"s1\", 6: \"s2\"})"
   ]
  },
  {
   "cell_type": "code",
   "execution_count": 3,
   "id": "c44eef27",
   "metadata": {},
   "outputs": [],
   "source": [
    "df.genre = df.genre.astype(\"category\")\n",
    "df.filename = df.filename.astype(\"category\")\n",
    "df.year = df.year.astype(\"category\")\n",
    "df.genre = df.genre.astype(\"category\")"
   ]
  },
  {
   "cell_type": "code",
   "execution_count": 4,
   "id": "3447d33b",
   "metadata": {},
   "outputs": [
    {
     "data": {
      "text/html": [
       "<div>\n",
       "<style scoped>\n",
       "    .dataframe tbody tr th:only-of-type {\n",
       "        vertical-align: middle;\n",
       "    }\n",
       "\n",
       "    .dataframe tbody tr th {\n",
       "        vertical-align: top;\n",
       "    }\n",
       "\n",
       "    .dataframe thead th {\n",
       "        text-align: right;\n",
       "    }\n",
       "</style>\n",
       "<table border=\"1\" class=\"dataframe\">\n",
       "  <thead>\n",
       "    <tr style=\"text-align: right;\">\n",
       "      <th></th>\n",
       "      <th>genre</th>\n",
       "      <th>filename</th>\n",
       "      <th>year</th>\n",
       "      <th>trash</th>\n",
       "      <th>score</th>\n",
       "      <th>s1</th>\n",
       "      <th>s2</th>\n",
       "    </tr>\n",
       "  </thead>\n",
       "  <tbody>\n",
       "    <tr>\n",
       "      <th>0</th>\n",
       "      <td>main-captions</td>\n",
       "      <td>MSRvid</td>\n",
       "      <td>2012test</td>\n",
       "      <td>1</td>\n",
       "      <td>5.00</td>\n",
       "      <td>A plane is taking off.</td>\n",
       "      <td>An air plane is taking off.</td>\n",
       "    </tr>\n",
       "    <tr>\n",
       "      <th>1</th>\n",
       "      <td>main-captions</td>\n",
       "      <td>MSRvid</td>\n",
       "      <td>2012test</td>\n",
       "      <td>4</td>\n",
       "      <td>3.80</td>\n",
       "      <td>A man is playing a large flute.</td>\n",
       "      <td>A man is playing a flute.</td>\n",
       "    </tr>\n",
       "    <tr>\n",
       "      <th>2</th>\n",
       "      <td>main-captions</td>\n",
       "      <td>MSRvid</td>\n",
       "      <td>2012test</td>\n",
       "      <td>5</td>\n",
       "      <td>3.80</td>\n",
       "      <td>A man is spreading shreded cheese on a pizza.</td>\n",
       "      <td>A man is spreading shredded cheese on an uncoo...</td>\n",
       "    </tr>\n",
       "    <tr>\n",
       "      <th>3</th>\n",
       "      <td>main-captions</td>\n",
       "      <td>MSRvid</td>\n",
       "      <td>2012test</td>\n",
       "      <td>6</td>\n",
       "      <td>2.60</td>\n",
       "      <td>Three men are playing chess.</td>\n",
       "      <td>Two men are playing chess.</td>\n",
       "    </tr>\n",
       "    <tr>\n",
       "      <th>4</th>\n",
       "      <td>main-captions</td>\n",
       "      <td>MSRvid</td>\n",
       "      <td>2012test</td>\n",
       "      <td>9</td>\n",
       "      <td>4.25</td>\n",
       "      <td>A man is playing the cello.</td>\n",
       "      <td>A man seated is playing the cello.</td>\n",
       "    </tr>\n",
       "    <tr>\n",
       "      <th>...</th>\n",
       "      <td>...</td>\n",
       "      <td>...</td>\n",
       "      <td>...</td>\n",
       "      <td>...</td>\n",
       "      <td>...</td>\n",
       "      <td>...</td>\n",
       "      <td>...</td>\n",
       "    </tr>\n",
       "    <tr>\n",
       "      <th>5547</th>\n",
       "      <td>main-news</td>\n",
       "      <td>headlines</td>\n",
       "      <td>2015</td>\n",
       "      <td>1489</td>\n",
       "      <td>1.20</td>\n",
       "      <td>Palestinian hunger striker, Israel reach deal</td>\n",
       "      <td>Palestinian activist detained in Israeli raid</td>\n",
       "    </tr>\n",
       "    <tr>\n",
       "      <th>5548</th>\n",
       "      <td>main-news</td>\n",
       "      <td>headlines</td>\n",
       "      <td>2015</td>\n",
       "      <td>1493</td>\n",
       "      <td>4.80</td>\n",
       "      <td>Assad says Syria will comply with UN arms reso...</td>\n",
       "      <td>Syria's Assad vows to comply with U.N. resolution</td>\n",
       "    </tr>\n",
       "    <tr>\n",
       "      <th>5549</th>\n",
       "      <td>main-news</td>\n",
       "      <td>headlines</td>\n",
       "      <td>2015</td>\n",
       "      <td>1496</td>\n",
       "      <td>4.60</td>\n",
       "      <td>South Korean President Sorry For Ferry Response</td>\n",
       "      <td>S. Korean president 'sorry' for ferry disaster</td>\n",
       "    </tr>\n",
       "    <tr>\n",
       "      <th>5550</th>\n",
       "      <td>main-news</td>\n",
       "      <td>headlines</td>\n",
       "      <td>2015</td>\n",
       "      <td>1498</td>\n",
       "      <td>0.00</td>\n",
       "      <td>Food price hikes raise concerns in Iran</td>\n",
       "      <td>American Chris Horner wins Tour of Spain</td>\n",
       "    </tr>\n",
       "    <tr>\n",
       "      <th>5551</th>\n",
       "      <td>main-news</td>\n",
       "      <td>headlines</td>\n",
       "      <td>2015</td>\n",
       "      <td>1499</td>\n",
       "      <td>2.00</td>\n",
       "      <td>Obama made last-minute decision on Syria approval</td>\n",
       "      <td>Obama mulls limited military action in Syria</td>\n",
       "    </tr>\n",
       "  </tbody>\n",
       "</table>\n",
       "<p>5552 rows × 7 columns</p>\n",
       "</div>"
      ],
      "text/plain": [
       "              genre   filename      year  trash  score  \\\n",
       "0     main-captions     MSRvid  2012test      1   5.00   \n",
       "1     main-captions     MSRvid  2012test      4   3.80   \n",
       "2     main-captions     MSRvid  2012test      5   3.80   \n",
       "3     main-captions     MSRvid  2012test      6   2.60   \n",
       "4     main-captions     MSRvid  2012test      9   4.25   \n",
       "...             ...        ...       ...    ...    ...   \n",
       "5547      main-news  headlines      2015   1489   1.20   \n",
       "5548      main-news  headlines      2015   1493   4.80   \n",
       "5549      main-news  headlines      2015   1496   4.60   \n",
       "5550      main-news  headlines      2015   1498   0.00   \n",
       "5551      main-news  headlines      2015   1499   2.00   \n",
       "\n",
       "                                                     s1  \\\n",
       "0                                A plane is taking off.   \n",
       "1                       A man is playing a large flute.   \n",
       "2         A man is spreading shreded cheese on a pizza.   \n",
       "3                          Three men are playing chess.   \n",
       "4                           A man is playing the cello.   \n",
       "...                                                 ...   \n",
       "5547      Palestinian hunger striker, Israel reach deal   \n",
       "5548  Assad says Syria will comply with UN arms reso...   \n",
       "5549    South Korean President Sorry For Ferry Response   \n",
       "5550            Food price hikes raise concerns in Iran   \n",
       "5551  Obama made last-minute decision on Syria approval   \n",
       "\n",
       "                                                     s2  \n",
       "0                           An air plane is taking off.  \n",
       "1                             A man is playing a flute.  \n",
       "2     A man is spreading shredded cheese on an uncoo...  \n",
       "3                            Two men are playing chess.  \n",
       "4                    A man seated is playing the cello.  \n",
       "...                                                 ...  \n",
       "5547      Palestinian activist detained in Israeli raid  \n",
       "5548  Syria's Assad vows to comply with U.N. resolution  \n",
       "5549     S. Korean president 'sorry' for ferry disaster  \n",
       "5550           American Chris Horner wins Tour of Spain  \n",
       "5551       Obama mulls limited military action in Syria  \n",
       "\n",
       "[5552 rows x 7 columns]"
      ]
     },
     "execution_count": 4,
     "metadata": {},
     "output_type": "execute_result"
    }
   ],
   "source": [
    "df"
   ]
  },
  {
   "cell_type": "code",
   "execution_count": 5,
   "id": "465c3f48",
   "metadata": {},
   "outputs": [],
   "source": [
    "model = SentenceTransformer('all-MiniLM-L6-v2')"
   ]
  },
  {
   "cell_type": "code",
   "execution_count": 6,
   "id": "0c4fc81f",
   "metadata": {},
   "outputs": [
    {
     "data": {
      "text/plain": [
       "(5552, 384)"
      ]
     },
     "execution_count": 6,
     "metadata": {},
     "output_type": "execute_result"
    }
   ],
   "source": [
    "s1_embeds = model.encode(df.s1, device='cuda:0')\n",
    "# normalize embeddings\n",
    "s1_embeds = s1_embeds / np.linalg.norm(s1_embeds, axis=-1)[:, None]\n",
    "s1_embeds.shape"
   ]
  },
  {
   "cell_type": "code",
   "execution_count": 7,
   "id": "352c0ab5",
   "metadata": {},
   "outputs": [
    {
     "data": {
      "text/plain": [
       "(5552, 384)"
      ]
     },
     "execution_count": 7,
     "metadata": {},
     "output_type": "execute_result"
    }
   ],
   "source": [
    "s2_embeds = model.encode(df.s2, device='cuda:0')\n",
    "# normalize embeddings\n",
    "s2_embeds = s2_embeds / np.linalg.norm(s2_embeds, axis=-1)[:, None]\n",
    "s2_embeds.shape"
   ]
  },
  {
   "cell_type": "code",
   "execution_count": 8,
   "id": "41d62085",
   "metadata": {},
   "outputs": [],
   "source": [
    "similarities = (s1_embeds[:, None, :] @ s2_embeds[:, :, None]).squeeze()"
   ]
  },
  {
   "cell_type": "code",
   "execution_count": 9,
   "id": "2dc8c52f",
   "metadata": {},
   "outputs": [
    {
     "name": "stdout",
     "output_type": "stream",
     "text": [
      "(5552,)\n"
     ]
    },
    {
     "data": {
      "text/plain": [
       "(0.0, 1.0)"
      ]
     },
     "execution_count": 9,
     "metadata": {},
     "output_type": "execute_result"
    }
   ],
   "source": [
    "# normalize to 0 .. 1 range (should already be so)\n",
    "similarities = (similarities - similarities.min()) / (similarities.max() - similarities.min())\n",
    "\n",
    "print(similarities.shape)\n",
    "similarities.min(), similarities.max()"
   ]
  },
  {
   "cell_type": "code",
   "execution_count": 10,
   "id": "25dbb418",
   "metadata": {},
   "outputs": [
    {
     "data": {
      "text/plain": [
       "(0.8386030111528666, 0.0)"
      ]
     },
     "execution_count": 10,
     "metadata": {},
     "output_type": "execute_result"
    }
   ],
   "source": [
    "pearsonr(similarities, df.score / 5)"
   ]
  },
  {
   "cell_type": "code",
   "execution_count": 11,
   "id": "4402dfb0",
   "metadata": {},
   "outputs": [
    {
     "data": {
      "text/plain": [
       "0                                   A plane is taking off.\n",
       "1                          A man is playing a large flute.\n",
       "2            A man is spreading shreded cheese on a pizza.\n",
       "3                             Three men are playing chess.\n",
       "4                              A man is playing the cello.\n",
       "                               ...                        \n",
       "10188        Palestinian activist detained in Israeli raid\n",
       "10189    Syria's Assad vows to comply with U.N. resolution\n",
       "10190       S. Korean president 'sorry' for ferry disaster\n",
       "10191             American Chris Horner wins Tour of Spain\n",
       "10192         Obama mulls limited military action in Syria\n",
       "Length: 10193, dtype: object"
      ]
     },
     "execution_count": 11,
     "metadata": {},
     "output_type": "execute_result"
    }
   ],
   "source": [
    "sentences = pd.concat([df.s1, df.s2]).drop_duplicates().reset_index(drop=True)\n",
    "sentences"
   ]
  },
  {
   "cell_type": "code",
   "execution_count": 12,
   "id": "7188fa03",
   "metadata": {},
   "outputs": [],
   "source": [
    "model = SentenceTransformer('all-MiniLM-L6-v2')"
   ]
  },
  {
   "cell_type": "code",
   "execution_count": 13,
   "id": "05a885bf",
   "metadata": {},
   "outputs": [
    {
     "data": {
      "text/plain": [
       "(10193, 384)"
      ]
     },
     "execution_count": 13,
     "metadata": {},
     "output_type": "execute_result"
    }
   ],
   "source": [
    "embeddings = model.encode(sentences, device='cuda:0')\n",
    "# normalize embeddings\n",
    "embeddings = embeddings / np.linalg.norm(embeddings, axis=-1)[:, None]\n",
    "embeddings.shape"
   ]
  },
  {
   "cell_type": "code",
   "execution_count": 14,
   "id": "f8cae4b5",
   "metadata": {},
   "outputs": [
    {
     "data": {
      "text/plain": [
       "(103897249, 2)"
      ]
     },
     "execution_count": 14,
     "metadata": {},
     "output_type": "execute_result"
    }
   ],
   "source": [
    "n = len(sentences)  # 1000\n",
    "index_pairs = np.concatenate(np.stack(np.mgrid[:n, :n], axis=2))\n",
    "index_pairs.shape"
   ]
  },
  {
   "cell_type": "code",
   "execution_count": 15,
   "id": "8527b8b9",
   "metadata": {},
   "outputs": [
    {
     "data": {
      "text/plain": [
       "torch.Size([8192, 2])"
      ]
     },
     "execution_count": 15,
     "metadata": {},
     "output_type": "execute_result"
    }
   ],
   "source": [
    "dataloader = torch.utils.data.DataLoader(index_pairs, batch_size=8192)\n",
    "next(iter(dataloader)).shape"
   ]
  },
  {
   "cell_type": "code",
   "execution_count": null,
   "id": "0caef6cd",
   "metadata": {},
   "outputs": [
    {
     "data": {
      "application/vnd.jupyter.widget-view+json": {
       "model_id": "8dcd7d543a4c4fe186b5728916213bed",
       "version_major": 2,
       "version_minor": 0
      },
      "text/plain": [
       "  0%|          | 0/12683 [00:00<?, ?it/s]"
      ]
     },
     "metadata": {},
     "output_type": "display_data"
    }
   ],
   "source": [
    "similarities = []\n",
    "\n",
    "for idx in tqdm(dataloader):\n",
    "    s1_embeds = embeddings[idx[:, 0]]\n",
    "    s2_embeds = embeddings[idx[:, 1]]\n",
    "    # compute inner product\n",
    "    similarities.append((s1_embeds[:, None, :] @ s2_embeds[:, :, None]).squeeze())\n",
    "\n",
    "similarities = np.concatenate(similarities)\n",
    "\n",
    "# normalize to 0 .. 1 range (should already be so)\n",
    "similarities = (similarities - similarities.min()) / (similarities.max() - similarities.min())\n",
    "\n",
    "print(similarities.shape)\n",
    "similarities.min(), similarities.max()"
   ]
  },
  {
   "cell_type": "code",
   "execution_count": null,
   "id": "f457d9de",
   "metadata": {},
   "outputs": [],
   "source": [
    "plt.hist(similarities, bins=100)\n",
    "plt.show()"
   ]
  },
  {
   "cell_type": "code",
   "execution_count": null,
   "id": "9b16f90b",
   "metadata": {},
   "outputs": [],
   "source": [
    "# select evenly distributed\n",
    "bins = np.histogram_bin_edges(similarities, bins=1000)\n",
    "indices = np.digitize(similarities, bins)\n",
    "indices.shape"
   ]
  },
  {
   "cell_type": "code",
   "execution_count": null,
   "id": "f3546fac",
   "metadata": {},
   "outputs": [],
   "source": [
    "N_SAMPLE = 1_000\n",
    "sample_idxs = []\n",
    "\n",
    "for i in tqdm(range(1000)):\n",
    "    bin_indices = np.where(indices == i)[0]\n",
    "    if len(bin_indices) > 1:\n",
    "        sample_idxs.append(np.random.choice(bin_indices, size=N_SAMPLE))\n",
    "\n",
    "sample_idxs = np.concatenate(sample_idxs)\n",
    "subset = similarities[sample_idxs]\n",
    "subset.shape"
   ]
  },
  {
   "cell_type": "code",
   "execution_count": null,
   "id": "31c191b3",
   "metadata": {},
   "outputs": [],
   "source": [
    "plt.hist(subset, bins=100)\n",
    "plt.show()"
   ]
  },
  {
   "cell_type": "code",
   "execution_count": null,
   "id": "58373b84",
   "metadata": {},
   "outputs": [],
   "source": [
    "s1 = sentences[index_pairs[:, 0]].iloc[sample_idxs]\n",
    "s2 = sentences[index_pairs[:, 1]].iloc[sample_idxs]\n",
    "subset = pd.Series(subset)\n",
    "len(s1), len(s2), len(subset)"
   ]
  },
  {
   "cell_type": "code",
   "execution_count": null,
   "id": "01d90400",
   "metadata": {},
   "outputs": [],
   "source": [
    "# Save to disk\n",
    "df_scored = pd.DataFrame({\n",
    "    \"s1\": s1.tolist(),\n",
    "    \"s2\": s2.tolist(),\n",
    "    \"score\": subset.tolist(),\n",
    "})\n",
    "df_scored"
   ]
  },
  {
   "cell_type": "code",
   "execution_count": 27,
   "id": "ea5e71d8",
   "metadata": {},
   "outputs": [],
   "source": [
    "df_scored.to_feather(output_dir / \"subset.feather\")"
   ]
  }
 ],
 "metadata": {
  "kernelspec": {
   "display_name": "main",
   "language": "python",
   "name": "main"
  },
  "language_info": {
   "codemirror_mode": {
    "name": "ipython",
    "version": 3
   },
   "file_extension": ".py",
   "mimetype": "text/x-python",
   "name": "python",
   "nbconvert_exporter": "python",
   "pygments_lexer": "ipython3",
   "version": "3.9.0"
  }
 },
 "nbformat": 4,
 "nbformat_minor": 5
}
