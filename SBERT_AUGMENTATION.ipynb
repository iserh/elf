{
 "cells": [
  {
   "cell_type": "markdown",
   "id": "50c455bc",
   "metadata": {},
   "source": [
    "# Augmenting STS Dataset with SBERT"
   ]
  },
  {
   "cell_type": "markdown",
   "id": "accec9c0",
   "metadata": {},
   "source": [
    "## Requirements"
   ]
  },
  {
   "cell_type": "code",
   "execution_count": 22,
   "id": "69ea1445",
   "metadata": {},
   "outputs": [],
   "source": [
    "import numpy as np\n",
    "import pandas as pd\n",
    "import torch\n",
    "import torch.nn.functional as F\n",
    "import csv\n",
    "\n",
    "from sentence_similarity.data import STSBenchmark\n",
    "from sentence_transformers import SentenceTransformer\n",
    "from matplotlib import pyplot as plt\n",
    "from sklearn.preprocessing import MinMaxScaler\n",
    "from scipy.stats import spearmanr\n",
    "from tqdm.notebook import tqdm\n",
    "from pathlib import Path\n",
    "\n",
    "data_dir = Path(\"data\")\n",
    "assert data_dir.exists()\n",
    "\n",
    "device = torch.device(\"cuda:0\") if torch.cuda.is_available() else torch.device(\"cpu\")"
   ]
  },
  {
   "cell_type": "markdown",
   "id": "c33af834",
   "metadata": {},
   "source": [
    "Load the STS Benchmark dataset"
   ]
  },
  {
   "cell_type": "code",
   "execution_count": 10,
   "id": "9cdc7766",
   "metadata": {},
   "outputs": [],
   "source": [
    "benchmark = STSBenchmark(data_dir, partition=\"train\")"
   ]
  },
  {
   "cell_type": "code",
   "execution_count": 32,
   "id": "d721fc6a",
   "metadata": {},
   "outputs": [
    {
     "data": {
      "image/png": "[encoded data removed]",
      "text/plain": [
       "<Figure size 432x288 with 1 Axes>"
      ]
     },
     "metadata": {
      "needs_background": "light"
     },
     "output_type": "display_data"
    }
   ],
   "source": [
    "plt.hist(benchmark.score / 5, bins=10)\n",
    "plt.title(\"STS-B score distribution\")\n",
    "plt.show()"
   ]
  },
  {
   "cell_type": "markdown",
   "id": "a18a16ed",
   "metadata": {},
   "source": [
    "## Compute Embeddings"
   ]
  },
  {
   "cell_type": "code",
   "execution_count": 14,
   "id": "465c3f48",
   "metadata": {},
   "outputs": [],
   "source": [
    "model = SentenceTransformer(\"all-mpnet-base-v2\")"
   ]
  },
  {
   "cell_type": "code",
   "execution_count": 16,
   "id": "0c4fc81f",
   "metadata": {},
   "outputs": [
    {
     "name": "stdout",
     "output_type": "stream",
     "text": [
      "torch.Size([5552, 768]) torch.Size([5552, 768])\n"
     ]
    }
   ],
   "source": [
    "s1_embeds = model.encode(benchmark.s1, convert_to_tensor=True, device=device)\n",
    "s2_embeds = model.encode(benchmark.s2, convert_to_tensor=True, device=device)\n",
    "# normalize embeddings, reshape for later cosine similarity\n",
    "s1_embeds = F.normalize(s1_embeds)\n",
    "s2_embeds = F.normalize(s2_embeds)\n",
    "# print shapes\n",
    "print(s1_embeds.shape, s2_embeds.shape)"
   ]
  },
  {
   "cell_type": "code",
   "execution_count": 40,
   "id": "9b3e617e",
   "metadata": {},
   "outputs": [
    {
     "data": {
      "text/plain": [
       "(5552,)"
      ]
     },
     "execution_count": 40,
     "metadata": {},
     "output_type": "execute_result"
    }
   ],
   "source": [
    "sbert_scores = (s1_embeds.unsqueeze(1) @ s2_embeds.unsqueeze(2)).squeeze().cpu().numpy()\n",
    "\n",
    "scaler = MinMaxScaler()\n",
    "sbert_scores = scaler.fit_transform(sbert_scores.reshape(-1, 1)).squeeze()\n",
    "\n",
    "sbert_scores.shape"
   ]
  },
  {
   "cell_type": "code",
   "execution_count": 41,
   "id": "e304d7f3",
   "metadata": {},
   "outputs": [
    {
     "name": "stdout",
     "output_type": "stream",
     "text": [
      "Spearmans rank: SpearmanrResult(correlation=0.842105073697038, pvalue=0.0)\n"
     ]
    }
   ],
   "source": [
    "print(\"Spearmans rank:\", spearmanr(benchmark.score, sbert_scores))"
   ]
  },
  {
   "cell_type": "code",
   "execution_count": 42,
   "id": "07a5bb92",
   "metadata": {},
   "outputs": [
    {
     "data": {
      "image/png": "[encoded data removed]",
      "text/plain": [
       "<Figure size 432x288 with 1 Axes>"
      ]
     },
     "metadata": {
      "needs_background": "light"
     },
     "output_type": "display_data"
    }
   ],
   "source": [
    "plt.hist(sbert_scores, bins=10)\n",
    "plt.title(\"STS-B sbert score distribution\")\n",
    "plt.show()"
   ]
  },
  {
   "cell_type": "code",
   "execution_count": 43,
   "id": "37fb4048",
   "metadata": {},
   "outputs": [
    {
     "data": {
      "text/html": [
       "<div>\n",
       "<style scoped>\n",
       "    .dataframe tbody tr th:only-of-type {\n",
       "        vertical-align: middle;\n",
       "    }\n",
       "\n",
       "    .dataframe tbody tr th {\n",
       "        vertical-align: top;\n",
       "    }\n",
       "\n",
       "    .dataframe thead th {\n",
       "        text-align: right;\n",
       "    }\n",
       "</style>\n",
       "<table border=\"1\" class=\"dataframe\">\n",
       "  <thead>\n",
       "    <tr style=\"text-align: right;\">\n",
       "      <th></th>\n",
       "      <th>idx1</th>\n",
       "      <th>idx2</th>\n",
       "      <th>score</th>\n",
       "    </tr>\n",
       "  </thead>\n",
       "  <tbody>\n",
       "    <tr>\n",
       "      <th>0</th>\n",
       "      <td>0</td>\n",
       "      <td>0</td>\n",
       "      <td>0.964444</td>\n",
       "    </tr>\n",
       "    <tr>\n",
       "      <th>1</th>\n",
       "      <td>1</td>\n",
       "      <td>1</td>\n",
       "      <td>0.884623</td>\n",
       "    </tr>\n",
       "    <tr>\n",
       "      <th>2</th>\n",
       "      <td>2</td>\n",
       "      <td>2</td>\n",
       "      <td>0.887131</td>\n",
       "    </tr>\n",
       "    <tr>\n",
       "      <th>3</th>\n",
       "      <td>3</td>\n",
       "      <td>3</td>\n",
       "      <td>0.826496</td>\n",
       "    </tr>\n",
       "    <tr>\n",
       "      <th>4</th>\n",
       "      <td>4</td>\n",
       "      <td>4</td>\n",
       "      <td>0.913931</td>\n",
       "    </tr>\n",
       "    <tr>\n",
       "      <th>...</th>\n",
       "      <td>...</td>\n",
       "      <td>...</td>\n",
       "      <td>...</td>\n",
       "    </tr>\n",
       "    <tr>\n",
       "      <th>5547</th>\n",
       "      <td>5547</td>\n",
       "      <td>5547</td>\n",
       "      <td>0.528989</td>\n",
       "    </tr>\n",
       "    <tr>\n",
       "      <th>5548</th>\n",
       "      <td>5548</td>\n",
       "      <td>5548</td>\n",
       "      <td>0.927525</td>\n",
       "    </tr>\n",
       "    <tr>\n",
       "      <th>5549</th>\n",
       "      <td>5549</td>\n",
       "      <td>5549</td>\n",
       "      <td>0.914124</td>\n",
       "    </tr>\n",
       "    <tr>\n",
       "      <th>5550</th>\n",
       "      <td>5550</td>\n",
       "      <td>5550</td>\n",
       "      <td>0.115019</td>\n",
       "    </tr>\n",
       "    <tr>\n",
       "      <th>5551</th>\n",
       "      <td>5551</td>\n",
       "      <td>5551</td>\n",
       "      <td>0.669097</td>\n",
       "    </tr>\n",
       "  </tbody>\n",
       "</table>\n",
       "<p>5552 rows × 3 columns</p>\n",
       "</div>"
      ],
      "text/plain": [
       "      idx1  idx2     score\n",
       "0        0     0  0.964444\n",
       "1        1     1  0.884623\n",
       "2        2     2  0.887131\n",
       "3        3     3  0.826496\n",
       "4        4     4  0.913931\n",
       "...    ...   ...       ...\n",
       "5547  5547  5547  0.528989\n",
       "5548  5548  5548  0.927525\n",
       "5549  5549  5549  0.914124\n",
       "5550  5550  5550  0.115019\n",
       "5551  5551  5551  0.669097\n",
       "\n",
       "[5552 rows x 3 columns]"
      ]
     },
     "execution_count": 43,
     "metadata": {},
     "output_type": "execute_result"
    }
   ],
   "source": [
    "df_sbert = pd.DataFrame({\n",
    "    \"idx1\": list(range(len(benchmark.s1))),\n",
    "    \"idx2\": list(range(len(benchmark.s2))),\n",
    "    \"score\": sbert_scores,\n",
    "})\n",
    "df_sbert"
   ]
  },
  {
   "cell_type": "code",
   "execution_count": 44,
   "id": "ed22fa2b",
   "metadata": {},
   "outputs": [],
   "source": [
    "df_sbert.to_feather(data_dir / \"df_sbert.feather\")"
   ]
  },
  {
   "cell_type": "markdown",
   "id": "d84d2e32",
   "metadata": {},
   "source": [
    "## Create new sentence pairs and score them via cosine similarity"
   ]
  },
  {
   "cell_type": "code",
   "execution_count": 17,
   "id": "32540010",
   "metadata": {},
   "outputs": [
    {
     "data": {
      "text/plain": [
       "(27441810, 2)"
      ]
     },
     "execution_count": 17,
     "metadata": {},
     "output_type": "execute_result"
    }
   ],
   "source": [
    "# get the index of the unique sentences\n",
    "s1_unique_idxs = benchmark.s1.drop_duplicates().index.values\n",
    "s2_unique_idxs = benchmark.s2.drop_duplicates().index.values\n",
    "# create array that holds all possible index combinations\n",
    "index_pairs = np.stack(np.meshgrid(s1_unique_idxs, s2_unique_idxs), axis=-1).reshape(-1, 2)\n",
    "index_pairs.shape"
   ]
  },
  {
   "cell_type": "code",
   "execution_count": 8,
   "id": "7b4cc81f",
   "metadata": {},
   "outputs": [
    {
     "data": {
      "application/vnd.jupyter.widget-view+json": {
       "model_id": "d18595a553954022bf1789282d91a3f2",
       "version_major": 2,
       "version_minor": 0
      },
      "text/plain": [
       "  0%|          | 0/3350 [00:00<?, ?it/s]"
      ]
     },
     "metadata": {},
     "output_type": "display_data"
    }
   ],
   "source": [
    "dataloader = torch.utils.data.DataLoader(index_pairs, batch_size=8192)\n",
    "scores = torch.cat([\n",
    "    s1_embeds[idxs[:, 0]] @ s2_embeds[idxs[:, 1]]\n",
    "    for idxs in tqdm(dataloader)\n",
    "]).squeeze().cpu()"
   ]
  },
  {
   "cell_type": "code",
   "execution_count": 9,
   "id": "4402dfb0",
   "metadata": {},
   "outputs": [
    {
     "data": {
      "text/html": [
       "<div>\n",
       "<style scoped>\n",
       "    .dataframe tbody tr th:only-of-type {\n",
       "        vertical-align: middle;\n",
       "    }\n",
       "\n",
       "    .dataframe tbody tr th {\n",
       "        vertical-align: top;\n",
       "    }\n",
       "\n",
       "    .dataframe thead th {\n",
       "        text-align: right;\n",
       "    }\n",
       "</style>\n",
       "<table border=\"1\" class=\"dataframe\">\n",
       "  <thead>\n",
       "    <tr style=\"text-align: right;\">\n",
       "      <th></th>\n",
       "      <th>idx1</th>\n",
       "      <th>idx2</th>\n",
       "      <th>score</th>\n",
       "    </tr>\n",
       "  </thead>\n",
       "  <tbody>\n",
       "    <tr>\n",
       "      <th>0</th>\n",
       "      <td>0</td>\n",
       "      <td>0</td>\n",
       "      <td>0.939303</td>\n",
       "    </tr>\n",
       "    <tr>\n",
       "      <th>1</th>\n",
       "      <td>1</td>\n",
       "      <td>0</td>\n",
       "      <td>0.067502</td>\n",
       "    </tr>\n",
       "    <tr>\n",
       "      <th>2</th>\n",
       "      <td>2</td>\n",
       "      <td>0</td>\n",
       "      <td>0.063003</td>\n",
       "    </tr>\n",
       "    <tr>\n",
       "      <th>3</th>\n",
       "      <td>3</td>\n",
       "      <td>0</td>\n",
       "      <td>-0.007448</td>\n",
       "    </tr>\n",
       "    <tr>\n",
       "      <th>4</th>\n",
       "      <td>4</td>\n",
       "      <td>0</td>\n",
       "      <td>0.039570</td>\n",
       "    </tr>\n",
       "    <tr>\n",
       "      <th>...</th>\n",
       "      <td>...</td>\n",
       "      <td>...</td>\n",
       "      <td>...</td>\n",
       "    </tr>\n",
       "    <tr>\n",
       "      <th>27441805</th>\n",
       "      <td>5547</td>\n",
       "      <td>5551</td>\n",
       "      <td>0.220151</td>\n",
       "    </tr>\n",
       "    <tr>\n",
       "      <th>27441806</th>\n",
       "      <td>5548</td>\n",
       "      <td>5551</td>\n",
       "      <td>0.609874</td>\n",
       "    </tr>\n",
       "    <tr>\n",
       "      <th>27441807</th>\n",
       "      <td>5549</td>\n",
       "      <td>5551</td>\n",
       "      <td>0.157189</td>\n",
       "    </tr>\n",
       "    <tr>\n",
       "      <th>27441808</th>\n",
       "      <td>5550</td>\n",
       "      <td>5551</td>\n",
       "      <td>0.143906</td>\n",
       "    </tr>\n",
       "    <tr>\n",
       "      <th>27441809</th>\n",
       "      <td>5551</td>\n",
       "      <td>5551</td>\n",
       "      <td>0.689786</td>\n",
       "    </tr>\n",
       "  </tbody>\n",
       "</table>\n",
       "<p>27441810 rows × 3 columns</p>\n",
       "</div>"
      ],
      "text/plain": [
       "          idx1  idx2     score\n",
       "0            0     0  0.939303\n",
       "1            1     0  0.067502\n",
       "2            2     0  0.063003\n",
       "3            3     0 -0.007448\n",
       "4            4     0  0.039570\n",
       "...        ...   ...       ...\n",
       "27441805  5547  5551  0.220151\n",
       "27441806  5548  5551  0.609874\n",
       "27441807  5549  5551  0.157189\n",
       "27441808  5550  5551  0.143906\n",
       "27441809  5551  5551  0.689786\n",
       "\n",
       "[27441810 rows x 3 columns]"
      ]
     },
     "execution_count": 9,
     "metadata": {},
     "output_type": "execute_result"
    }
   ],
   "source": [
    "df_augment = pd.DataFrame({\n",
    "    \"idx1\": index_pairs[..., 0],\n",
    "    \"idx2\": index_pairs[..., 1],\n",
    "    \"score\": scores.numpy()\n",
    "})\n",
    "df_augment"
   ]
  },
  {
   "cell_type": "code",
   "execution_count": 10,
   "id": "f457d9de",
   "metadata": {},
   "outputs": [
    {
     "data": {
      "image/png": "[encoded data removed]",
      "text/plain": [
       "<Figure size 432x288 with 1 Axes>"
      ]
     },
     "metadata": {
      "needs_background": "light"
     },
     "output_type": "display_data"
    }
   ],
   "source": [
    "plt.hist(df_augment.score, bins=100)\n",
    "plt.show()"
   ]
  },
  {
   "cell_type": "code",
   "execution_count": 11,
   "id": "9b16f90b",
   "metadata": {},
   "outputs": [
    {
     "data": {
      "text/plain": [
       "(27441810,)"
      ]
     },
     "execution_count": 11,
     "metadata": {},
     "output_type": "execute_result"
    }
   ],
   "source": [
    "# select evenly distributed\n",
    "bins = np.histogram_bin_edges(df_augment.score, bins=1000)\n",
    "indices = np.digitize(df_augment.score, bins)\n",
    "indices.shape"
   ]
  },
  {
   "cell_type": "code",
   "execution_count": 12,
   "id": "789aa2ef",
   "metadata": {},
   "outputs": [
    {
     "data": {
      "application/vnd.jupyter.widget-view+json": {
       "model_id": "f8b04be6b6714592a95239a5d60c8815",
       "version_major": 2,
       "version_minor": 0
      },
      "text/plain": [
       "  0%|          | 0/1000 [00:00<?, ?it/s]"
      ]
     },
     "metadata": {},
     "output_type": "display_data"
    }
   ],
   "source": [
    "N_SAMPLE = 1_000\n",
    "sample_idxs = []\n",
    "\n",
    "for i in tqdm(range(1000)):\n",
    "    bin_indices = np.where(indices == i)[0]\n",
    "    if len(bin_indices) > 1:\n",
    "        sample_idxs.append(np.random.choice(bin_indices, size=N_SAMPLE))\n",
    "\n",
    "sample_idxs = np.concatenate(sample_idxs)"
   ]
  },
  {
   "cell_type": "code",
   "execution_count": 13,
   "id": "4bd8c08f",
   "metadata": {},
   "outputs": [
    {
     "data": {
      "text/html": [
       "<div>\n",
       "<style scoped>\n",
       "    .dataframe tbody tr th:only-of-type {\n",
       "        vertical-align: middle;\n",
       "    }\n",
       "\n",
       "    .dataframe tbody tr th {\n",
       "        vertical-align: top;\n",
       "    }\n",
       "\n",
       "    .dataframe thead th {\n",
       "        text-align: right;\n",
       "    }\n",
       "</style>\n",
       "<table border=\"1\" class=\"dataframe\">\n",
       "  <thead>\n",
       "    <tr style=\"text-align: right;\">\n",
       "      <th></th>\n",
       "      <th>index</th>\n",
       "      <th>idx1</th>\n",
       "      <th>idx2</th>\n",
       "      <th>score</th>\n",
       "    </tr>\n",
       "  </thead>\n",
       "  <tbody>\n",
       "    <tr>\n",
       "      <th>0</th>\n",
       "      <td>7660665</td>\n",
       "      <td>45</td>\n",
       "      <td>1662</td>\n",
       "      <td>-0.362852</td>\n",
       "    </tr>\n",
       "    <tr>\n",
       "      <th>1</th>\n",
       "      <td>7660627</td>\n",
       "      <td>7</td>\n",
       "      <td>1662</td>\n",
       "      <td>-0.363335</td>\n",
       "    </tr>\n",
       "    <tr>\n",
       "      <th>2</th>\n",
       "      <td>7660665</td>\n",
       "      <td>45</td>\n",
       "      <td>1662</td>\n",
       "      <td>-0.362852</td>\n",
       "    </tr>\n",
       "    <tr>\n",
       "      <th>3</th>\n",
       "      <td>7660665</td>\n",
       "      <td>45</td>\n",
       "      <td>1662</td>\n",
       "      <td>-0.362852</td>\n",
       "    </tr>\n",
       "    <tr>\n",
       "      <th>4</th>\n",
       "      <td>7660665</td>\n",
       "      <td>45</td>\n",
       "      <td>1662</td>\n",
       "      <td>-0.362852</td>\n",
       "    </tr>\n",
       "    <tr>\n",
       "      <th>...</th>\n",
       "      <td>...</td>\n",
       "      <td>...</td>\n",
       "      <td>...</td>\n",
       "      <td>...</td>\n",
       "    </tr>\n",
       "    <tr>\n",
       "      <th>951995</th>\n",
       "      <td>23909910</td>\n",
       "      <td>4851</td>\n",
       "      <td>4851</td>\n",
       "      <td>0.998533</td>\n",
       "    </tr>\n",
       "    <tr>\n",
       "      <th>951996</th>\n",
       "      <td>2828583</td>\n",
       "      <td>493</td>\n",
       "      <td>617</td>\n",
       "      <td>0.997185</td>\n",
       "    </tr>\n",
       "    <tr>\n",
       "      <th>951997</th>\n",
       "      <td>2828583</td>\n",
       "      <td>493</td>\n",
       "      <td>617</td>\n",
       "      <td>0.997185</td>\n",
       "    </tr>\n",
       "    <tr>\n",
       "      <th>951998</th>\n",
       "      <td>2828583</td>\n",
       "      <td>493</td>\n",
       "      <td>617</td>\n",
       "      <td>0.997185</td>\n",
       "    </tr>\n",
       "    <tr>\n",
       "      <th>951999</th>\n",
       "      <td>2828583</td>\n",
       "      <td>493</td>\n",
       "      <td>617</td>\n",
       "      <td>0.997185</td>\n",
       "    </tr>\n",
       "  </tbody>\n",
       "</table>\n",
       "<p>952000 rows × 4 columns</p>\n",
       "</div>"
      ],
      "text/plain": [
       "           index  idx1  idx2     score\n",
       "0        7660665    45  1662 -0.362852\n",
       "1        7660627     7  1662 -0.363335\n",
       "2        7660665    45  1662 -0.362852\n",
       "3        7660665    45  1662 -0.362852\n",
       "4        7660665    45  1662 -0.362852\n",
       "...          ...   ...   ...       ...\n",
       "951995  23909910  4851  4851  0.998533\n",
       "951996   2828583   493   617  0.997185\n",
       "951997   2828583   493   617  0.997185\n",
       "951998   2828583   493   617  0.997185\n",
       "951999   2828583   493   617  0.997185\n",
       "\n",
       "[952000 rows x 4 columns]"
      ]
     },
     "execution_count": 13,
     "metadata": {},
     "output_type": "execute_result"
    }
   ],
   "source": [
    "df_augment = df_augment.iloc[sample_idxs].reset_index()\n",
    "df_augment"
   ]
  },
  {
   "cell_type": "code",
   "execution_count": 14,
   "id": "31c191b3",
   "metadata": {},
   "outputs": [
    {
     "data": {
      "image/png": "[encoded data removed]",
      "text/plain": [
       "<Figure size 432x288 with 1 Axes>"
      ]
     },
     "metadata": {
      "needs_background": "light"
     },
     "output_type": "display_data"
    }
   ],
   "source": [
    "plt.hist(df_augment.score, bins=100)\n",
    "plt.show()"
   ]
  },
  {
   "cell_type": "code",
   "execution_count": 15,
   "id": "ea5e71d8",
   "metadata": {},
   "outputs": [],
   "source": [
    "df_augment.to_feather(data_dir / \"df_augment.feather\")"
   ]
  }
 ],
 "metadata": {
  "kernelspec": {
   "display_name": "Python 3 (ipykernel)",
   "language": "python",
   "name": "python3"
  },
  "language_info": {
   "codemirror_mode": {
    "name": "ipython",
    "version": 3
   },
   "file_extension": ".py",
   "mimetype": "text/x-python",
   "name": "python",
   "nbconvert_exporter": "python",
   "pygments_lexer": "ipython3",
   "version": "3.9.0"
  }
 },
 "nbformat": 4,
 "nbformat_minor": 5
}
